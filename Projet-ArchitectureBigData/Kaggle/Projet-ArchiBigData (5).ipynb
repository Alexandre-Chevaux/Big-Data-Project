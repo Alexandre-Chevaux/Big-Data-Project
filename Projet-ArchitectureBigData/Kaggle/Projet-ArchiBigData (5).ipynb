{
 "cells": [
  {
   "cell_type": "markdown",
   "metadata": {},
   "source": [
    "# Projet Architecture Big Data"
   ]
  },
  {
   "cell_type": "markdown",
   "metadata": {},
   "source": [
    "## Matthieu GARRIGUE\n",
    "## Alexandre CHEVAUX\n",
    "## Mohammed HAJJI\n",
    "## Virgile AMATO"
   ]
  },
  {
   "cell_type": "code",
   "execution_count": 4,
   "metadata": {},
   "outputs": [],
   "source": [
    "# ElasticSearch v6.5.1\n",
    "import pandas as pd\n",
    "import elasticsearch as ES\n",
    "import pyspark\n",
    "import pymongo \n",
    "import sklearn as skl\n",
    "import sklearn.model_selection as skl_model_selection\n",
    "import sklearn.linear_model as skl_linear_mdl\n",
    "import sklearn.ensemble as skl_ensemble_mdl\n",
    "import sklearn.discriminant_analysis as skl_discriminant_analysis\n",
    "from sklearn.model_selection import cross_val_score\n",
    "import sklearn.metrics as skl_metrics\n",
    "from sklearn.feature_selection import SelectKBest\n",
    "from sklearn.feature_selection import chi2\n",
    "import numpy as np\n",
    "import seaborn as sns\n",
    "import matplotlib.pyplot as plt\n",
    "import subprocess\n",
    "import os\n",
    "import time\n",
    "import json\n",
    "import requests\n",
    "import webbrowser\n",
    "import getpass\n",
    "import time\n",
    "import datetime\n",
    "import platform\n",
    "import hdfs\n",
    "import csv\n",
    "#from sklearn.metrics import roc_curve,auc\n",
    "\n",
    "# Mongo DB Constants\n",
    "MONGO_PATH = \"C:/Program Files/MongoDB/Server/4.0/bin/mongod\"\n",
    "MONGO_PORT = \"27017\"\n",
    "MONGO_HOST = \"localhost\"\n",
    "MONGO_URI = MONGO_HOST + \":\" + MONGO_PORT\n",
    "MONGO_URL = \"http://\" + MONGO_URI\n",
    "\n",
    "# ElasticSearch Constants\n",
    "ES_PATH = \"C:/Users/Alexandre/elasticsearch-6.5.1/bin/elasticsearch.bat\"\n",
    "ES_PORT = \"9200\"\n",
    "ES_HOST = \"localhost\"\n",
    "ES_URI = ES_HOST + \":\" + ES_PORT\n",
    "ES_URL = \"http://\" + ES_URI\n",
    "\n",
    "# Kibana Constants\n",
    "KIBANA_PATH = \"C:/Users/Alexandre/kibana-6.5.1-windows-x86_64/bin/kibana.bat\"\n",
    "KIBANA_PORT = \"5601\"\n",
    "KIBANA_HOST = \"localhost\"\n",
    "KIBANA_URI = KIBANA_HOST + \":\" + KIBANA_PORT\n",
    "KIBANA_URL = \"http://\" + KIBANA_URI\n",
    "\n",
    "# Universal Constants\n",
    "DB_NAME = \"archi_big_data_db\"\n",
    "BITCOIN_DATASET_PATH = \"cryptocurrencypricehistory/bitcoin_price.csv\""
   ]
  },
  {
   "cell_type": "markdown",
   "metadata": {},
   "source": [
    "# Import et Traitement des Données"
   ]
  },
  {
   "cell_type": "markdown",
   "metadata": {},
   "source": [
    "## 1) Import des données"
   ]
  },
  {
   "cell_type": "markdown",
   "metadata": {},
   "source": [
    "### Lancement du serveur MongoDB"
   ]
  },
  {
   "cell_type": "code",
   "execution_count": 5,
   "metadata": {},
   "outputs": [
    {
     "name": "stdout",
     "output_type": "stream",
     "text": [
      "Starting MongoDB ...\n",
      "MongoDB OK.\n"
     ]
    }
   ],
   "source": [
    "# Starting MongoDB Process\n",
    "print(\"Starting MongoDB ...\")\n",
    "\n",
    "if platform.system() == \"Darwin\":\n",
    "    # Asking For Password, Then pipe it's value to mongo process\n",
    "    passwd = getpass.getpass(\"Please enter administrator password : \")\n",
    "    pass_proc = subprocess.Popen([\"echo\", str(passwd)],\n",
    "                                 stdout=subprocess.PIPE)\n",
    "    mongo_proc = subprocess.Popen([\"sudo\", \"-S\", \"mongod\"],\n",
    "                                  stdin=pass_proc.stdout,\n",
    "                                  stdout=subprocess.PIPE)\n",
    "    pass_proc.terminate()\n",
    "elif platform.system() == \"Windows\":\n",
    "    mongo_proc = subprocess.Popen([MONGO_PATH],\n",
    "                                  stdout=subprocess.PIPE)\n",
    "    \n",
    "elif platform.system() == \"Linux\":\n",
    "    mongo_proc = subprocess.Popen([\"mongod\"],stdout=subprocess.PIPE)\n",
    "\n",
    "else:\n",
    "    print(\"ERROR : PLATFORM NOT RECOGNIZED\")\n",
    "    sys.exit(0)\n",
    "    \n",
    "time.sleep(5)\n",
    "\n",
    "# Check If MongoDB Process is alright\n",
    "try:\n",
    "    check_mongod_status = requests.get(MONGO_URL)\n",
    "    check_mongod_status = check_mongod_status.text\n",
    "except Exception as e:\n",
    "    check_mongod_status = \"ERROR\"\n",
    "    print(e)\n",
    "    \n",
    "if \"MongoDB\" in check_mongod_status:\n",
    "    print(\"MongoDB OK.\")\n",
    "else:\n",
    "    print(\"ERROR WHILE CONNECTION TO MONGO DB\")"
   ]
  },
  {
   "cell_type": "markdown",
   "metadata": {},
   "source": [
    "### Connection au Client MongoDB"
   ]
  },
  {
   "cell_type": "code",
   "execution_count": 6,
   "metadata": {},
   "outputs": [
    {
     "data": {
      "text/plain": [
       "['Bitcoin.DailyPrice', 'Test', 'Train']"
      ]
     },
     "execution_count": 6,
     "metadata": {},
     "output_type": "execute_result"
    }
   ],
   "source": [
    "# Connection to MongoDB\n",
    "conn = pymongo.MongoClient(MONGO_URI)\n",
    "dbs = conn.list_database_names()\n",
    "dbs\n",
    "# Connect to MongoDB Database\n",
    "db = conn[DB_NAME]\n",
    "collections_list = db.list_collection_names()\n",
    "collections_list"
   ]
  },
  {
   "cell_type": "markdown",
   "metadata": {},
   "source": []
  },
  {
   "cell_type": "code",
   "execution_count": null,
   "metadata": {},
   "outputs": [],
   "source": []
  },
  {
   "cell_type": "markdown",
   "metadata": {},
   "source": [
    "### Connection au Cluster Hadoop pour lire le fichier CSV (Pandas)"
   ]
  },
  {
   "cell_type": "code",
   "execution_count": 10,
   "metadata": {},
   "outputs": [
    {
     "name": "stderr",
     "output_type": "stream",
     "text": [
      "/home/matthieu/anaconda3/lib/python3.7/site-packages/ipykernel_launcher.py:31: SettingWithCopyWarning: \n",
      "A value is trying to be set on a copy of a slice from a DataFrame\n",
      "\n",
      "See the caveats in the documentation: http://pandas.pydata.org/pandas-docs/stable/indexing.html#indexing-view-versus-copy\n",
      "/home/matthieu/anaconda3/lib/python3.7/site-packages/ipykernel_launcher.py:33: SettingWithCopyWarning: \n",
      "A value is trying to be set on a copy of a slice from a DataFrame\n",
      "\n",
      "See the caveats in the documentation: http://pandas.pydata.org/pandas-docs/stable/indexing.html#indexing-view-versus-copy\n",
      "/home/matthieu/anaconda3/lib/python3.7/site-packages/ipykernel_launcher.py:35: SettingWithCopyWarning: \n",
      "A value is trying to be set on a copy of a slice from a DataFrame\n",
      "\n",
      "See the caveats in the documentation: http://pandas.pydata.org/pandas-docs/stable/indexing.html#indexing-view-versus-copy\n"
     ]
    },
    {
     "data": {
      "text/html": [
       "<div>\n",
       "<style scoped>\n",
       "    .dataframe tbody tr th:only-of-type {\n",
       "        vertical-align: middle;\n",
       "    }\n",
       "\n",
       "    .dataframe tbody tr th {\n",
       "        vertical-align: top;\n",
       "    }\n",
       "\n",
       "    .dataframe thead th {\n",
       "        text-align: right;\n",
       "    }\n",
       "</style>\n",
       "<table border=\"1\" class=\"dataframe\">\n",
       "  <thead>\n",
       "    <tr style=\"text-align: right;\">\n",
       "      <th></th>\n",
       "      <th>PassengerId</th>\n",
       "      <th>Survived</th>\n",
       "      <th>Pclass</th>\n",
       "      <th>Name</th>\n",
       "      <th>Sex</th>\n",
       "      <th>Age</th>\n",
       "      <th>SibSp</th>\n",
       "      <th>Parch</th>\n",
       "      <th>Ticket</th>\n",
       "      <th>Fare</th>\n",
       "      <th>Cabin</th>\n",
       "      <th>Embarked</th>\n",
       "    </tr>\n",
       "  </thead>\n",
       "  <tbody>\n",
       "    <tr>\n",
       "      <th>0</th>\n",
       "      <td>1</td>\n",
       "      <td>0</td>\n",
       "      <td>3</td>\n",
       "      <td>Braund, Mr. Owen Harris</td>\n",
       "      <td>male</td>\n",
       "      <td>22.0</td>\n",
       "      <td>1.0</td>\n",
       "      <td>0.0</td>\n",
       "      <td>A/5 21171</td>\n",
       "      <td>7.2500</td>\n",
       "      <td></td>\n",
       "      <td>S</td>\n",
       "    </tr>\n",
       "    <tr>\n",
       "      <th>1</th>\n",
       "      <td>2</td>\n",
       "      <td>1</td>\n",
       "      <td>1</td>\n",
       "      <td>Cumings, Mrs. John Bradley (Florence Briggs Th...</td>\n",
       "      <td>female</td>\n",
       "      <td>38.0</td>\n",
       "      <td>1.0</td>\n",
       "      <td>0.0</td>\n",
       "      <td>PC 17599</td>\n",
       "      <td>71.2833</td>\n",
       "      <td>C85</td>\n",
       "      <td>C</td>\n",
       "    </tr>\n",
       "    <tr>\n",
       "      <th>2</th>\n",
       "      <td>3</td>\n",
       "      <td>1</td>\n",
       "      <td>3</td>\n",
       "      <td>Heikkinen, Miss. Laina</td>\n",
       "      <td>female</td>\n",
       "      <td>26.0</td>\n",
       "      <td>0.0</td>\n",
       "      <td>0.0</td>\n",
       "      <td>STON/O2. 3101282</td>\n",
       "      <td>7.9250</td>\n",
       "      <td></td>\n",
       "      <td>S</td>\n",
       "    </tr>\n",
       "    <tr>\n",
       "      <th>3</th>\n",
       "      <td>4</td>\n",
       "      <td>1</td>\n",
       "      <td>1</td>\n",
       "      <td>Futrelle, Mrs. Jacques Heath (Lily May Peel)</td>\n",
       "      <td>female</td>\n",
       "      <td>35.0</td>\n",
       "      <td>1.0</td>\n",
       "      <td>0.0</td>\n",
       "      <td>113803</td>\n",
       "      <td>53.1000</td>\n",
       "      <td>C123</td>\n",
       "      <td>S</td>\n",
       "    </tr>\n",
       "    <tr>\n",
       "      <th>4</th>\n",
       "      <td>5</td>\n",
       "      <td>0</td>\n",
       "      <td>3</td>\n",
       "      <td>Allen, Mr. William Henry</td>\n",
       "      <td>male</td>\n",
       "      <td>35.0</td>\n",
       "      <td>0.0</td>\n",
       "      <td>0.0</td>\n",
       "      <td>373450</td>\n",
       "      <td>8.0500</td>\n",
       "      <td></td>\n",
       "      <td>S</td>\n",
       "    </tr>\n",
       "    <tr>\n",
       "      <th>5</th>\n",
       "      <td>6</td>\n",
       "      <td>0</td>\n",
       "      <td>3</td>\n",
       "      <td>Moran, Mr. James</td>\n",
       "      <td>male</td>\n",
       "      <td>-1.0</td>\n",
       "      <td>0.0</td>\n",
       "      <td>0.0</td>\n",
       "      <td>330877</td>\n",
       "      <td>8.4583</td>\n",
       "      <td></td>\n",
       "      <td>Q</td>\n",
       "    </tr>\n",
       "    <tr>\n",
       "      <th>6</th>\n",
       "      <td>7</td>\n",
       "      <td>0</td>\n",
       "      <td>1</td>\n",
       "      <td>McCarthy, Mr. Timothy J</td>\n",
       "      <td>male</td>\n",
       "      <td>54.0</td>\n",
       "      <td>0.0</td>\n",
       "      <td>0.0</td>\n",
       "      <td>17463</td>\n",
       "      <td>51.8625</td>\n",
       "      <td>E46</td>\n",
       "      <td>S</td>\n",
       "    </tr>\n",
       "    <tr>\n",
       "      <th>7</th>\n",
       "      <td>8</td>\n",
       "      <td>0</td>\n",
       "      <td>3</td>\n",
       "      <td>Palsson, Master. Gosta Leonard</td>\n",
       "      <td>male</td>\n",
       "      <td>2.0</td>\n",
       "      <td>3.0</td>\n",
       "      <td>1.0</td>\n",
       "      <td>349909</td>\n",
       "      <td>21.0750</td>\n",
       "      <td></td>\n",
       "      <td>S</td>\n",
       "    </tr>\n",
       "    <tr>\n",
       "      <th>8</th>\n",
       "      <td>9</td>\n",
       "      <td>1</td>\n",
       "      <td>3</td>\n",
       "      <td>Johnson, Mrs. Oscar W (Elisabeth Vilhelmina Berg)</td>\n",
       "      <td>female</td>\n",
       "      <td>27.0</td>\n",
       "      <td>0.0</td>\n",
       "      <td>2.0</td>\n",
       "      <td>347742</td>\n",
       "      <td>11.1333</td>\n",
       "      <td></td>\n",
       "      <td>S</td>\n",
       "    </tr>\n",
       "    <tr>\n",
       "      <th>9</th>\n",
       "      <td>10</td>\n",
       "      <td>1</td>\n",
       "      <td>2</td>\n",
       "      <td>Nasser, Mrs. Nicholas (Adele Achem)</td>\n",
       "      <td>female</td>\n",
       "      <td>14.0</td>\n",
       "      <td>1.0</td>\n",
       "      <td>0.0</td>\n",
       "      <td>237736</td>\n",
       "      <td>30.0708</td>\n",
       "      <td></td>\n",
       "      <td>C</td>\n",
       "    </tr>\n",
       "    <tr>\n",
       "      <th>10</th>\n",
       "      <td>11</td>\n",
       "      <td>1</td>\n",
       "      <td>3</td>\n",
       "      <td>Sandstrom, Miss. Marguerite Rut</td>\n",
       "      <td>female</td>\n",
       "      <td>4.0</td>\n",
       "      <td>1.0</td>\n",
       "      <td>1.0</td>\n",
       "      <td>PP 9549</td>\n",
       "      <td>16.7000</td>\n",
       "      <td>G6</td>\n",
       "      <td>S</td>\n",
       "    </tr>\n",
       "    <tr>\n",
       "      <th>11</th>\n",
       "      <td>12</td>\n",
       "      <td>1</td>\n",
       "      <td>1</td>\n",
       "      <td>Bonnell, Miss. Elizabeth</td>\n",
       "      <td>female</td>\n",
       "      <td>58.0</td>\n",
       "      <td>0.0</td>\n",
       "      <td>0.0</td>\n",
       "      <td>113783</td>\n",
       "      <td>26.5500</td>\n",
       "      <td>C103</td>\n",
       "      <td>S</td>\n",
       "    </tr>\n",
       "    <tr>\n",
       "      <th>12</th>\n",
       "      <td>13</td>\n",
       "      <td>0</td>\n",
       "      <td>3</td>\n",
       "      <td>Saundercock, Mr. William Henry</td>\n",
       "      <td>male</td>\n",
       "      <td>20.0</td>\n",
       "      <td>0.0</td>\n",
       "      <td>0.0</td>\n",
       "      <td>A/5. 2151</td>\n",
       "      <td>8.0500</td>\n",
       "      <td></td>\n",
       "      <td>S</td>\n",
       "    </tr>\n",
       "    <tr>\n",
       "      <th>13</th>\n",
       "      <td>14</td>\n",
       "      <td>0</td>\n",
       "      <td>3</td>\n",
       "      <td>Andersson, Mr. Anders Johan</td>\n",
       "      <td>male</td>\n",
       "      <td>39.0</td>\n",
       "      <td>1.0</td>\n",
       "      <td>5.0</td>\n",
       "      <td>347082</td>\n",
       "      <td>31.2750</td>\n",
       "      <td></td>\n",
       "      <td>S</td>\n",
       "    </tr>\n",
       "    <tr>\n",
       "      <th>14</th>\n",
       "      <td>15</td>\n",
       "      <td>0</td>\n",
       "      <td>3</td>\n",
       "      <td>Vestrom, Miss. Hulda Amanda Adolfina</td>\n",
       "      <td>female</td>\n",
       "      <td>14.0</td>\n",
       "      <td>0.0</td>\n",
       "      <td>0.0</td>\n",
       "      <td>350406</td>\n",
       "      <td>7.8542</td>\n",
       "      <td></td>\n",
       "      <td>S</td>\n",
       "    </tr>\n",
       "    <tr>\n",
       "      <th>15</th>\n",
       "      <td>16</td>\n",
       "      <td>1</td>\n",
       "      <td>2</td>\n",
       "      <td>Hewlett, Mrs. (Mary D Kingcome)</td>\n",
       "      <td>female</td>\n",
       "      <td>55.0</td>\n",
       "      <td>0.0</td>\n",
       "      <td>0.0</td>\n",
       "      <td>248706</td>\n",
       "      <td>16.0000</td>\n",
       "      <td></td>\n",
       "      <td>S</td>\n",
       "    </tr>\n",
       "    <tr>\n",
       "      <th>16</th>\n",
       "      <td>17</td>\n",
       "      <td>0</td>\n",
       "      <td>3</td>\n",
       "      <td>Rice, Master. Eugene</td>\n",
       "      <td>male</td>\n",
       "      <td>2.0</td>\n",
       "      <td>4.0</td>\n",
       "      <td>1.0</td>\n",
       "      <td>382652</td>\n",
       "      <td>29.1250</td>\n",
       "      <td></td>\n",
       "      <td>Q</td>\n",
       "    </tr>\n",
       "    <tr>\n",
       "      <th>17</th>\n",
       "      <td>18</td>\n",
       "      <td>1</td>\n",
       "      <td>2</td>\n",
       "      <td>Williams, Mr. Charles Eugene</td>\n",
       "      <td>male</td>\n",
       "      <td>-1.0</td>\n",
       "      <td>0.0</td>\n",
       "      <td>0.0</td>\n",
       "      <td>244373</td>\n",
       "      <td>13.0000</td>\n",
       "      <td></td>\n",
       "      <td>S</td>\n",
       "    </tr>\n",
       "    <tr>\n",
       "      <th>18</th>\n",
       "      <td>19</td>\n",
       "      <td>0</td>\n",
       "      <td>3</td>\n",
       "      <td>Vander Planke, Mrs. Julius (Emelia Maria Vande...</td>\n",
       "      <td>female</td>\n",
       "      <td>31.0</td>\n",
       "      <td>1.0</td>\n",
       "      <td>0.0</td>\n",
       "      <td>345763</td>\n",
       "      <td>18.0000</td>\n",
       "      <td></td>\n",
       "      <td>S</td>\n",
       "    </tr>\n",
       "    <tr>\n",
       "      <th>19</th>\n",
       "      <td>20</td>\n",
       "      <td>1</td>\n",
       "      <td>3</td>\n",
       "      <td>Masselmani, Mrs. Fatima</td>\n",
       "      <td>female</td>\n",
       "      <td>-1.0</td>\n",
       "      <td>0.0</td>\n",
       "      <td>0.0</td>\n",
       "      <td>2649</td>\n",
       "      <td>7.2250</td>\n",
       "      <td></td>\n",
       "      <td>C</td>\n",
       "    </tr>\n",
       "  </tbody>\n",
       "</table>\n",
       "</div>"
      ],
      "text/plain": [
       "   PassengerId Survived Pclass  \\\n",
       "0            1        0      3   \n",
       "1            2        1      1   \n",
       "2            3        1      3   \n",
       "3            4        1      1   \n",
       "4            5        0      3   \n",
       "5            6        0      3   \n",
       "6            7        0      1   \n",
       "7            8        0      3   \n",
       "8            9        1      3   \n",
       "9           10        1      2   \n",
       "10          11        1      3   \n",
       "11          12        1      1   \n",
       "12          13        0      3   \n",
       "13          14        0      3   \n",
       "14          15        0      3   \n",
       "15          16        1      2   \n",
       "16          17        0      3   \n",
       "17          18        1      2   \n",
       "18          19        0      3   \n",
       "19          20        1      3   \n",
       "\n",
       "                                                 Name     Sex   Age  SibSp  \\\n",
       "0                             Braund, Mr. Owen Harris    male  22.0    1.0   \n",
       "1   Cumings, Mrs. John Bradley (Florence Briggs Th...  female  38.0    1.0   \n",
       "2                              Heikkinen, Miss. Laina  female  26.0    0.0   \n",
       "3        Futrelle, Mrs. Jacques Heath (Lily May Peel)  female  35.0    1.0   \n",
       "4                            Allen, Mr. William Henry    male  35.0    0.0   \n",
       "5                                    Moran, Mr. James    male  -1.0    0.0   \n",
       "6                             McCarthy, Mr. Timothy J    male  54.0    0.0   \n",
       "7                      Palsson, Master. Gosta Leonard    male   2.0    3.0   \n",
       "8   Johnson, Mrs. Oscar W (Elisabeth Vilhelmina Berg)  female  27.0    0.0   \n",
       "9                 Nasser, Mrs. Nicholas (Adele Achem)  female  14.0    1.0   \n",
       "10                    Sandstrom, Miss. Marguerite Rut  female   4.0    1.0   \n",
       "11                           Bonnell, Miss. Elizabeth  female  58.0    0.0   \n",
       "12                     Saundercock, Mr. William Henry    male  20.0    0.0   \n",
       "13                        Andersson, Mr. Anders Johan    male  39.0    1.0   \n",
       "14               Vestrom, Miss. Hulda Amanda Adolfina  female  14.0    0.0   \n",
       "15                   Hewlett, Mrs. (Mary D Kingcome)   female  55.0    0.0   \n",
       "16                               Rice, Master. Eugene    male   2.0    4.0   \n",
       "17                       Williams, Mr. Charles Eugene    male  -1.0    0.0   \n",
       "18  Vander Planke, Mrs. Julius (Emelia Maria Vande...  female  31.0    1.0   \n",
       "19                            Masselmani, Mrs. Fatima  female  -1.0    0.0   \n",
       "\n",
       "    Parch            Ticket     Fare Cabin Embarked  \n",
       "0     0.0         A/5 21171   7.2500              S  \n",
       "1     0.0          PC 17599  71.2833   C85        C  \n",
       "2     0.0  STON/O2. 3101282   7.9250              S  \n",
       "3     0.0            113803  53.1000  C123        S  \n",
       "4     0.0            373450   8.0500              S  \n",
       "5     0.0            330877   8.4583              Q  \n",
       "6     0.0             17463  51.8625   E46        S  \n",
       "7     1.0            349909  21.0750              S  \n",
       "8     2.0            347742  11.1333              S  \n",
       "9     0.0            237736  30.0708              C  \n",
       "10    1.0           PP 9549  16.7000    G6        S  \n",
       "11    0.0            113783  26.5500  C103        S  \n",
       "12    0.0         A/5. 2151   8.0500              S  \n",
       "13    5.0            347082  31.2750              S  \n",
       "14    0.0            350406   7.8542              S  \n",
       "15    0.0            248706  16.0000              S  \n",
       "16    1.0            382652  29.1250              Q  \n",
       "17    0.0            244373  13.0000              S  \n",
       "18    0.0            345763  18.0000              S  \n",
       "19    0.0              2649   7.2250              C  "
      ]
     },
     "execution_count": 10,
     "metadata": {},
     "output_type": "execute_result"
    }
   ],
   "source": [
    "NAMENODE_DNS = \"http://ec2-35-180-138-173.eu-west-3.compute.amazonaws.com\"\n",
    "NAMENODE_IP = \"http://35.180.138.173\"\n",
    "\n",
    "NAMENODE_WEBUI_PORT = \"50070\"\n",
    "\n",
    "# Connection au cluster namenode HDFS\n",
    "client_url = str(NAMENODE_DNS + \":\" + NAMENODE_WEBUI_PORT)\n",
    "client = hdfs.InsecureClient(client_url, user=\"ubuntu\")\n",
    "\n",
    "# lecture du fichier\n",
    "list_csv = []\n",
    "HDFS_PATH_DATASET = '/home/Projet-ArchitectureBigData/Kaggle-Titanic/complete_dataset.csv'\n",
    "with client.read(HDFS_PATH_DATASET) as reader:\n",
    "    raw_csv = reader.read()\n",
    "raw_csv = raw_csv.decode('utf-8')\n",
    "csv_list = raw_csv.split(\"\\n\")\n",
    "\n",
    "# parsing du CSV\n",
    "reader = csv.reader(csv_list)\n",
    "csv_list = []\n",
    "for line in reader:\n",
    "    csv_list.append(line)\n",
    "\n",
    "# création du dataframe\n",
    "df = pd.DataFrame(csv_list[1:], \n",
    "                  columns=csv_list[0])\n",
    "\n",
    "# Dealing with empty values\n",
    "df[\"Age\"][df[\"Age\"] == \"\"] = -1\n",
    "df[\"Age\"] = df[\"Age\"].apply(lambda x: float(x))\n",
    "df[\"SibSp\"][df[\"SibSp\"] == \"\"] = -1\n",
    "df[\"SibSp\"] = df[\"SibSp\"].apply(lambda x: float(x))\n",
    "df[\"Parch\"][df[\"Parch\"] == \"\"] = -1\n",
    "df[\"Parch\"] = df[\"Parch\"].apply(lambda x: float(x))\n",
    "df[\"Fare\"][df[\"Fare\"] == \"\"] = -1\n",
    "df[\"Fare\"] = df[\"Fare\"].apply(lambda x: float(x))\n",
    "\n",
    "df.head(20)"
   ]
  },
  {
   "cell_type": "markdown",
   "metadata": {},
   "source": [
    "### Sauvegarde des données sur le serveur MongoDB"
   ]
  },
  {
   "cell_type": "code",
   "execution_count": 11,
   "metadata": {},
   "outputs": [
    {
     "name": "stdout",
     "output_type": "stream",
     "text": [
      "0 row processed\n",
      "100 row processed\n",
      "200 row processed\n",
      "300 row processed\n",
      "400 row processed\n",
      "500 row processed\n",
      "600 row processed\n",
      "700 row processed\n",
      "800 row processed\n",
      "900 row processed\n",
      "1000 row processed\n",
      "1100 row processed\n",
      "1200 row processed\n",
      "1300 row processed\n",
      "No new lines to insert\n"
     ]
    }
   ],
   "source": [
    "# Create collection in MongoDB\n",
    "# If it already exists, just use it\n",
    "if not \"collection\" in locals():\n",
    "    collection = db[\"Kaggle_Titanic\"]\n",
    "\n",
    "# Create a list of dictionnaries representing rows to insert\n",
    "# Befor adding to the list, check if the record exists in the database\n",
    "rows_to_insert = list()\n",
    "for i, row in enumerate(df.iterrows()):\n",
    "    row = dict(row[1])\n",
    "    record = collection[\"Datas\"].find_one(row)\n",
    "    if record is None:\n",
    "        rows_to_insert.append(row)\n",
    "    if i%100 == 0:\n",
    "        print(str(i) + \" row processed\")\n",
    "\n",
    "# Insert all rows, if doesn't exists\n",
    "if not len(rows_to_insert) == 0:\n",
    "    collection[\"Datas\"].insert_many(rows_to_insert)\n",
    "    print(str(len(rows_to_insert)) + \" rows was inserted\")\n",
    "else:\n",
    "    print(\"No new lines to insert\")"
   ]
  },
  {
   "cell_type": "markdown",
   "metadata": {},
   "source": [
    "## 2) Traitement des données"
   ]
  },
  {
   "cell_type": "markdown",
   "metadata": {},
   "source": [
    "### Lecture des données de la base MongoDB"
   ]
  },
  {
   "cell_type": "markdown",
   "metadata": {},
   "source": [
    " * Pandas"
   ]
  },
  {
   "cell_type": "code",
   "execution_count": 88,
   "metadata": {},
   "outputs": [
    {
     "ename": "NameError",
     "evalue": "name 'db' is not defined",
     "output_type": "error",
     "traceback": [
      "\u001b[0;31m---------------------------------------------------------------------------\u001b[0m",
      "\u001b[0;31mNameError\u001b[0m                                 Traceback (most recent call last)",
      "\u001b[0;32m<ipython-input-88-05a206a3ca08>\u001b[0m in \u001b[0;36m<module>\u001b[0;34m()\u001b[0m\n\u001b[1;32m      1\u001b[0m \u001b[0;31m# Connect to MongoDB Collection\u001b[0m\u001b[0;34m\u001b[0m\u001b[0;34m\u001b[0m\u001b[0;34m\u001b[0m\u001b[0m\n\u001b[0;32m----> 2\u001b[0;31m \u001b[0mcollection\u001b[0m \u001b[0;34m=\u001b[0m \u001b[0mdb\u001b[0m\u001b[0;34m[\u001b[0m\u001b[0;34m\"Kaggle_Titanic\"\u001b[0m\u001b[0;34m]\u001b[0m\u001b[0;34m\u001b[0m\u001b[0;34m\u001b[0m\u001b[0m\n\u001b[0m\u001b[1;32m      3\u001b[0m \u001b[0mall_prices\u001b[0m \u001b[0;34m=\u001b[0m \u001b[0mcollection\u001b[0m\u001b[0;34m[\u001b[0m\u001b[0;34m\"Datas\"\u001b[0m\u001b[0;34m]\u001b[0m\u001b[0;34m.\u001b[0m\u001b[0mfind\u001b[0m\u001b[0;34m(\u001b[0m\u001b[0;34m{\u001b[0m\u001b[0;34m}\u001b[0m\u001b[0;34m)\u001b[0m\u001b[0;34m\u001b[0m\u001b[0;34m\u001b[0m\u001b[0m\n\u001b[1;32m      4\u001b[0m \u001b[0mdf\u001b[0m \u001b[0;34m=\u001b[0m \u001b[0mpd\u001b[0m\u001b[0;34m.\u001b[0m\u001b[0mDataFrame\u001b[0m\u001b[0;34m(\u001b[0m\u001b[0mlist\u001b[0m\u001b[0;34m(\u001b[0m\u001b[0mall_prices\u001b[0m\u001b[0;34m)\u001b[0m\u001b[0;34m)\u001b[0m\u001b[0;34m\u001b[0m\u001b[0;34m\u001b[0m\u001b[0m\n\u001b[1;32m      5\u001b[0m \u001b[0mdf\u001b[0m \u001b[0;34m=\u001b[0m \u001b[0mdf\u001b[0m\u001b[0;34m.\u001b[0m\u001b[0mdrop\u001b[0m\u001b[0;34m(\u001b[0m\u001b[0;34m\"_id\"\u001b[0m\u001b[0;34m,\u001b[0m \u001b[0maxis\u001b[0m\u001b[0;34m=\u001b[0m\u001b[0;36m1\u001b[0m\u001b[0;34m)\u001b[0m\u001b[0;34m\u001b[0m\u001b[0;34m\u001b[0m\u001b[0m\n",
      "\u001b[0;31mNameError\u001b[0m: name 'db' is not defined"
     ]
    }
   ],
   "source": [
    "# Connect to MongoDB Collection\n",
    "collection = db[\"Kaggle_Titanic\"]\n",
    "all_prices = collection[\"Datas\"].find({})\n",
    "df = pd.DataFrame(list(all_prices))\n",
    "df = df.drop(\"_id\", axis=1)\n",
    "# MongoDB sometimes include a None at the end of the dataset ... remove it\n",
    "df = df.dropna()\n",
    "\n",
    "# Mongo sometimes convert integer to string\n",
    "\n",
    "df_titanic_train = df[df[\"Survived\"] != \"TO_PREDICT\"] \n",
    "df_titanic_test = df[df[\"Survived\"] == \"TO_PREDICT\"] \n",
    "df_titanic = df_titanic_train\n",
    "\n",
    "# Dealing with categorical variables \n",
    "#sex_categorical = pd.Categorical(df[\"Sex\"])\n",
    "#sex_dummy = pd.get_dummies(sex_categorical)\n",
    "\n",
    "#embarked_categorical = pd.Categorical(df[\"Embarked\"])\n",
    "#embarked_dummy = pd.get_dummies(embarked_categorical)\n",
    "\n",
    "# categorical variables one-hot encoding\n",
    "#df = df.drop(\"Sex\", axis=1)\n",
    "#df[sex_dummy.columns] = sex_dummy\n",
    "#df = df.drop(\"Embarked\", axis=1)\n",
    "#df[[\"Embarked_\" + col if col != \"\" else \"Embarked_nothing\" for col in embarked_dummy.columns]] = \\\n",
    "#    embarked_dummy\n",
    "\n",
    "df_titanic.head(20)"
   ]
  },
  {
   "cell_type": "markdown",
   "metadata": {},
   "source": [
    "## lecture de données et machine learning avec Spark"
   ]
  },
  {
   "cell_type": "code",
   "execution_count": 2,
   "metadata": {},
   "outputs": [],
   "source": [
    "from pyspark.sql import SparkSession\n",
    "from pyspark.ml import Pipeline\n",
    "from pyspark.sql.functions import mean,col,split, col, regexp_extract, when, lit\n",
    "from pyspark.ml.feature import StringIndexer\n",
    "from pyspark.ml.feature import VectorAssembler\n",
    "from pyspark.ml.evaluation import MulticlassClassificationEvaluator\n",
    "from pyspark.ml.feature import QuantileDiscretizer"
   ]
  },
  {
   "cell_type": "code",
   "execution_count": 3,
   "metadata": {},
   "outputs": [],
   "source": [
    "# on crée une session Spark\n",
    "ss = SparkSession \\\n",
    "    .builder \\\n",
    "    .appName(\"Spark ML example on titanic data \") \\\n",
    "    .getOrCreate()"
   ]
  },
  {
   "cell_type": "code",
   "execution_count": 4,
   "metadata": {},
   "outputs": [],
   "source": [
    "#from pyspark.mllib.regression import LabeledPoint\n",
    "\n",
    "# On crée notre RDD\n",
    "trainTitanic = ss.read.csv(\"/home/matthieu/Documents/Projet-ArchitectureBigData/Titanic/train.csv\",header = 'True',inferSchema='True')"
   ]
  },
  {
   "cell_type": "code",
   "execution_count": 5,
   "metadata": {},
   "outputs": [
    {
     "name": "stdout",
     "output_type": "stream",
     "text": [
      "+-----------+--------+------+--------------------+------+----+-----+-----+----------------+-------+-----+--------+\n",
      "|PassengerId|Survived|Pclass|                Name|   Sex| Age|SibSp|Parch|          Ticket|   Fare|Cabin|Embarked|\n",
      "+-----------+--------+------+--------------------+------+----+-----+-----+----------------+-------+-----+--------+\n",
      "|          1|       0|     3|Braund, Mr. Owen ...|  male|22.0|    1|    0|       A/5 21171|   7.25| null|       S|\n",
      "|          2|       1|     1|Cumings, Mrs. Joh...|female|38.0|    1|    0|        PC 17599|71.2833|  C85|       C|\n",
      "|          3|       1|     3|Heikkinen, Miss. ...|female|26.0|    0|    0|STON/O2. 3101282|  7.925| null|       S|\n",
      "|          4|       1|     1|Futrelle, Mrs. Ja...|female|35.0|    1|    0|          113803|   53.1| C123|       S|\n",
      "|          5|       0|     3|Allen, Mr. Willia...|  male|35.0|    0|    0|          373450|   8.05| null|       S|\n",
      "|          6|       0|     3|    Moran, Mr. James|  male|null|    0|    0|          330877| 8.4583| null|       Q|\n",
      "|          7|       0|     1|McCarthy, Mr. Tim...|  male|54.0|    0|    0|           17463|51.8625|  E46|       S|\n",
      "|          8|       0|     3|Palsson, Master. ...|  male| 2.0|    3|    1|          349909| 21.075| null|       S|\n",
      "|          9|       1|     3|Johnson, Mrs. Osc...|female|27.0|    0|    2|          347742|11.1333| null|       S|\n",
      "|         10|       1|     2|Nasser, Mrs. Nich...|female|14.0|    1|    0|          237736|30.0708| null|       C|\n",
      "+-----------+--------+------+--------------------+------+----+-----+-----+----------------+-------+-----+--------+\n",
      "only showing top 10 rows\n",
      "\n"
     ]
    }
   ],
   "source": [
    "trainTitanic.show(10)"
   ]
  },
  {
   "cell_type": "code",
   "execution_count": 6,
   "metadata": {},
   "outputs": [
    {
     "name": "stdout",
     "output_type": "stream",
     "text": [
      "+------+--------+-----+\n",
      "|   Sex|Survived|count|\n",
      "+------+--------+-----+\n",
      "|  male|       0|  468|\n",
      "|female|       1|  233|\n",
      "|female|       0|   81|\n",
      "|  male|       1|  109|\n",
      "+------+--------+-----+\n",
      "\n"
     ]
    }
   ],
   "source": [
    "#on regarde le nombre de survivants en fonctions des sexes\n",
    "trainTitanic.groupBy(\"Sex\",\"Survived\").count().show()"
   ]
  },
  {
   "cell_type": "code",
   "execution_count": 7,
   "metadata": {},
   "outputs": [],
   "source": [
    "#1 signifie qu'ils ont survécu, il y a eu plus de survivants femme que homme alors que les femmes étaient moins nombreuses sur le bateau"
   ]
  },
  {
   "cell_type": "code",
   "execution_count": 8,
   "metadata": {},
   "outputs": [
    {
     "name": "stdout",
     "output_type": "stream",
     "text": [
      "age moyen: 30\n"
     ]
    }
   ],
   "source": [
    "#on remarque que beaucoup de données d'age sont manquantes, il est plus intéressant pour la prédiction de les remplire, c'est pourquoi on calcule l'age moyen pour completer ces cases vides\n",
    "meanage = round(trainTitanic.select(mean('Age')).collect()[0][0])\n",
    "print(\"age moyen:\",meanage)"
   ]
  },
  {
   "cell_type": "code",
   "execution_count": 9,
   "metadata": {},
   "outputs": [],
   "source": [
    "#on comble chaque colone vide par l'age moyen"
   ]
  },
  {
   "cell_type": "code",
   "execution_count": 10,
   "metadata": {},
   "outputs": [],
   "source": [
    "trainTitanic = trainTitanic.withColumn(\"Age\",when (trainTitanic[\"Age\"].isNull(),meanage).otherwise(trainTitanic[\"Age\"]))"
   ]
  },
  {
   "cell_type": "code",
   "execution_count": 11,
   "metadata": {},
   "outputs": [],
   "source": [
    "# On vérifie qu'il n'y a plus de colonnes d'âge vide"
   ]
  },
  {
   "cell_type": "code",
   "execution_count": 12,
   "metadata": {},
   "outputs": [
    {
     "name": "stdout",
     "output_type": "stream",
     "text": [
      "+----+\n",
      "| Age|\n",
      "+----+\n",
      "|22.0|\n",
      "|38.0|\n",
      "|26.0|\n",
      "|35.0|\n",
      "|35.0|\n",
      "|30.0|\n",
      "|54.0|\n",
      "| 2.0|\n",
      "|27.0|\n",
      "|14.0|\n",
      "| 4.0|\n",
      "|58.0|\n",
      "|20.0|\n",
      "|39.0|\n",
      "|14.0|\n",
      "|55.0|\n",
      "| 2.0|\n",
      "|30.0|\n",
      "|31.0|\n",
      "|30.0|\n",
      "+----+\n",
      "only showing top 20 rows\n",
      "\n"
     ]
    }
   ],
   "source": [
    "trainTitanic.select(\"Age\").show()"
   ]
  },
  {
   "cell_type": "code",
   "execution_count": 13,
   "metadata": {},
   "outputs": [],
   "source": [
    "#on retire la colonne \"Cabin\" qui possède beaucoup de valeurs nulles\n",
    "trainTitanic = trainTitanic.drop(\"Cabin\")"
   ]
  },
  {
   "cell_type": "code",
   "execution_count": 15,
   "metadata": {},
   "outputs": [],
   "source": [
    "#on enleve egalement les colonnes non requises\n",
    "trainTitanic = trainTitanic.drop(\"PassengerId\",\"Name\",\"Ticket\",\"Cabin\",\"Embarked\",\"Sex\",\"Initial\")"
   ]
  },
  {
   "cell_type": "code",
   "execution_count": 16,
   "metadata": {},
   "outputs": [
    {
     "name": "stdout",
     "output_type": "stream",
     "text": [
      "+--------+------+----+-----+-----+-------+\n",
      "|Survived|Pclass| Age|SibSp|Parch|   Fare|\n",
      "+--------+------+----+-----+-----+-------+\n",
      "|       0|     3|22.0|    1|    0|   7.25|\n",
      "|       1|     1|38.0|    1|    0|71.2833|\n",
      "|       1|     3|26.0|    0|    0|  7.925|\n",
      "|       1|     1|35.0|    1|    0|   53.1|\n",
      "|       0|     3|35.0|    0|    0|   8.05|\n",
      "|       0|     3|30.0|    0|    0| 8.4583|\n",
      "|       0|     1|54.0|    0|    0|51.8625|\n",
      "|       0|     3| 2.0|    3|    1| 21.075|\n",
      "|       1|     3|27.0|    0|    2|11.1333|\n",
      "|       1|     2|14.0|    1|    0|30.0708|\n",
      "|       1|     3| 4.0|    1|    1|   16.7|\n",
      "|       1|     1|58.0|    0|    0|  26.55|\n",
      "|       0|     3|20.0|    0|    0|   8.05|\n",
      "|       0|     3|39.0|    1|    5| 31.275|\n",
      "|       0|     3|14.0|    0|    0| 7.8542|\n",
      "|       1|     2|55.0|    0|    0|   16.0|\n",
      "|       0|     3| 2.0|    4|    1| 29.125|\n",
      "|       1|     2|30.0|    0|    0|   13.0|\n",
      "|       0|     3|31.0|    1|    0|   18.0|\n",
      "|       1|     3|30.0|    0|    0|  7.225|\n",
      "+--------+------+----+-----+-----+-------+\n",
      "only showing top 20 rows\n",
      "\n"
     ]
    }
   ],
   "source": [
    "trainTitanic.show()"
   ]
  },
  {
   "cell_type": "code",
   "execution_count": 17,
   "metadata": {},
   "outputs": [],
   "source": [
    "#on envoie les features dans un vecteur\n",
    "feature = VectorAssembler(inputCols=trainTitanic.columns[1:],outputCol=\"features\")\n",
    "feature_vector= feature.transform(trainTitanic)"
   ]
  },
  {
   "cell_type": "code",
   "execution_count": 18,
   "metadata": {},
   "outputs": [
    {
     "name": "stdout",
     "output_type": "stream",
     "text": [
      "+--------+------+----+-----+-----+-------+--------------------+\n",
      "|Survived|Pclass| Age|SibSp|Parch|   Fare|            features|\n",
      "+--------+------+----+-----+-----+-------+--------------------+\n",
      "|       0|     3|22.0|    1|    0|   7.25|[3.0,22.0,1.0,0.0...|\n",
      "|       1|     1|38.0|    1|    0|71.2833|[1.0,38.0,1.0,0.0...|\n",
      "|       1|     3|26.0|    0|    0|  7.925|[3.0,26.0,0.0,0.0...|\n",
      "|       1|     1|35.0|    1|    0|   53.1|[1.0,35.0,1.0,0.0...|\n",
      "|       0|     3|35.0|    0|    0|   8.05|[3.0,35.0,0.0,0.0...|\n",
      "|       0|     3|30.0|    0|    0| 8.4583|[3.0,30.0,0.0,0.0...|\n",
      "|       0|     1|54.0|    0|    0|51.8625|[1.0,54.0,0.0,0.0...|\n",
      "|       0|     3| 2.0|    3|    1| 21.075|[3.0,2.0,3.0,1.0,...|\n",
      "|       1|     3|27.0|    0|    2|11.1333|[3.0,27.0,0.0,2.0...|\n",
      "|       1|     2|14.0|    1|    0|30.0708|[2.0,14.0,1.0,0.0...|\n",
      "|       1|     3| 4.0|    1|    1|   16.7|[3.0,4.0,1.0,1.0,...|\n",
      "|       1|     1|58.0|    0|    0|  26.55|[1.0,58.0,0.0,0.0...|\n",
      "|       0|     3|20.0|    0|    0|   8.05|[3.0,20.0,0.0,0.0...|\n",
      "|       0|     3|39.0|    1|    5| 31.275|[3.0,39.0,1.0,5.0...|\n",
      "|       0|     3|14.0|    0|    0| 7.8542|[3.0,14.0,0.0,0.0...|\n",
      "|       1|     2|55.0|    0|    0|   16.0|[2.0,55.0,0.0,0.0...|\n",
      "|       0|     3| 2.0|    4|    1| 29.125|[3.0,2.0,4.0,1.0,...|\n",
      "|       1|     2|30.0|    0|    0|   13.0|[2.0,30.0,0.0,0.0...|\n",
      "|       0|     3|31.0|    1|    0|   18.0|[3.0,31.0,1.0,0.0...|\n",
      "|       1|     3|30.0|    0|    0|  7.225|[3.0,30.0,0.0,0.0...|\n",
      "+--------+------+----+-----+-----+-------+--------------------+\n",
      "only showing top 20 rows\n",
      "\n"
     ]
    }
   ],
   "source": [
    "feature_vector.show()"
   ]
  },
  {
   "cell_type": "code",
   "execution_count": 26,
   "metadata": {},
   "outputs": [],
   "source": [
    " #on split les données\n",
    "(trainingData, testData) = feature_vector.randomSplit([0.75, 0.25],seed = 11)"
   ]
  },
  {
   "cell_type": "markdown",
   "metadata": {},
   "source": [
    "#### Méthode de régression logistique avec pyspark"
   ]
  },
  {
   "cell_type": "code",
   "execution_count": 27,
   "metadata": {},
   "outputs": [
    {
     "name": "stdout",
     "output_type": "stream",
     "text": [
      "+----------+--------+--------------------+\n",
      "|prediction|Survived|            features|\n",
      "+----------+--------+--------------------+\n",
      "|       1.0|       0|[1.0,19.0,1.0,0.0...|\n",
      "|       1.0|       0|[1.0,19.0,3.0,2.0...|\n",
      "|       1.0|       0|[1.0,27.0,0.0,2.0...|\n",
      "|       1.0|       0|[1.0,28.0,0.0,0.0...|\n",
      "|       1.0|       0|[1.0,28.0,1.0,0.0...|\n",
      "|       1.0|       0|[1.0,29.0,0.0,0.0...|\n",
      "|       1.0|       0|[1.0,30.0,0.0,0.0...|\n",
      "|       1.0|       0|[1.0,30.0,0.0,0.0...|\n",
      "|       1.0|       0|[1.0,30.0,0.0,0.0...|\n",
      "|       1.0|       0|[1.0,38.0,0.0,1.0...|\n",
      "|       1.0|       0|(5,[0,1],[1.0,40.0])|\n",
      "|       1.0|       0|[1.0,40.0,0.0,0.0...|\n",
      "|       1.0|       0|[1.0,45.0,1.0,0.0...|\n",
      "|       1.0|       0|[1.0,46.0,0.0,0.0...|\n",
      "|       0.0|       0|[1.0,47.0,0.0,0.0...|\n",
      "|       1.0|       0|[1.0,51.0,0.0,1.0...|\n",
      "|       1.0|       0|[1.0,54.0,0.0,1.0...|\n",
      "|       0.0|       0|[1.0,58.0,0.0,0.0...|\n",
      "|       0.0|       0|[1.0,64.0,0.0,0.0...|\n",
      "|       0.0|       0|[1.0,71.0,0.0,0.0...|\n",
      "|       1.0|       0|[2.0,16.0,0.0,0.0...|\n",
      "|       1.0|       0|[2.0,18.0,0.0,0.0...|\n",
      "|       1.0|       0|[2.0,19.0,0.0,0.0...|\n",
      "|       1.0|       0|[2.0,21.0,0.0,0.0...|\n",
      "|       0.0|       0|[2.0,21.0,1.0,0.0...|\n",
      "|       0.0|       0|[2.0,24.0,2.0,0.0...|\n",
      "|       0.0|       0|[2.0,25.0,1.0,0.0...|\n",
      "|       0.0|       0|[2.0,26.0,0.0,0.0...|\n",
      "|       0.0|       0|[2.0,26.0,1.0,1.0...|\n",
      "|       0.0|       0|[2.0,29.0,1.0,0.0...|\n",
      "+----------+--------+--------------------+\n",
      "only showing top 30 rows\n",
      "\n"
     ]
    }
   ],
   "source": [
    "from pyspark.ml.classification import LogisticRegression\n",
    "lr = LogisticRegression(labelCol=\"Survived\", featuresCol=\"features\")\n",
    "#On verifie nos predictions sur l'algo de test\n",
    "lrModel = lr.fit(trainingData)\n",
    "lr_prediction = lrModel.transform(testData)\n",
    "lr_prediction.select(\"prediction\", \"Survived\", \"features\").show(30)\n",
    "evaluator = MulticlassClassificationEvaluator(labelCol=\"Survived\", predictionCol=\"prediction\", metricName=\"accuracy\")"
   ]
  },
  {
   "cell_type": "code",
   "execution_count": 28,
   "metadata": {},
   "outputs": [
    {
     "name": "stdout",
     "output_type": "stream",
     "text": [
      "score régression logistique = 0.711009\n"
     ]
    }
   ],
   "source": [
    "lr_accuracy = evaluator.evaluate(lr_prediction)\n",
    "print(\"score régression logistique = %g\"% (lr_accuracy))"
   ]
  },
  {
   "cell_type": "markdown",
   "metadata": {},
   "source": [
    "#### Méthode de forêt aléatoire avec pyspark"
   ]
  },
  {
   "cell_type": "code",
   "execution_count": 29,
   "metadata": {},
   "outputs": [
    {
     "name": "stdout",
     "output_type": "stream",
     "text": [
      "+----------+--------+--------------------+\n",
      "|prediction|Survived|            features|\n",
      "+----------+--------+--------------------+\n",
      "|       1.0|       0|[1.0,19.0,1.0,0.0...|\n",
      "|       1.0|       0|[1.0,19.0,3.0,2.0...|\n",
      "|       1.0|       0|[1.0,27.0,0.0,2.0...|\n",
      "|       0.0|       0|[1.0,28.0,0.0,0.0...|\n",
      "|       1.0|       0|[1.0,28.0,1.0,0.0...|\n",
      "|       0.0|       0|[1.0,29.0,0.0,0.0...|\n",
      "|       0.0|       0|[1.0,30.0,0.0,0.0...|\n",
      "|       0.0|       0|[1.0,30.0,0.0,0.0...|\n",
      "|       0.0|       0|[1.0,30.0,0.0,0.0...|\n",
      "|       1.0|       0|[1.0,38.0,0.0,1.0...|\n",
      "|       0.0|       0|(5,[0,1],[1.0,40.0])|\n",
      "|       0.0|       0|[1.0,40.0,0.0,0.0...|\n",
      "|       1.0|       0|[1.0,45.0,1.0,0.0...|\n",
      "|       1.0|       0|[1.0,46.0,0.0,0.0...|\n",
      "|       0.0|       0|[1.0,47.0,0.0,0.0...|\n",
      "|       1.0|       0|[1.0,51.0,0.0,1.0...|\n",
      "|       1.0|       0|[1.0,54.0,0.0,1.0...|\n",
      "|       0.0|       0|[1.0,58.0,0.0,0.0...|\n",
      "|       0.0|       0|[1.0,64.0,0.0,0.0...|\n",
      "|       0.0|       0|[1.0,71.0,0.0,0.0...|\n",
      "+----------+--------+--------------------+\n",
      "only showing top 20 rows\n",
      "\n"
     ]
    }
   ],
   "source": [
    "from pyspark.ml.classification import RandomForestClassifier\n",
    "from pyspark.ml.classification import DecisionTreeClassifier\n",
    "rf = DecisionTreeClassifier(labelCol=\"Survived\", featuresCol=\"features\")\n",
    "rf_model = rf.fit(trainingData)\n",
    "rf_prediction = rf_model.transform(testData)\n",
    "rf_prediction.select(\"prediction\", \"Survived\", \"features\").show()"
   ]
  },
  {
   "cell_type": "code",
   "execution_count": 30,
   "metadata": {},
   "outputs": [
    {
     "name": "stdout",
     "output_type": "stream",
     "text": [
      "score pour la méthode de forêt aléatoire = 0.724771\n"
     ]
    }
   ],
   "source": [
    "rf_accuracy = evaluator.evaluate(rf_prediction)\n",
    "print(\"score pour la méthode de forêt aléatoire = %g\"% (rf_accuracy))"
   ]
  },
  {
   "cell_type": "markdown",
   "metadata": {},
   "source": [
    "#### Méthode de boosting avec pyspark"
   ]
  },
  {
   "cell_type": "code",
   "execution_count": 31,
   "metadata": {},
   "outputs": [
    {
     "name": "stdout",
     "output_type": "stream",
     "text": [
      "+----------+--------+--------------------+\n",
      "|prediction|Survived|            features|\n",
      "+----------+--------+--------------------+\n",
      "|       1.0|       0|[1.0,19.0,1.0,0.0...|\n",
      "|       1.0|       0|[1.0,19.0,3.0,2.0...|\n",
      "|       1.0|       0|[1.0,27.0,0.0,2.0...|\n",
      "|       1.0|       0|[1.0,28.0,0.0,0.0...|\n",
      "|       1.0|       0|[1.0,28.0,1.0,0.0...|\n",
      "|       1.0|       0|[1.0,29.0,0.0,0.0...|\n",
      "|       0.0|       0|[1.0,30.0,0.0,0.0...|\n",
      "|       1.0|       0|[1.0,30.0,0.0,0.0...|\n",
      "|       1.0|       0|[1.0,30.0,0.0,0.0...|\n",
      "|       1.0|       0|[1.0,38.0,0.0,1.0...|\n",
      "|       0.0|       0|(5,[0,1],[1.0,40.0])|\n",
      "|       1.0|       0|[1.0,40.0,0.0,0.0...|\n",
      "|       1.0|       0|[1.0,45.0,1.0,0.0...|\n",
      "|       1.0|       0|[1.0,46.0,0.0,0.0...|\n",
      "|       1.0|       0|[1.0,47.0,0.0,0.0...|\n",
      "|       1.0|       0|[1.0,51.0,0.0,1.0...|\n",
      "|       1.0|       0|[1.0,54.0,0.0,1.0...|\n",
      "|       0.0|       0|[1.0,58.0,0.0,0.0...|\n",
      "|       0.0|       0|[1.0,64.0,0.0,0.0...|\n",
      "|       0.0|       0|[1.0,71.0,0.0,0.0...|\n",
      "|       1.0|       0|[2.0,16.0,0.0,0.0...|\n",
      "|       0.0|       0|[2.0,18.0,0.0,0.0...|\n",
      "|       0.0|       0|[2.0,19.0,0.0,0.0...|\n",
      "|       0.0|       0|[2.0,21.0,0.0,0.0...|\n",
      "|       0.0|       0|[2.0,21.0,1.0,0.0...|\n",
      "|       0.0|       0|[2.0,24.0,2.0,0.0...|\n",
      "|       1.0|       0|[2.0,25.0,1.0,0.0...|\n",
      "|       0.0|       0|[2.0,26.0,0.0,0.0...|\n",
      "|       1.0|       0|[2.0,26.0,1.0,1.0...|\n",
      "|       0.0|       0|[2.0,29.0,1.0,0.0...|\n",
      "+----------+--------+--------------------+\n",
      "only showing top 30 rows\n",
      "\n"
     ]
    }
   ],
   "source": [
    "from pyspark.ml.classification import GBTClassifier\n",
    "gbt = GBTClassifier(labelCol=\"Survived\", featuresCol=\"features\",maxIter=10)\n",
    "gbt_model = gbt.fit(trainingData)\n",
    "gbt_prediction = gbt_model.transform(testData)\n",
    "gbt_prediction.select(\"prediction\", \"Survived\", \"features\").show(30)"
   ]
  },
  {
   "cell_type": "code",
   "execution_count": 32,
   "metadata": {},
   "outputs": [
    {
     "name": "stdout",
     "output_type": "stream",
     "text": [
      "score avec gradient boosting = 0.711009\n"
     ]
    }
   ],
   "source": [
    "gbt_accuracy = evaluator.evaluate(gbt_prediction)\n",
    "print(\"score avec gradient boosting = %g\"% (gbt_accuracy))"
   ]
  },
  {
   "cell_type": "code",
   "execution_count": 157,
   "metadata": {},
   "outputs": [],
   "source": [
    "sc.stop()"
   ]
  },
  {
   "cell_type": "markdown",
   "metadata": {},
   "source": [
    "## 3) Analyse des Données"
   ]
  },
  {
   "cell_type": "markdown",
   "metadata": {},
   "source": [
    "Dans cette partie nous allons faire du machine learning sur les données récupérées depuis la base mongo DB"
   ]
  },
  {
   "cell_type": "markdown",
   "metadata": {},
   "source": [
    "### Feature Engineering"
   ]
  },
  {
   "cell_type": "code",
   "execution_count": 14,
   "metadata": {},
   "outputs": [
    {
     "data": {
      "text/html": [
       "<div>\n",
       "<style scoped>\n",
       "    .dataframe tbody tr th:only-of-type {\n",
       "        vertical-align: middle;\n",
       "    }\n",
       "\n",
       "    .dataframe tbody tr th {\n",
       "        vertical-align: top;\n",
       "    }\n",
       "\n",
       "    .dataframe thead th {\n",
       "        text-align: right;\n",
       "    }\n",
       "</style>\n",
       "<table border=\"1\" class=\"dataframe\">\n",
       "  <thead>\n",
       "    <tr style=\"text-align: right;\">\n",
       "      <th></th>\n",
       "      <th>PassengerId</th>\n",
       "      <th>Survived</th>\n",
       "      <th>Age</th>\n",
       "      <th>Cabin</th>\n",
       "      <th>Fare</th>\n",
       "      <th>Parch</th>\n",
       "      <th>Pclass</th>\n",
       "      <th>SibSp</th>\n",
       "      <th>Sex_female</th>\n",
       "      <th>Sex_male</th>\n",
       "      <th>Emb_</th>\n",
       "      <th>Emb_C</th>\n",
       "      <th>Emb_Q</th>\n",
       "      <th>Emb_S</th>\n",
       "      <th>FamiliySize</th>\n",
       "      <th>Title</th>\n",
       "    </tr>\n",
       "  </thead>\n",
       "  <tbody>\n",
       "    <tr>\n",
       "      <th>0</th>\n",
       "      <td>1</td>\n",
       "      <td>0.0</td>\n",
       "      <td>1.0</td>\n",
       "      <td>0</td>\n",
       "      <td>0.0000</td>\n",
       "      <td>0.0</td>\n",
       "      <td>3</td>\n",
       "      <td>1.0</td>\n",
       "      <td>0</td>\n",
       "      <td>1</td>\n",
       "      <td>0</td>\n",
       "      <td>0</td>\n",
       "      <td>0</td>\n",
       "      <td>1</td>\n",
       "      <td>2.0</td>\n",
       "      <td>2</td>\n",
       "    </tr>\n",
       "    <tr>\n",
       "      <th>1</th>\n",
       "      <td>2</td>\n",
       "      <td>1.0</td>\n",
       "      <td>1.0</td>\n",
       "      <td>3</td>\n",
       "      <td>71.2833</td>\n",
       "      <td>0.0</td>\n",
       "      <td>1</td>\n",
       "      <td>1.0</td>\n",
       "      <td>1</td>\n",
       "      <td>0</td>\n",
       "      <td>0</td>\n",
       "      <td>1</td>\n",
       "      <td>0</td>\n",
       "      <td>0</td>\n",
       "      <td>2.0</td>\n",
       "      <td>1</td>\n",
       "    </tr>\n",
       "    <tr>\n",
       "      <th>2</th>\n",
       "      <td>3</td>\n",
       "      <td>1.0</td>\n",
       "      <td>1.0</td>\n",
       "      <td>0</td>\n",
       "      <td>7.9250</td>\n",
       "      <td>0.0</td>\n",
       "      <td>3</td>\n",
       "      <td>0.0</td>\n",
       "      <td>1</td>\n",
       "      <td>0</td>\n",
       "      <td>0</td>\n",
       "      <td>0</td>\n",
       "      <td>0</td>\n",
       "      <td>1</td>\n",
       "      <td>1.0</td>\n",
       "      <td>1</td>\n",
       "    </tr>\n",
       "    <tr>\n",
       "      <th>3</th>\n",
       "      <td>4</td>\n",
       "      <td>1.0</td>\n",
       "      <td>1.0</td>\n",
       "      <td>3</td>\n",
       "      <td>53.1000</td>\n",
       "      <td>0.0</td>\n",
       "      <td>1</td>\n",
       "      <td>1.0</td>\n",
       "      <td>1</td>\n",
       "      <td>0</td>\n",
       "      <td>0</td>\n",
       "      <td>0</td>\n",
       "      <td>0</td>\n",
       "      <td>1</td>\n",
       "      <td>2.0</td>\n",
       "      <td>1</td>\n",
       "    </tr>\n",
       "    <tr>\n",
       "      <th>4</th>\n",
       "      <td>5</td>\n",
       "      <td>0.0</td>\n",
       "      <td>1.0</td>\n",
       "      <td>0</td>\n",
       "      <td>8.0500</td>\n",
       "      <td>0.0</td>\n",
       "      <td>3</td>\n",
       "      <td>0.0</td>\n",
       "      <td>0</td>\n",
       "      <td>1</td>\n",
       "      <td>0</td>\n",
       "      <td>0</td>\n",
       "      <td>0</td>\n",
       "      <td>1</td>\n",
       "      <td>1.0</td>\n",
       "      <td>2</td>\n",
       "    </tr>\n",
       "    <tr>\n",
       "      <th>5</th>\n",
       "      <td>6</td>\n",
       "      <td>0.0</td>\n",
       "      <td>0.0</td>\n",
       "      <td>0</td>\n",
       "      <td>8.4583</td>\n",
       "      <td>0.0</td>\n",
       "      <td>3</td>\n",
       "      <td>0.0</td>\n",
       "      <td>0</td>\n",
       "      <td>1</td>\n",
       "      <td>0</td>\n",
       "      <td>0</td>\n",
       "      <td>1</td>\n",
       "      <td>0</td>\n",
       "      <td>1.0</td>\n",
       "      <td>2</td>\n",
       "    </tr>\n",
       "    <tr>\n",
       "      <th>6</th>\n",
       "      <td>7</td>\n",
       "      <td>0.0</td>\n",
       "      <td>2.0</td>\n",
       "      <td>5</td>\n",
       "      <td>51.8625</td>\n",
       "      <td>0.0</td>\n",
       "      <td>1</td>\n",
       "      <td>0.0</td>\n",
       "      <td>0</td>\n",
       "      <td>1</td>\n",
       "      <td>0</td>\n",
       "      <td>0</td>\n",
       "      <td>0</td>\n",
       "      <td>1</td>\n",
       "      <td>1.0</td>\n",
       "      <td>2</td>\n",
       "    </tr>\n",
       "    <tr>\n",
       "      <th>7</th>\n",
       "      <td>8</td>\n",
       "      <td>0.0</td>\n",
       "      <td>0.0</td>\n",
       "      <td>0</td>\n",
       "      <td>21.0750</td>\n",
       "      <td>1.0</td>\n",
       "      <td>3</td>\n",
       "      <td>3.0</td>\n",
       "      <td>0</td>\n",
       "      <td>1</td>\n",
       "      <td>0</td>\n",
       "      <td>0</td>\n",
       "      <td>0</td>\n",
       "      <td>1</td>\n",
       "      <td>5.0</td>\n",
       "      <td>0</td>\n",
       "    </tr>\n",
       "    <tr>\n",
       "      <th>8</th>\n",
       "      <td>9</td>\n",
       "      <td>1.0</td>\n",
       "      <td>1.0</td>\n",
       "      <td>0</td>\n",
       "      <td>11.1333</td>\n",
       "      <td>2.0</td>\n",
       "      <td>3</td>\n",
       "      <td>0.0</td>\n",
       "      <td>1</td>\n",
       "      <td>0</td>\n",
       "      <td>0</td>\n",
       "      <td>0</td>\n",
       "      <td>0</td>\n",
       "      <td>1</td>\n",
       "      <td>3.0</td>\n",
       "      <td>1</td>\n",
       "    </tr>\n",
       "    <tr>\n",
       "      <th>9</th>\n",
       "      <td>10</td>\n",
       "      <td>1.0</td>\n",
       "      <td>1.0</td>\n",
       "      <td>0</td>\n",
       "      <td>30.0708</td>\n",
       "      <td>0.0</td>\n",
       "      <td>2</td>\n",
       "      <td>1.0</td>\n",
       "      <td>1</td>\n",
       "      <td>0</td>\n",
       "      <td>0</td>\n",
       "      <td>1</td>\n",
       "      <td>0</td>\n",
       "      <td>0</td>\n",
       "      <td>2.0</td>\n",
       "      <td>1</td>\n",
       "    </tr>\n",
       "    <tr>\n",
       "      <th>10</th>\n",
       "      <td>11</td>\n",
       "      <td>1.0</td>\n",
       "      <td>0.0</td>\n",
       "      <td>7</td>\n",
       "      <td>16.7000</td>\n",
       "      <td>1.0</td>\n",
       "      <td>3</td>\n",
       "      <td>1.0</td>\n",
       "      <td>1</td>\n",
       "      <td>0</td>\n",
       "      <td>0</td>\n",
       "      <td>0</td>\n",
       "      <td>0</td>\n",
       "      <td>1</td>\n",
       "      <td>3.0</td>\n",
       "      <td>1</td>\n",
       "    </tr>\n",
       "    <tr>\n",
       "      <th>11</th>\n",
       "      <td>12</td>\n",
       "      <td>1.0</td>\n",
       "      <td>2.0</td>\n",
       "      <td>3</td>\n",
       "      <td>26.5500</td>\n",
       "      <td>0.0</td>\n",
       "      <td>1</td>\n",
       "      <td>0.0</td>\n",
       "      <td>1</td>\n",
       "      <td>0</td>\n",
       "      <td>0</td>\n",
       "      <td>0</td>\n",
       "      <td>0</td>\n",
       "      <td>1</td>\n",
       "      <td>1.0</td>\n",
       "      <td>1</td>\n",
       "    </tr>\n",
       "    <tr>\n",
       "      <th>12</th>\n",
       "      <td>13</td>\n",
       "      <td>0.0</td>\n",
       "      <td>1.0</td>\n",
       "      <td>0</td>\n",
       "      <td>8.0500</td>\n",
       "      <td>0.0</td>\n",
       "      <td>3</td>\n",
       "      <td>0.0</td>\n",
       "      <td>0</td>\n",
       "      <td>1</td>\n",
       "      <td>0</td>\n",
       "      <td>0</td>\n",
       "      <td>0</td>\n",
       "      <td>1</td>\n",
       "      <td>1.0</td>\n",
       "      <td>2</td>\n",
       "    </tr>\n",
       "    <tr>\n",
       "      <th>13</th>\n",
       "      <td>14</td>\n",
       "      <td>0.0</td>\n",
       "      <td>1.0</td>\n",
       "      <td>0</td>\n",
       "      <td>31.2750</td>\n",
       "      <td>5.0</td>\n",
       "      <td>3</td>\n",
       "      <td>1.0</td>\n",
       "      <td>0</td>\n",
       "      <td>1</td>\n",
       "      <td>0</td>\n",
       "      <td>0</td>\n",
       "      <td>0</td>\n",
       "      <td>1</td>\n",
       "      <td>7.0</td>\n",
       "      <td>2</td>\n",
       "    </tr>\n",
       "    <tr>\n",
       "      <th>14</th>\n",
       "      <td>15</td>\n",
       "      <td>0.0</td>\n",
       "      <td>1.0</td>\n",
       "      <td>0</td>\n",
       "      <td>7.8542</td>\n",
       "      <td>0.0</td>\n",
       "      <td>3</td>\n",
       "      <td>0.0</td>\n",
       "      <td>1</td>\n",
       "      <td>0</td>\n",
       "      <td>0</td>\n",
       "      <td>0</td>\n",
       "      <td>0</td>\n",
       "      <td>1</td>\n",
       "      <td>1.0</td>\n",
       "      <td>1</td>\n",
       "    </tr>\n",
       "    <tr>\n",
       "      <th>15</th>\n",
       "      <td>16</td>\n",
       "      <td>1.0</td>\n",
       "      <td>2.0</td>\n",
       "      <td>0</td>\n",
       "      <td>16.0000</td>\n",
       "      <td>0.0</td>\n",
       "      <td>2</td>\n",
       "      <td>0.0</td>\n",
       "      <td>1</td>\n",
       "      <td>0</td>\n",
       "      <td>0</td>\n",
       "      <td>0</td>\n",
       "      <td>0</td>\n",
       "      <td>1</td>\n",
       "      <td>1.0</td>\n",
       "      <td>1</td>\n",
       "    </tr>\n",
       "    <tr>\n",
       "      <th>16</th>\n",
       "      <td>17</td>\n",
       "      <td>0.0</td>\n",
       "      <td>0.0</td>\n",
       "      <td>0</td>\n",
       "      <td>29.1250</td>\n",
       "      <td>1.0</td>\n",
       "      <td>3</td>\n",
       "      <td>4.0</td>\n",
       "      <td>0</td>\n",
       "      <td>1</td>\n",
       "      <td>0</td>\n",
       "      <td>0</td>\n",
       "      <td>1</td>\n",
       "      <td>0</td>\n",
       "      <td>6.0</td>\n",
       "      <td>0</td>\n",
       "    </tr>\n",
       "    <tr>\n",
       "      <th>17</th>\n",
       "      <td>18</td>\n",
       "      <td>1.0</td>\n",
       "      <td>0.0</td>\n",
       "      <td>0</td>\n",
       "      <td>13.0000</td>\n",
       "      <td>0.0</td>\n",
       "      <td>2</td>\n",
       "      <td>0.0</td>\n",
       "      <td>0</td>\n",
       "      <td>1</td>\n",
       "      <td>0</td>\n",
       "      <td>0</td>\n",
       "      <td>0</td>\n",
       "      <td>1</td>\n",
       "      <td>1.0</td>\n",
       "      <td>2</td>\n",
       "    </tr>\n",
       "    <tr>\n",
       "      <th>18</th>\n",
       "      <td>19</td>\n",
       "      <td>0.0</td>\n",
       "      <td>1.0</td>\n",
       "      <td>0</td>\n",
       "      <td>18.0000</td>\n",
       "      <td>0.0</td>\n",
       "      <td>3</td>\n",
       "      <td>1.0</td>\n",
       "      <td>1</td>\n",
       "      <td>0</td>\n",
       "      <td>0</td>\n",
       "      <td>0</td>\n",
       "      <td>0</td>\n",
       "      <td>1</td>\n",
       "      <td>2.0</td>\n",
       "      <td>1</td>\n",
       "    </tr>\n",
       "    <tr>\n",
       "      <th>19</th>\n",
       "      <td>20</td>\n",
       "      <td>1.0</td>\n",
       "      <td>0.0</td>\n",
       "      <td>0</td>\n",
       "      <td>7.2250</td>\n",
       "      <td>0.0</td>\n",
       "      <td>3</td>\n",
       "      <td>0.0</td>\n",
       "      <td>1</td>\n",
       "      <td>0</td>\n",
       "      <td>0</td>\n",
       "      <td>1</td>\n",
       "      <td>0</td>\n",
       "      <td>0</td>\n",
       "      <td>1.0</td>\n",
       "      <td>1</td>\n",
       "    </tr>\n",
       "  </tbody>\n",
       "</table>\n",
       "</div>"
      ],
      "text/plain": [
       "   PassengerId  Survived  Age  Cabin     Fare  Parch Pclass  SibSp  \\\n",
       "0            1       0.0  1.0      0   0.0000    0.0      3    1.0   \n",
       "1            2       1.0  1.0      3  71.2833    0.0      1    1.0   \n",
       "2            3       1.0  1.0      0   7.9250    0.0      3    0.0   \n",
       "3            4       1.0  1.0      3  53.1000    0.0      1    1.0   \n",
       "4            5       0.0  1.0      0   8.0500    0.0      3    0.0   \n",
       "5            6       0.0  0.0      0   8.4583    0.0      3    0.0   \n",
       "6            7       0.0  2.0      5  51.8625    0.0      1    0.0   \n",
       "7            8       0.0  0.0      0  21.0750    1.0      3    3.0   \n",
       "8            9       1.0  1.0      0  11.1333    2.0      3    0.0   \n",
       "9           10       1.0  1.0      0  30.0708    0.0      2    1.0   \n",
       "10          11       1.0  0.0      7  16.7000    1.0      3    1.0   \n",
       "11          12       1.0  2.0      3  26.5500    0.0      1    0.0   \n",
       "12          13       0.0  1.0      0   8.0500    0.0      3    0.0   \n",
       "13          14       0.0  1.0      0  31.2750    5.0      3    1.0   \n",
       "14          15       0.0  1.0      0   7.8542    0.0      3    0.0   \n",
       "15          16       1.0  2.0      0  16.0000    0.0      2    0.0   \n",
       "16          17       0.0  0.0      0  29.1250    1.0      3    4.0   \n",
       "17          18       1.0  0.0      0  13.0000    0.0      2    0.0   \n",
       "18          19       0.0  1.0      0  18.0000    0.0      3    1.0   \n",
       "19          20       1.0  0.0      0   7.2250    0.0      3    0.0   \n",
       "\n",
       "    Sex_female  Sex_male  Emb_  Emb_C  Emb_Q  Emb_S  FamiliySize  Title  \n",
       "0            0         1     0      0      0      1          2.0      2  \n",
       "1            1         0     0      1      0      0          2.0      1  \n",
       "2            1         0     0      0      0      1          1.0      1  \n",
       "3            1         0     0      0      0      1          2.0      1  \n",
       "4            0         1     0      0      0      1          1.0      2  \n",
       "5            0         1     0      0      1      0          1.0      2  \n",
       "6            0         1     0      0      0      1          1.0      2  \n",
       "7            0         1     0      0      0      1          5.0      0  \n",
       "8            1         0     0      0      0      1          3.0      1  \n",
       "9            1         0     0      1      0      0          2.0      1  \n",
       "10           1         0     0      0      0      1          3.0      1  \n",
       "11           1         0     0      0      0      1          1.0      1  \n",
       "12           0         1     0      0      0      1          1.0      2  \n",
       "13           0         1     0      0      0      1          7.0      2  \n",
       "14           1         0     0      0      0      1          1.0      1  \n",
       "15           1         0     0      0      0      1          1.0      1  \n",
       "16           0         1     0      0      1      0          6.0      0  \n",
       "17           0         1     0      0      0      1          1.0      2  \n",
       "18           1         0     0      0      0      1          2.0      1  \n",
       "19           1         0     0      1      0      0          1.0      1  "
      ]
     },
     "execution_count": 14,
     "metadata": {},
     "output_type": "execute_result"
    }
   ],
   "source": [
    "df_titanic = df_titanic.drop(\"Ticket\", axis=1)\n",
    "df_titanic = pd.get_dummies(df_titanic, columns = [\"Sex\"])\n",
    "df_titanic[\"Embarked\"] = df_titanic[\"Embarked\"].fillna(\"S\")\n",
    "df_titanic = pd.get_dummies(df_titanic, columns = [\"Embarked\"], prefix=\"Emb\")\n",
    "cpt_row=0\n",
    "\n",
    "# On génère un indicateur de la \"Classe\" de la cabine, 0 étant la moins bien et 7 la mieux\n",
    "for row_titanic in df_titanic[\"Cabin\"]:\n",
    "    if str(row_titanic)==\"\":\n",
    "        df_titanic.loc[[cpt_row], ['Cabin']]=0\n",
    "    elif str(row_titanic)[0]==\"A\":\n",
    "            df_titanic.loc[[cpt_row], ['Cabin']]=1\n",
    "    elif str(row_titanic)[0]==\"B\":\n",
    "            df_titanic.loc[[cpt_row], ['Cabin']]=2\n",
    "    elif str(row_titanic)[0]==\"C\":\n",
    "            df_titanic.loc[[cpt_row], ['Cabin']]=3\n",
    "    elif str(row_titanic)[0]==\"D\":\n",
    "            df_titanic.loc[[cpt_row], ['Cabin']]=4\n",
    "    elif str(row_titanic)[0]==\"E\":\n",
    "            df_titanic.loc[[cpt_row], ['Cabin']]=5\n",
    "    elif str(row_titanic)[0]==\"F\":\n",
    "            df_titanic.loc[[cpt_row], ['Cabin']]=6\n",
    "    elif str(row_titanic)[0]==\"G\":\n",
    "            df_titanic.loc[[cpt_row], ['Cabin']]=7\n",
    "    else:\n",
    "        df_titanic.loc[[cpt_row], ['Cabin']]=0\n",
    "        \n",
    "    cpt_row=cpt_row+1\n",
    "    \n",
    "cpt_row=0\n",
    "df_titanic[\"Fare\"] = df_titanic[\"Fare\"].astype(\"float\")\n",
    "#df_titanic[\"Fare\"] = df_titanic[\"Fare\"].fillna(df_titanic[\"Fare\"].median())\n",
    "\n",
    "for row_titanic in df_titanic[\"Fare\"]:\n",
    "    if row_titanic<10:\n",
    "        df_titanic.loc[[cpt_row], ['Fare']]=0\n",
    "    elif row_titanic>=10 and  row_titanic<50 :\n",
    "            df_titanic.loc[[cpt_row], ['Fare']]=1\n",
    "    elif row_titanic>50:\n",
    "            df_titanic.loc[[cpt_row], ['Fare']]=2\n",
    "    else:\n",
    "            df_titanic.loc[[cpt_row], ['Fare']]=0\n",
    " \n",
    "# On utilise la variable nom pour créer des variables indicatives \n",
    "# Certains nom contiennt \"comptesse\" \"capitaine\", etc ...\n",
    "df_titanic[\"FamiliySize\"] = df_titanic[\"SibSp\"] + df_titanic[\"Parch\"] + 1\n",
    "salutation = [i.split(\",\")[1].split(\".\")[0].strip() for i in df_titanic[\"Name\"]]\n",
    "df_titanic[\"Title\"] = pd.Series(salutation)\n",
    "df_titanic[\"Title\"].unique()\n",
    "df_titanic[\"Title\"] = df_titanic[\"Title\"].replace(['Lady', 'the Countess','Countess','Capt', 'Col','Don', 'Dr', 'Major', 'Rev', 'Sir', 'Jonkheer', 'Dona'], 'Rare')\n",
    "df_titanic[\"Title\"] = df_titanic[\"Title\"].map({\"Master\":0, \"Miss\":1, \"Ms\" : 1 , \"Mme\":1, \"Mlle\":1, \"Mrs\":1, \"Mr\":2, \"Rare\":3})\n",
    "df_titanic[\"Title\"] = df_titanic[\"Title\"].astype(int)\n",
    "df_titanic=df_titanic.drop(\"Name\", axis=1)\n",
    "\n",
    "df_titanic[\"Age\"] = df_titanic[\"Age\"].fillna(df_titanic[\"Age\"].median())\n",
    "for row_titanic in df_titanic[\"Age\"]:\n",
    "    if str(row_titanic)==\"\":\n",
    "        df_titanic.loc[[cpt_row], ['Age']]= 1\n",
    "    elif row_titanic<10 :\n",
    "        df_titanic.loc[[cpt_row], ['Age']]= 0\n",
    "    elif row_titanic>=10 and row_titanic<40:\n",
    "        df_titanic.loc[[cpt_row], ['Age']]= 1\n",
    "    else:\n",
    "        df_titanic.loc[[cpt_row], ['Age']]=2\n",
    "    cpt_row=cpt_row+1\n",
    "    \n",
    "df_titanic=df_titanic.dropna()\n",
    "\n",
    "df_titanic[\"Survived\"] = df_titanic[\"Survived\"].astype(\"float\")\n",
    "\n",
    "# Reindexing\n",
    "target = df_titanic[\"Survived\"]\n",
    "df_titanic = df_titanic.drop(\"Survived\", axis=1)\n",
    "ids = df_titanic[\"PassengerId\"]\n",
    "df_titanic = df_titanic.drop(\"PassengerId\", axis=1)\n",
    "\n",
    "df_titanic[\"Survived\"] = target\n",
    "df_titanic[\"PassengerId\"] = ids\n",
    "df_titanic = df_titanic.reindex(np.concatenate(([\"PassengerId\", \"Survived\"],\n",
    "                                                df_titanic.columns[:-2].values)),\n",
    "                                axis=1)\n",
    "\n",
    "df_titanic.head(20)"
   ]
  },
  {
   "cell_type": "markdown",
   "metadata": {},
   "source": [
    "### Estimation des modèle"
   ]
  },
  {
   "cell_type": "markdown",
   "metadata": {},
   "source": [
    "* Séparation Train set / Test set"
   ]
  },
  {
   "cell_type": "code",
   "execution_count": 15,
   "metadata": {},
   "outputs": [],
   "source": [
    "df_train, df_test = skl_model_selection.train_test_split(df_titanic)\n",
    "\n",
    "X = df_titanic.iloc[:, 2:]\n",
    "Y = df_titanic[\"Survived\"]\n",
    "df_train = df_train.reset_index(drop=True)\n",
    "df_test = df_test.reset_index(drop=True)\n",
    "\n",
    "# On split le dataset en train-set et test-set\n",
    "X_train = df_train.iloc[:, 2:]\n",
    "Y_train = df_train[\"Survived\"].astype(\"float\")\n",
    "X_test = df_test.iloc[:, 2:]\n",
    "Y_test = df_test[\"Survived\"].astype(\"float\")"
   ]
  },
  {
   "cell_type": "markdown",
   "metadata": {},
   "source": [
    " * Fonction d'affichage de la Matrice de Confusion"
   ]
  },
  {
   "cell_type": "code",
   "execution_count": 16,
   "metadata": {},
   "outputs": [],
   "source": [
    "def print_confusion_matrix(confusion_matrix, score):\n",
    "    plt.figure()\n",
    "    sns.heatmap(confusion_matrix, annot=True, fmt=\".3f\", linewidths=0.3, cmap = 'Blues');\n",
    "    plt.ylabel('True Label');\n",
    "    plt.xlabel('Predicted Label');\n",
    "    plt.title(\"Score de Prediction : \" + str(score))\n",
    "    plt.show()                         "
   ]
  },
  {
   "cell_type": "markdown",
   "metadata": {},
   "source": [
    " * Fonction de calcul du ROC"
   ]
  },
  {
   "cell_type": "code",
   "execution_count": 17,
   "metadata": {},
   "outputs": [],
   "source": [
    "def get_roc_curve(Y_test, proba_Y, predicted_Y, classe_name): \n",
    "    # False Positive Rate\n",
    "    fpr_cl = dict()\n",
    "    # True Positive Rate\n",
    "    tpr_cl = dict()\n",
    "    fpr_cl[classe_name[0]], tpr_cl[classe_name[0]], _ = \\\n",
    "        skl_metrics.roc_curve(Y_test == 0, proba_Y[:, 0].ravel())\n",
    "    fpr_cl[classe_name[1]], tpr_cl[classe_name[1]], _ = \\\n",
    "        skl_metrics.roc_curve(Y_test, proba_Y[:, 1].ravel())\n",
    "\n",
    "    prob_pred = np.array([proba_Y[i, 1 if c else 0]\n",
    "                         for i, c in enumerate(predicted_Y)])\n",
    "    \n",
    "    fpr_cl[classe_name[2]], tpr_cl[classe_name[2]], _ = \\\n",
    "    skl_metrics.roc_curve((predicted_Y == Y_test).ravel(), prob_pred)\n",
    "    \n",
    "    # Affichage de la Courbe ROC\n",
    "    plt.figure()\n",
    "    for key in fpr_cl:\n",
    "        plt.plot(fpr_cl[key], tpr_cl[key], label=key)\n",
    "    lw = 2\n",
    "    plt.plot([0, 1], [0, 1], color='navy', lw=lw, linestyle='--')\n",
    "    plt.xlim([0.0, 1.0])\n",
    "    plt.ylim([0.0, 1.05])\n",
    "    plt.xlabel(\"Proportion mal classée\")\n",
    "    plt.ylabel(\"Proportion bien classée\")\n",
    "    plt.title('ROC(s) avec predict_proba')\n",
    "    plt.legend(loc=\"lower right\")\n",
    "    \n",
    "    return(fpr_cl[classe_name[2]], tpr_cl[classe_name[2]])"
   ]
  },
  {
   "cell_type": "markdown",
   "metadata": {},
   "source": [
    "#### Modèle 1 ) Régression Logistique"
   ]
  },
  {
   "cell_type": "code",
   "execution_count": 18,
   "metadata": {},
   "outputs": [],
   "source": [
    "df_confusion_matrix = pd.DataFrame(index=[\"Classe_0\", \"Classe_1\"])\n",
    "all_scores = pd.DataFrame()"
   ]
  },
  {
   "cell_type": "code",
   "execution_count": 19,
   "metadata": {},
   "outputs": [
    {
     "data": {
      "image/png": "[encoded data removed]",
      "text/plain": [
       "<Figure size 432x288 with 2 Axes>"
      ]
     },
     "metadata": {
      "needs_background": "light"
     },
     "output_type": "display_data"
    },
    {
     "data": {
      "image/png": "[encoded data removed]",
      "text/plain": [
       "<Figure size 432x288 with 1 Axes>"
      ]
     },
     "metadata": {
      "needs_background": "light"
     },
     "output_type": "display_data"
    }
   ],
   "source": [
    "log_reg = skl_linear_mdl.LogisticRegression()\n",
    "log_reg.fit(X_train, Y_train)\n",
    "score = log_reg.score(X_test, Y_test)\n",
    "predicted_Y = log_reg.predict(X_test)\n",
    "proba_Y = log_reg.predict_proba(X_test)\n",
    "\n",
    "scores = cross_val_score(log_reg, X, Y, cv=10)\n",
    "\n",
    "confusion_matrix = skl_metrics.confusion_matrix(Y_test, predicted_Y)\n",
    "print_confusion_matrix(confusion_matrix,score)\n",
    "frp_global=[]\n",
    "tpr_global=[]\n",
    "AUC_global=dict()\n",
    "\n",
    "fpr_global=dict()\n",
    "tpr_global=dict()\n",
    "fpr_global[\"Regression Logistique\"],tpr_global[\"Regression Logistique\"] =  \\\n",
    "    get_roc_curve(Y_test, proba_Y, predicted_Y, [\"classe de 0\",\"classe de 1\",\"tout\"])\n",
    "AUC_global[\"Regression Logistique\"] = \\\n",
    "    skl_metrics.auc(fpr_global[\"Regression Logistique\"],tpr_global[\"Regression Logistique\"])\n",
    "df_confusion_matrix[\"Logit_Classe_0\"] = confusion_matrix[:, 0]\n",
    "df_confusion_matrix[\"Logit_Classe_1\"] = confusion_matrix[:, 1]\n",
    "all_scores.loc[1, \"logit\"]  = score"
   ]
  },
  {
   "cell_type": "markdown",
   "metadata": {},
   "source": [
    "#### Modèle 2) Forêts aléatoires"
   ]
  },
  {
   "cell_type": "code",
   "execution_count": 20,
   "metadata": {},
   "outputs": [
    {
     "data": {
      "image/png": "[encoded data removed]",
      "text/plain": [
       "<Figure size 432x288 with 2 Axes>"
      ]
     },
     "metadata": {
      "needs_background": "light"
     },
     "output_type": "display_data"
    },
    {
     "data": {
      "image/png": "[encoded data removed]",
      "text/plain": [
       "<Figure size 432x288 with 1 Axes>"
      ]
     },
     "metadata": {
      "needs_background": "light"
     },
     "output_type": "display_data"
    }
   ],
   "source": [
    "random_forest = skl_ensemble_mdl.RandomForestClassifier()\n",
    "random_forest.fit(X_train, Y_train)\n",
    "score = random_forest.score(X_test, Y_test)\n",
    "predicted_Y = random_forest.predict(X_test)\n",
    "proba_Y = random_forest.predict_proba(X_test)\n",
    "true_Y = Y_test\n",
    "\n",
    "\n",
    "feature_importances = pd.DataFrame(random_forest.feature_importances_,\n",
    "                                   index = X_train.columns,\n",
    "                                    columns=['importance']).sort_values('importance',ascending=False)\n",
    "\n",
    "scores = cross_val_score(random_forest, X, Y, cv=10)\n",
    "confusion_matrix = skl_metrics.confusion_matrix(true_Y, predicted_Y)\n",
    "print_confusion_matrix(confusion_matrix,score)\n",
    "\n",
    "fpr_global[\"Random Forest\"], tpr_global[\"Random Forest\"] = \\\n",
    "    get_roc_curve(Y_test, proba_Y, predicted_Y, [\"classe de 0\",\"classe de 1\",\"tout\"])\n",
    "AUC_global[\"Random Forest\"] = \\\n",
    "    skl_metrics.auc(fpr_global[\"Random Forest\"], tpr_global[\"Random Forest\"])\n",
    "df_confusion_matrix[\"Random_Forest_Classe_0\"] = confusion_matrix[:, 0]\n",
    "df_confusion_matrix[\"Random_Forest_Classe_1\"] = confusion_matrix[:, 1]\n",
    "all_scores.loc[1, \"rf\"]  = score"
   ]
  },
  {
   "cell_type": "markdown",
   "metadata": {},
   "source": [
    "#### Modèle 3) Analyse linéaire discriminante"
   ]
  },
  {
   "cell_type": "code",
   "execution_count": 21,
   "metadata": {},
   "outputs": [
    {
     "name": "stderr",
     "output_type": "stream",
     "text": [
      "/home/matthieu/anaconda3/lib/python3.7/site-packages/sklearn/discriminant_analysis.py:388: UserWarning: Variables are collinear.\n",
      "  warnings.warn(\"Variables are collinear.\")\n",
      "/home/matthieu/anaconda3/lib/python3.7/site-packages/sklearn/discriminant_analysis.py:388: UserWarning: Variables are collinear.\n",
      "  warnings.warn(\"Variables are collinear.\")\n",
      "/home/matthieu/anaconda3/lib/python3.7/site-packages/sklearn/discriminant_analysis.py:388: UserWarning: Variables are collinear.\n",
      "  warnings.warn(\"Variables are collinear.\")\n",
      "/home/matthieu/anaconda3/lib/python3.7/site-packages/sklearn/discriminant_analysis.py:388: UserWarning: Variables are collinear.\n",
      "  warnings.warn(\"Variables are collinear.\")\n",
      "/home/matthieu/anaconda3/lib/python3.7/site-packages/sklearn/discriminant_analysis.py:388: UserWarning: Variables are collinear.\n",
      "  warnings.warn(\"Variables are collinear.\")\n",
      "/home/matthieu/anaconda3/lib/python3.7/site-packages/sklearn/discriminant_analysis.py:388: UserWarning: Variables are collinear.\n",
      "  warnings.warn(\"Variables are collinear.\")\n",
      "/home/matthieu/anaconda3/lib/python3.7/site-packages/sklearn/discriminant_analysis.py:388: UserWarning: Variables are collinear.\n",
      "  warnings.warn(\"Variables are collinear.\")\n",
      "/home/matthieu/anaconda3/lib/python3.7/site-packages/sklearn/discriminant_analysis.py:388: UserWarning: Variables are collinear.\n",
      "  warnings.warn(\"Variables are collinear.\")\n",
      "/home/matthieu/anaconda3/lib/python3.7/site-packages/sklearn/discriminant_analysis.py:388: UserWarning: Variables are collinear.\n",
      "  warnings.warn(\"Variables are collinear.\")\n",
      "/home/matthieu/anaconda3/lib/python3.7/site-packages/sklearn/discriminant_analysis.py:388: UserWarning: Variables are collinear.\n",
      "  warnings.warn(\"Variables are collinear.\")\n",
      "/home/matthieu/anaconda3/lib/python3.7/site-packages/sklearn/discriminant_analysis.py:388: UserWarning: Variables are collinear.\n",
      "  warnings.warn(\"Variables are collinear.\")\n"
     ]
    },
    {
     "data": {
      "image/png": "[encoded data removed]",
      "text/plain": [
       "<Figure size 432x288 with 2 Axes>"
      ]
     },
     "metadata": {
      "needs_background": "light"
     },
     "output_type": "display_data"
    },
    {
     "data": {
      "image/png": "[encoded data removed]",
      "text/plain": [
       "<Figure size 432x288 with 1 Axes>"
      ]
     },
     "metadata": {
      "needs_background": "light"
     },
     "output_type": "display_data"
    }
   ],
   "source": [
    "lda = skl_discriminant_analysis.LinearDiscriminantAnalysis()\n",
    "lda.fit(X_train, Y_train)\n",
    "score = lda.score(X_test, Y_test)\n",
    "predicted_Y = lda.predict(X_test)\n",
    "proba_Y=lda.predict_proba(X_test)\n",
    "true_Y = Y_test\n",
    "\n",
    "scores = cross_val_score(lda, X, Y, cv=10)\n",
    "\n",
    "confusion_matrix = skl_metrics.confusion_matrix(true_Y, predicted_Y)\n",
    "print_confusion_matrix(confusion_matrix,score)\n",
    "\n",
    "fpr_global[\"ald\"],tpr_global[\"ald\"]=get_roc_curve(Y_test,proba_Y,predicted_Y,[\"classe de 0\",\"classe de 1\",\"tout\"])\n",
    "AUC_global[\"ald\"]=skl_metrics.auc(fpr_global[\"ald\"],tpr_global[\"ald\"])\n",
    "df_confusion_matrix[\"ALD_Classe_0\"] = confusion_matrix[:, 0]\n",
    "df_confusion_matrix[\"ALD_Classe_1\"] = confusion_matrix[:, 1]\n",
    "all_scores.loc[1, \"ald\"]  = score"
   ]
  },
  {
   "cell_type": "markdown",
   "metadata": {},
   "source": [
    "### Récapitulation des Modèles Estimés"
   ]
  },
  {
   "cell_type": "code",
   "execution_count": 22,
   "metadata": {},
   "outputs": [
    {
     "data": {
      "text/plain": [
       "<matplotlib.legend.Legend at 0x7fae77682b70>"
      ]
     },
     "execution_count": 22,
     "metadata": {},
     "output_type": "execute_result"
    },
    {
     "data": {
      "image/png": "[encoded data removed]",
      "text/plain": [
       "<Figure size 432x288 with 1 Axes>"
      ]
     },
     "metadata": {
      "needs_background": "light"
     },
     "output_type": "display_data"
    }
   ],
   "source": [
    "###Print des 3 ROC sur un même graph\n",
    "for key in fpr_global:\n",
    "    plt.plot(fpr_global[key], tpr_global[key], label=key +\" AUC: \" + str(round(AUC_global[key],3)))\n",
    "\n",
    "lw = 2\n",
    "\n",
    "plt.plot([0, 1], [0, 1], color='navy', lw=lw, linestyle='--')\n",
    "plt.xlim([0.0, 1.0])\n",
    "plt.ylim([0.0, 1.05])\n",
    "plt.xlabel(\"Proportion mal classée\")\n",
    "plt.ylabel(\"Proportion bien classée\")\n",
    "plt.title('ROC des différents modèles')\n",
    "plt.legend(loc=\"lower right\")"
   ]
  },
  {
   "cell_type": "markdown",
   "metadata": {},
   "source": [
    "### Construction d'un Datset ROC pour visualiser les résultats dans Kibana"
   ]
  },
  {
   "cell_type": "code",
   "execution_count": 23,
   "metadata": {},
   "outputs": [
    {
     "data": {
      "text/html": [
       "<div>\n",
       "<style scoped>\n",
       "    .dataframe tbody tr th:only-of-type {\n",
       "        vertical-align: middle;\n",
       "    }\n",
       "\n",
       "    .dataframe tbody tr th {\n",
       "        vertical-align: top;\n",
       "    }\n",
       "\n",
       "    .dataframe thead th {\n",
       "        text-align: right;\n",
       "    }\n",
       "</style>\n",
       "<table border=\"1\" class=\"dataframe\">\n",
       "  <thead>\n",
       "    <tr style=\"text-align: right;\">\n",
       "      <th></th>\n",
       "      <th>FPR_LOGIT</th>\n",
       "      <th>TPR_LOGIT</th>\n",
       "      <th>FPR_RF</th>\n",
       "      <th>TPR_RF</th>\n",
       "      <th>FPR_ALD</th>\n",
       "      <th>TPR_ALD</th>\n",
       "    </tr>\n",
       "  </thead>\n",
       "  <tbody>\n",
       "    <tr>\n",
       "      <th>0</th>\n",
       "      <td>0.000000</td>\n",
       "      <td>0.005263</td>\n",
       "      <td>0.000000</td>\n",
       "      <td>0.000000</td>\n",
       "      <td>0.000000</td>\n",
       "      <td>0.005208</td>\n",
       "    </tr>\n",
       "    <tr>\n",
       "      <th>1</th>\n",
       "      <td>0.000000</td>\n",
       "      <td>0.110526</td>\n",
       "      <td>0.297297</td>\n",
       "      <td>0.387097</td>\n",
       "      <td>0.000000</td>\n",
       "      <td>0.104167</td>\n",
       "    </tr>\n",
       "    <tr>\n",
       "      <th>2</th>\n",
       "      <td>0.030303</td>\n",
       "      <td>0.110526</td>\n",
       "      <td>0.297297</td>\n",
       "      <td>0.419355</td>\n",
       "      <td>0.032258</td>\n",
       "      <td>0.104167</td>\n",
       "    </tr>\n",
       "    <tr>\n",
       "      <th>3</th>\n",
       "      <td>0.030303</td>\n",
       "      <td>0.189474</td>\n",
       "      <td>0.297297</td>\n",
       "      <td>0.435484</td>\n",
       "      <td>0.032258</td>\n",
       "      <td>0.145833</td>\n",
       "    </tr>\n",
       "    <tr>\n",
       "      <th>4</th>\n",
       "      <td>0.060606</td>\n",
       "      <td>0.210526</td>\n",
       "      <td>0.297297</td>\n",
       "      <td>0.446237</td>\n",
       "      <td>0.064516</td>\n",
       "      <td>0.166667</td>\n",
       "    </tr>\n",
       "    <tr>\n",
       "      <th>5</th>\n",
       "      <td>0.060606</td>\n",
       "      <td>0.247368</td>\n",
       "      <td>0.297297</td>\n",
       "      <td>0.451613</td>\n",
       "      <td>0.064516</td>\n",
       "      <td>0.234375</td>\n",
       "    </tr>\n",
       "    <tr>\n",
       "      <th>6</th>\n",
       "      <td>0.090909</td>\n",
       "      <td>0.247368</td>\n",
       "      <td>0.324324</td>\n",
       "      <td>0.451613</td>\n",
       "      <td>0.096774</td>\n",
       "      <td>0.234375</td>\n",
       "    </tr>\n",
       "    <tr>\n",
       "      <th>7</th>\n",
       "      <td>0.090909</td>\n",
       "      <td>0.257895</td>\n",
       "      <td>0.324324</td>\n",
       "      <td>0.456989</td>\n",
       "      <td>0.096774</td>\n",
       "      <td>0.244792</td>\n",
       "    </tr>\n",
       "    <tr>\n",
       "      <th>8</th>\n",
       "      <td>0.090909</td>\n",
       "      <td>0.268421</td>\n",
       "      <td>0.324324</td>\n",
       "      <td>0.505376</td>\n",
       "      <td>0.096774</td>\n",
       "      <td>0.255208</td>\n",
       "    </tr>\n",
       "    <tr>\n",
       "      <th>9</th>\n",
       "      <td>0.090909</td>\n",
       "      <td>0.278947</td>\n",
       "      <td>0.351351</td>\n",
       "      <td>0.516129</td>\n",
       "      <td>0.096774</td>\n",
       "      <td>0.265625</td>\n",
       "    </tr>\n",
       "  </tbody>\n",
       "</table>\n",
       "</div>"
      ],
      "text/plain": [
       "   FPR_LOGIT  TPR_LOGIT    FPR_RF    TPR_RF   FPR_ALD   TPR_ALD\n",
       "0   0.000000   0.005263  0.000000  0.000000  0.000000  0.005208\n",
       "1   0.000000   0.110526  0.297297  0.387097  0.000000  0.104167\n",
       "2   0.030303   0.110526  0.297297  0.419355  0.032258  0.104167\n",
       "3   0.030303   0.189474  0.297297  0.435484  0.032258  0.145833\n",
       "4   0.060606   0.210526  0.297297  0.446237  0.064516  0.166667\n",
       "5   0.060606   0.247368  0.297297  0.451613  0.064516  0.234375\n",
       "6   0.090909   0.247368  0.324324  0.451613  0.096774  0.234375\n",
       "7   0.090909   0.257895  0.324324  0.456989  0.096774  0.244792\n",
       "8   0.090909   0.268421  0.324324  0.505376  0.096774  0.255208\n",
       "9   0.090909   0.278947  0.351351  0.516129  0.096774  0.265625"
      ]
     },
     "execution_count": 23,
     "metadata": {},
     "output_type": "execute_result"
    }
   ],
   "source": [
    "df_roc_rf = pd.DataFrame()\n",
    "df_roc_logit = pd.DataFrame()\n",
    "df_roc_ald = pd.DataFrame()\n",
    "fpr = list(fpr_global.values())\n",
    "fpr_logit = fpr[0]\n",
    "fpr_rf = fpr[1]\n",
    "fpr_ald = fpr[2]\n",
    "\n",
    "tpr = list(tpr_global.values())\n",
    "tpr_logit = tpr[0]\n",
    "tpr_rf = tpr[1]\n",
    "tpr_ald = tpr[2]\n",
    "\n",
    "df_roc_logit[\"FPR_LOGIT\"] = fpr_logit\n",
    "df_roc_logit[\"TPR_LOGIT\"] = tpr_logit\n",
    "df_roc_rf[\"FPR_RF\"] = fpr_rf\n",
    "df_roc_rf[\"TPR_RF\"] = tpr_rf\n",
    "df_roc_ald[\"FPR_ALD\"] = fpr_ald\n",
    "df_roc_ald[\"TPR_ALD\"] = tpr_ald\n",
    "\n",
    "df_roc = df_roc_logit.join(df_roc_rf).join(df_roc_ald)\n",
    "\n",
    "# On remplace les NaN à la fin de certaines colonnes par 1 : \n",
    "# c'est la dernière valeur de chaque colonne \n",
    "df_roc = df_roc.fillna(1)\n",
    "\n",
    "df_roc.head(10)"
   ]
  },
  {
   "cell_type": "markdown",
   "metadata": {},
   "source": [
    "### Sélection des Features les plus importantes pour Kibana"
   ]
  },
  {
   "cell_type": "code",
   "execution_count": 24,
   "metadata": {},
   "outputs": [
    {
     "data": {
      "text/html": [
       "<div>\n",
       "<style scoped>\n",
       "    .dataframe tbody tr th:only-of-type {\n",
       "        vertical-align: middle;\n",
       "    }\n",
       "\n",
       "    .dataframe tbody tr th {\n",
       "        vertical-align: top;\n",
       "    }\n",
       "\n",
       "    .dataframe thead th {\n",
       "        text-align: right;\n",
       "    }\n",
       "</style>\n",
       "<table border=\"1\" class=\"dataframe\">\n",
       "  <thead>\n",
       "    <tr style=\"text-align: right;\">\n",
       "      <th></th>\n",
       "      <th>Feature_Name</th>\n",
       "      <th>Score</th>\n",
       "    </tr>\n",
       "  </thead>\n",
       "  <tbody>\n",
       "    <tr>\n",
       "      <th>0</th>\n",
       "      <td>Fare</td>\n",
       "      <td>2960.439060</td>\n",
       "    </tr>\n",
       "    <tr>\n",
       "      <th>1</th>\n",
       "      <td>Cabin</td>\n",
       "      <td>182.859457</td>\n",
       "    </tr>\n",
       "    <tr>\n",
       "      <th>2</th>\n",
       "      <td>Sex_female</td>\n",
       "      <td>117.699090</td>\n",
       "    </tr>\n",
       "    <tr>\n",
       "      <th>3</th>\n",
       "      <td>Sex_male</td>\n",
       "      <td>66.429697</td>\n",
       "    </tr>\n",
       "    <tr>\n",
       "      <th>4</th>\n",
       "      <td>Title</td>\n",
       "      <td>35.124157</td>\n",
       "    </tr>\n",
       "    <tr>\n",
       "      <th>5</th>\n",
       "      <td>Pclass</td>\n",
       "      <td>25.541000</td>\n",
       "    </tr>\n",
       "    <tr>\n",
       "      <th>6</th>\n",
       "      <td>Emb_C</td>\n",
       "      <td>12.798378</td>\n",
       "    </tr>\n",
       "    <tr>\n",
       "      <th>7</th>\n",
       "      <td>SibSp</td>\n",
       "      <td>5.559077</td>\n",
       "    </tr>\n",
       "  </tbody>\n",
       "</table>\n",
       "</div>"
      ],
      "text/plain": [
       "  Feature_Name        Score\n",
       "0         Fare  2960.439060\n",
       "1        Cabin   182.859457\n",
       "2   Sex_female   117.699090\n",
       "3     Sex_male    66.429697\n",
       "4        Title    35.124157\n",
       "5       Pclass    25.541000\n",
       "6        Emb_C    12.798378\n",
       "7        SibSp     5.559077"
      ]
     },
     "execution_count": 24,
     "metadata": {},
     "output_type": "execute_result"
    }
   ],
   "source": [
    "# feature extraction\n",
    "select_k_best = SelectKBest(score_func=chi2, k=8)\n",
    "select_k_best_opt = select_k_best.fit(X_train, Y_train)\n",
    "\n",
    "best_features_index = select_k_best_opt.get_support()\n",
    "best_features_names = list(X_train.columns[best_features_index])\n",
    "best_features_scores = pd.DataFrame(list(select_k_best_opt.scores_))\n",
    "\n",
    "df_best_features = pd.DataFrame()\n",
    "df_best_features[\"Feature_Name\"] = best_features_names\n",
    "df_best_features[\"Score\"] = best_features_scores[best_features_index].reset_index(drop=True)\n",
    "df_best_features = df_best_features.sort_values(by=\"Score\", ascending=False)\n",
    "df_best_features = df_best_features.reset_index(drop=True)\n",
    "\n",
    "df_best_features"
   ]
  },
  {
   "cell_type": "markdown",
   "metadata": {},
   "source": [
    "## 4) Visualisation des données"
   ]
  },
  {
   "cell_type": "markdown",
   "metadata": {},
   "source": [
    "### On lance les processus : ElasticSearch, Kibana ..."
   ]
  },
  {
   "cell_type": "code",
   "execution_count": 25,
   "metadata": {},
   "outputs": [],
   "source": [
    "## EN CAS DE PROBLEMES AVEC KIBANA\n",
    "try:\n",
    "    requests.delete(ES_URL + \"/.kibana\")\n",
    "    requests.delete(ES_URL + \"/.kibana_1\")\n",
    "    requests.delete(ES_URL + \"/.kibana_2\")\n",
    "    requests.delete(ES_URL + \"/.kibana_3\")\n",
    "except Exception as e:\n",
    "    pass"
   ]
  },
  {
   "cell_type": "code",
   "execution_count": 26,
   "metadata": {},
   "outputs": [
    {
     "name": "stdout",
     "output_type": "stream",
     "text": [
      "Starting ElasticSearch on http://localhost:9200...\n",
      "ElasticSearch OK\n",
      "connected on http://localhost:9200, cluster : elasticsearch\n",
      "Starting Kibana on http://localhost:5601...\n",
      "Kibana OK\n",
      "Opening ElasticSearch in the browser at address http://localhost:9200\n",
      "Opening Kibana in the browser at address http://localhost:5601\n"
     ]
    }
   ],
   "source": [
    "# Start elastic search process\n",
    "print(\"Starting ElasticSearch on \" + ES_URL + \"...\")\n",
    "\n",
    "if platform.system() == \"Darwin\":\n",
    "    es_proc = subprocess.Popen([\"elasticsearch\"])\n",
    "elif platform.system() == \"Windows\":\n",
    "    es_proc = subprocess.Popen([ES_PATH])\n",
    "elif platform.system() == \"Linux\":\n",
    "    es_proc = subprocess.Popen([ES_PATH])\n",
    "else:\n",
    "    print(\"ERROR : PLATFORM NOT RECOGNIZED\")\n",
    "    sys.exit(0)\n",
    "    \n",
    "time.sleep(30)\n",
    "try:\n",
    "    # Check if Elastic Search server is running\n",
    "    check_es_status = requests.get(ES_URL)\n",
    "    check_es_status = check_es_status.json()\n",
    "except Exception as e:\n",
    "    check_es_status = dict()\n",
    "    es_proc.terminate()\n",
    "    print(\"ERROR WHILE GET REQUEST ELASTIC SEARCH : \" + str(e))\n",
    "    \n",
    "if \"cluster_name\" in check_es_status.keys():\n",
    "    print(\"ElasticSearch OK\")\n",
    "    print(\"connected on \" + ES_URL + \", cluster : \" + check_es_status[\"cluster_name\"])\n",
    "else:\n",
    "    # Terminate elastic search process\n",
    "    es_proc.terminate()\n",
    "    check_es_status = dict()\n",
    "    print(\"ERROR RUNNING ELASTICSEARCH\")\n",
    "\n",
    "# Before starting Kibana, check if elastic search is correctly launched\n",
    "if \"cluster_name\" in check_es_status.keys():\n",
    "    print(\"Starting Kibana on \" + KIBANA_URL + \"...\")\n",
    "    \n",
    "    if platform.system() == \"Darwin\":\n",
    "        kibana_proc = subprocess.Popen([\"kibana\"])\n",
    "    elif platform.system() == \"Windows\":\n",
    "        kibana_proc = subprocess.Popen([KIBANA_PATH])\n",
    "    elif platform.system() == \"Linux\":\n",
    "        kibana_proc = subprocess.Popen([KIBANA_PATH])\n",
    "    else:\n",
    "        print(\"ERROR : PLATFORM NOT RECOGNIZED\")\n",
    "        es_proc.terminate()\n",
    "        sys.exit(0)\n",
    "        \n",
    "    time.sleep(10)\n",
    "    try:\n",
    "        # Check if Elastic Search server is running\n",
    "        check_kibana_status = requests.get(KIBANA_URL)\n",
    "        check_kibana_status = check_kibana_status.text\n",
    "    except Exception as e:\n",
    "        check_kibana_status = \"\"\n",
    "        print(\"ERROR WHILE GET REQUEST KIBANA : \" + str(e))\n",
    "    \n",
    "    # Check if Kibana server is correctly launched\n",
    "    if not check_kibana_status == \"\":\n",
    "        print(\"Kibana OK\")\n",
    "    else:\n",
    "        # Terminate Kibana process\n",
    "        kibana_proc.terminate()\n",
    "        print(\"ERROR RUNNING KIBANA\")\n",
    "else:\n",
    "    print(\"ERROR RUNNING KIBANA : ELASTIC SEARCH ISN'T COORECTLY STARTED\")\n",
    "    check_kibana_status = \"\"\n",
    "\n",
    "if \"cluster_name\" in check_es_status:\n",
    "    print(\"Opening ElasticSearch in the browser at address \" + ES_URL)\n",
    "    webbrowser.open(ES_URL, new=2)\n",
    "else:\n",
    "    print(\"ERROR RUNNING ELASTIC SEARCH, SO NOT OPENING IT IN WEB BROWSER\")\n",
    "if not check_kibana_status == \"\":\n",
    "    print(\"Opening Kibana in the browser at address \" + KIBANA_URL)\n",
    "    webbrowser.open(KIBANA_URL, new=2)\n",
    "else:\n",
    "    print(\"ERROR RUNNING KIBANA, SO NOT OPENING IT IN WEB BROWSER\")"
   ]
  },
  {
   "cell_type": "markdown",
   "metadata": {},
   "source": [
    "### Export des données (création des Index) dans ElasticSearch"
   ]
  },
  {
   "cell_type": "markdown",
   "metadata": {},
   "source": [
    " *  Creation de l'index ElasticSearch pour le Dataset entier"
   ]
  },
  {
   "cell_type": "code",
   "execution_count": 26,
   "metadata": {},
   "outputs": [
    {
     "name": "stdout",
     "output_type": "stream",
     "text": [
      "{'acknowledged': True, 'shards_acknowledged': True, 'index': 'titanic_all'}\n"
     ]
    }
   ],
   "source": [
    "# If Elastic Search Index already Exists, delete it\n",
    "requests.delete(ES_URL + \"/titanic_all\")\n",
    "requests.delete(ES_URL + \"/titanic_train\")\n",
    "requests.delete(ES_URL + \"/titanic_test\")\n",
    "requests.delete(ES_URL + \"/machine_learning\")\n",
    "requests.delete(ES_URL + \"/confusion_matrix\")\n",
    "requests.delete(ES_URL + \"/machine_learning_scores\")\n",
    "requests.delete(ES_URL + \"/machine_learning_AUC\")\n",
    "\n",
    "# Create Elastic Search index : \"test_index\"\n",
    "#index_mapping_json = json.dumps({\"daily_prices\" : {\n",
    "#                                        \"dynamic\": \"true\",\n",
    "#                                        \"properties\": {\n",
    "#                                        \"Date\" : {\"type\": \"date\"}\n",
    "#                                    }\n",
    "#                                }}\n",
    "#                               )\n",
    "#create_index_headers = {\"mappings\": index_mapping_json}\n",
    "#r = requests.put(ES_URL + \"/bitcoin\", headers=create_index_headers)\n",
    "r = requests.put(ES_URL + \"/titanic_all\")\n",
    "print(r.json())\n",
    "\n",
    "# On remplit l'index Elastic search nouvellement crée\n",
    "for i, df_row in enumerate(df.iterrows()):\n",
    "    row_to_dict = dict(df_row[1])\n",
    "    try:\n",
    "        r = requests.put(ES_URL + \"/titanic_all/dataset_all/\" + str(i),\n",
    "                         data=json.dumps(row_to_dict),\n",
    "                         headers={\"content-type\":\"application/json\"})\n",
    "        jresp = r.json()\n",
    "        if (\"error\" in jresp):\n",
    "            print(jresp)\n",
    "    except Exception as e:\n",
    "        print(e)\n",
    "        print(\"Error on this row : \" + str(row_to_dict))\n",
    "\n",
    "\n",
    "# Exemple Requête de données dans Elastic Search\n",
    "#str_request = \"_id:1\"\n",
    "#r = requests.get(ES_URL + \"/bitcoin/_search?q=\" + str_request)\n",
    "#r.json()"
   ]
  },
  {
   "cell_type": "markdown",
   "metadata": {},
   "source": [
    " *  Creation de l'index ElasticSearch pour le Dataset d'entrainement"
   ]
  },
  {
   "cell_type": "code",
   "execution_count": 27,
   "metadata": {},
   "outputs": [
    {
     "name": "stdout",
     "output_type": "stream",
     "text": [
      "{'acknowledged': True, 'shards_acknowledged': True, 'index': 'titanic_train'}\n"
     ]
    }
   ],
   "source": [
    "# If Elastic Search Index already Exists, delete it\n",
    "requests.delete(ES_URL + \"/titanic_train\")\n",
    "\n",
    "# Create Elastic Search index : \"test_index\"\n",
    "#index_mapping_json = json.dumps({\"daily_prices\" : {\n",
    "#                                        \"dynamic\": \"true\",\n",
    "#                                        \"properties\": {\n",
    "#                                        \"Date\" : {\"type\": \"date\"}\n",
    "#                                    }\n",
    "#                                }}\n",
    "#                               )\n",
    "#create_index_headers = {\"mappings\": index_mapping_json}\n",
    "#r = requests.put(ES_URL + \"/bitcoin\", headers=create_index_headers)\n",
    "r = requests.put(ES_URL + \"/titanic_train\")\n",
    "print(r.json())\n",
    "\n",
    "# On remplit l'index Elastic search nouvellement crée\n",
    "for i, df_row in enumerate(df_titanic.iterrows()):\n",
    "    row_to_dict = dict(df_row[1])\n",
    "    try:\n",
    "        r = requests.put(ES_URL + \"/titanic_train/dataset_train/\" + str(i),\n",
    "                         data=json.dumps(row_to_dict),\n",
    "                         headers={\"content-type\":\"application/json\"})\n",
    "        jresp = r.json()\n",
    "        if (\"error\" in jresp):\n",
    "            print(jresp)\n",
    "    except Exception as e:\n",
    "        print(e)\n",
    "        print(\"Error on this row : \" + str(row_to_dict))\n",
    "\n",
    "\n",
    "# Exemple Requête de données dans Elastic Search\n",
    "#str_request = \"_id:1\"\n",
    "#r = requests.get(ES_URL + \"/bitcoin/_search?q=\" + str_request)\n",
    "#r.json()"
   ]
  },
  {
   "cell_type": "markdown",
   "metadata": {},
   "source": [
    " *  Creation de l'index ElasticSearch pour le Dataset de test"
   ]
  },
  {
   "cell_type": "code",
   "execution_count": 28,
   "metadata": {},
   "outputs": [
    {
     "name": "stdout",
     "output_type": "stream",
     "text": [
      "{'acknowledged': True, 'shards_acknowledged': True, 'index': 'titanic_test'}\n"
     ]
    }
   ],
   "source": [
    "# If Elastic Search Index already Exists, delete it\n",
    "requests.delete(ES_URL + \"/titanic_test\")\n",
    "\n",
    "# Create Elastic Search index : \"test_index\"\n",
    "#index_mapping_json = json.dumps({\"daily_prices\" : {\n",
    "#                                        \"dynamic\": \"true\",\n",
    "#                                        \"properties\": {\n",
    "#                                        \"Date\" : {\"type\": \"date\"}\n",
    "#                                    }\n",
    "#                                }}\n",
    "#                               )\n",
    "#create_index_headers = {\"mappings\": index_mapping_json}\n",
    "#r = requests.put(ES_URL + \"/bitcoin\", headers=create_index_headers)\n",
    "r = requests.put(ES_URL + \"/titanic_test\")\n",
    "print(r.json())\n",
    "\n",
    "# On remplit l'index Elastic search nouvellement crée\n",
    "for i, df_row in enumerate(df_titanic_test.iterrows()):\n",
    "    row_to_dict = dict(df_row[1])\n",
    "    try:\n",
    "        r = requests.put(ES_URL + \"/titanic_test/dataset_test/\" + str(i),\n",
    "                         data=json.dumps(row_to_dict),\n",
    "                         headers={\"content-type\":\"application/json\"})\n",
    "        jresp = r.json()\n",
    "        if (\"error\" in jresp):\n",
    "            print(jresp)\n",
    "    except Exception as e:\n",
    "        print(e)\n",
    "        print(\"Error on this row : \" + str(row_to_dict))\n",
    "\n",
    "\n",
    "# Exemple Requête de données dans Elastic Search\n",
    "#str_request = \"_id:1\"\n",
    "#r = requests.get(ES_URL + \"/bitcoin/_search?q=\" + str_request)\n",
    "#r.json()"
   ]
  },
  {
   "cell_type": "markdown",
   "metadata": {},
   "source": [
    "* Creation de l'index ElasticSearch pour les résultats d'estimation (Courbe Roc)"
   ]
  },
  {
   "cell_type": "code",
   "execution_count": 29,
   "metadata": {},
   "outputs": [
    {
     "name": "stdout",
     "output_type": "stream",
     "text": [
      "{'acknowledged': True, 'shards_acknowledged': True, 'index': 'machine_learning'}\n"
     ]
    }
   ],
   "source": [
    "# If Elastic Search Index already Exists, delete it\n",
    "requests.delete(ES_URL + \"/machine_learning\")\n",
    "\n",
    "# Create Elastic Search index : \"test_index\"\n",
    "index_mapping_json = json.dumps({\"results\" : {\n",
    "                                        \"dynamic\": \"true\",\n",
    "                                }}\n",
    "                               )\n",
    "create_index_headers = {\"mappings\": index_mapping_json}\n",
    "r = requests.put(ES_URL + \"/machine_learning\")\n",
    "print(r.json())\n",
    "\n",
    "# On remplit l'index Elastic search nouvellement crée\n",
    "for i, df_row in enumerate(df_roc.iterrows()):\n",
    "    row_to_dict = dict(df_row[1])\n",
    "    try:\n",
    "        r = requests.put(ES_URL + \"/machine_learning/results/\" + str(i),\n",
    "                         data=json.dumps(row_to_dict),\n",
    "                         headers={\"content-type\":\"application/json\"})\n",
    "        jresp = r.json()\n",
    "        if (\"error\" in jresp):\n",
    "            print(jresp)\n",
    "    except Exception as e:\n",
    "        print(e)\n",
    "        print(\"Error on this row : \" + str(row_to_dict))"
   ]
  },
  {
   "cell_type": "markdown",
   "metadata": {},
   "source": [
    " * Creation de l'index ElasticSearch pour les résultats d'estimation (Confusion Matrix)"
   ]
  },
  {
   "cell_type": "code",
   "execution_count": 30,
   "metadata": {},
   "outputs": [
    {
     "name": "stdout",
     "output_type": "stream",
     "text": [
      "{'acknowledged': True, 'shards_acknowledged': True, 'index': 'confusion_matrix'}\n"
     ]
    }
   ],
   "source": [
    "# If Elastic Search Index already Exists, delete it\n",
    "requests.delete(ES_URL + \"/confusion_matrix\")\n",
    "\n",
    "# Create Elastic Search index : \"test_index\"\n",
    "index_mapping_json = json.dumps({\"results\" : {\n",
    "                                        \"dynamic\": \"true\",\n",
    "                                }}\n",
    "                               )\n",
    "create_index_headers = {\"mappings\": index_mapping_json}\n",
    "r = requests.put(ES_URL + \"/confusion_matrix\")\n",
    "print(r.json())\n",
    "\n",
    "# On remplit l'index Elastic search nouvellement crée\n",
    "for i, df_row in enumerate(df_confusion_matrix.iterrows()):\n",
    "    row_to_dict = dict(df_row[1])\n",
    "    row_to_dict = {key: float(it) for key, it in row_to_dict.items()}\n",
    "    try:\n",
    "        r = requests.put(ES_URL + \"/confusion_matrix/results/\" + str(i),\n",
    "                         data=json.dumps(row_to_dict),\n",
    "                         headers={\"content-type\":\"application/json\"})\n",
    "        jresp = r.json()\n",
    "        if (\"error\" in jresp):\n",
    "            print(jresp)\n",
    "    except Exception as e:\n",
    "        print(e)\n",
    "        print(\"Error on this row : \" + str(row_to_dict))"
   ]
  },
  {
   "cell_type": "markdown",
   "metadata": {},
   "source": [
    " * Creation de l'index ElasticSearch pour les résultats d'estimation (Prediction Scores)"
   ]
  },
  {
   "cell_type": "code",
   "execution_count": 204,
   "metadata": {},
   "outputs": [
    {
     "name": "stdout",
     "output_type": "stream",
     "text": [
      "{'acknowledged': True, 'shards_acknowledged': True, 'index': 'machine_learning_scores'}\n"
     ]
    }
   ],
   "source": [
    "# If Elastic Search Index already Exists, delete it\n",
    "requests.delete(ES_URL + \"/machine_learning_scores\")\n",
    "\n",
    "# Create Elastic Search index : \"test_index\"\n",
    "index_mapping_json = json.dumps({\"results\" : {\n",
    "                                        \"dynamic\": \"true\",\n",
    "                                }}\n",
    "                               )\n",
    "create_index_headers = {\"mappings\": index_mapping_json}\n",
    "r = requests.put(ES_URL + \"/machine_learning_scores\")\n",
    "print(r.json())\n",
    "\n",
    "# On remplit l'index Elastic search nouvellement crée\n",
    "for i, df_row in enumerate(all_scores.iterrows()):\n",
    "    row_to_dict = dict(df_row[1])\n",
    "    row_to_dict = {key: float(it) for key, it in row_to_dict.items()}\n",
    "    try:\n",
    "        r = requests.put(ES_URL + \"/machine_learning_scores/results/\" + str(i),\n",
    "                         data=json.dumps(row_to_dict),\n",
    "                         headers={\"content-type\":\"application/json\"})\n",
    "        jresp = r.json()\n",
    "        if (\"error\" in jresp):\n",
    "            print(jresp)\n",
    "    except Exception as e:\n",
    "        print(e)\n",
    "        print(\"Error on this row : \" + str(row_to_dict))"
   ]
  },
  {
   "cell_type": "markdown",
   "metadata": {},
   "source": [
    " * Creation de l'index ElasticSearch pour les résultats d'estimation (AUC)"
   ]
  },
  {
   "cell_type": "code",
   "execution_count": 205,
   "metadata": {},
   "outputs": [
    {
     "name": "stdout",
     "output_type": "stream",
     "text": [
      "{'acknowledged': True, 'shards_acknowledged': True, 'index': 'machine_learning_auc'}\n"
     ]
    }
   ],
   "source": [
    "# If Elastic Search Index already Exists, delete it\n",
    "requests.delete(ES_URL + \"/machine_learning_auc\")\n",
    "\n",
    "# Create Elastic Search index : \"test_index\"\n",
    "index_mapping_json = json.dumps({\"results\" : {\n",
    "                                        \"dynamic\": \"true\",\n",
    "                                }}\n",
    "                               )\n",
    "create_index_headers = {\"mappings\": index_mapping_json}\n",
    "r = requests.put(ES_URL + \"/machine_learning_auc\")\n",
    "print(r.json())\n",
    "\n",
    "# On remplit l'index Elastic search nouvellement crée\n",
    "df_AUC = pd.DataFrame(AUC_global,\n",
    "                      columns=[\"Random Forest\", \"Regression Logistique\", \"ald\"],\n",
    "                      index=[1])\n",
    "for i, df_row in enumerate(df_AUC.iterrows()):\n",
    "    row_to_dict = dict(df_row[1])\n",
    "    row_to_dict = {key: float(it) for key, it in row_to_dict.items()}\n",
    "    try:\n",
    "        r = requests.put(ES_URL + \"/machine_learning_auc/results/\" + str(i),\n",
    "                         data=json.dumps(row_to_dict),\n",
    "                         headers={\"content-type\":\"application/json\"})\n",
    "        jresp = r.json()\n",
    "        if (\"error\" in jresp):\n",
    "            print(jresp)\n",
    "    except Exception as e:\n",
    "        print(e)\n",
    "        print(\"Error on this row : \" + str(row_to_dict))"
   ]
  },
  {
   "cell_type": "markdown",
   "metadata": {},
   "source": [
    "* Creation de l'index ElasticSearch pour les résultats d'estimation (Feature Selection)"
   ]
  },
  {
   "cell_type": "code",
   "execution_count": 308,
   "metadata": {},
   "outputs": [
    {
     "name": "stdout",
     "output_type": "stream",
     "text": [
      "{'acknowledged': True, 'shards_acknowledged': True, 'index': 'machine_learning_best_features'}\n",
      "{'Feature_Name': 'Fare', 'Score': 2900.1885064412554}\n",
      "{'Feature_Name': 'Cabin', 'Score': 195.1578891072212}\n",
      "{'Feature_Name': 'Sex_female', 'Score': 120.81587903594252}\n",
      "{'Feature_Name': 'Sex_male', 'Score': 68.18882165728837}\n",
      "{'Feature_Name': 'Title', 'Score': 32.97188439551437}\n",
      "{'Feature_Name': 'Pclass', 'Score': 20.640591774475183}\n",
      "{'Feature_Name': 'Emb_C', 'Score': 11.642411227854897}\n",
      "{'Feature_Name': 'Emb_S', 'Score': 4.574614862394901}\n"
     ]
    }
   ],
   "source": [
    "# If Elastic Search Index already Exists, delete it\n",
    "requests.delete(ES_URL + \"/machine_learning_best_features\")\n",
    "\n",
    "# Create Elastic Search index : \"test_index\"\n",
    "index_mapping_json = json.dumps({\"results\" : {\n",
    "                                        \"dynamic\": \"true\",\n",
    "                                }}\n",
    "                               )\n",
    "create_index_headers = {\"mappings\": index_mapping_json}\n",
    "r = requests.put(ES_URL + \"/machine_learning_best_features\")\n",
    "print(r.json())\n",
    "\n",
    "# On remplit l'index Elastic search nouvellement crée\n",
    "for i, df_row in enumerate(df_best_features.iterrows()):\n",
    "    row_to_dict = dict(df_row[1])\n",
    "    print(row_to_dict)\n",
    "    #row_to_dict = {key: float(it) for key, it in row_to_dict.items()}\n",
    "    try:\n",
    "        r = requests.put(ES_URL + \"/machine_learning_best_features/results/\" + str(i),\n",
    "                         data=json.dumps(row_to_dict),\n",
    "                         headers={\"content-type\":\"application/json\"})\n",
    "        jresp = r.json()\n",
    "        if (\"error\" in jresp):\n",
    "            print(jresp)\n",
    "    except Exception as e:\n",
    "        print(e)\n",
    "        print(\"Error on this row : \" + str(row_to_dict))"
   ]
  },
  {
   "cell_type": "markdown",
   "metadata": {},
   "source": [
    "### Création des Index-Pattern dans Kibana"
   ]
  },
  {
   "cell_type": "markdown",
   "metadata": {},
   "source": [
    " * On overwrite l'index .Kibana  dans ElasticSearch pour autoriser la création d'index dans Kibana"
   ]
  },
  {
   "cell_type": "code",
   "execution_count": 336,
   "metadata": {},
   "outputs": [
    {
     "data": {
      "text/plain": [
       "{'acknowledged': True}"
      ]
     },
     "execution_count": 336,
     "metadata": {},
     "output_type": "execute_result"
    }
   ],
   "source": [
    "requests.delete(ES_URL + \"/.kibana\")\n",
    "\n",
    "data_json = {\n",
    "    \"index.mapper.dynamic\": \"true\"\n",
    "}\n",
    "data_json = data_json\n",
    "\n",
    "r = requests.put(\"http://localhost:9200/.kibana/\", headers=data_json)\n",
    "\n",
    "data_json = {\"dynamic\": \"true\"}\n",
    "r = requests.put(\"http://localhost:9200/.kibana/_mapping/doc\",\n",
    "                  headers={\"content-type\":\"application/json\", \n",
    "                           'kbn-xsrf': 'anything'},\n",
    "                 data=json.dumps(data_json))\n",
    "r.json()"
   ]
  },
  {
   "cell_type": "markdown",
   "metadata": {},
   "source": [
    " * création du titanic_train index-pattern"
   ]
  },
  {
   "cell_type": "code",
   "execution_count": 337,
   "metadata": {},
   "outputs": [
    {
     "data": {
      "text/plain": [
       "{'attributes': {'title': 'titanic_train'},\n",
       " 'id': 'titanic_train',\n",
       " 'type': 'index-pattern',\n",
       " 'updated_at': '2018-12-17T17:02:54.874Z',\n",
       " 'version': 12}"
      ]
     },
     "execution_count": 337,
     "metadata": {},
     "output_type": "execute_result"
    }
   ],
   "source": [
    "data_json = {\n",
    "    \"title\": \"titanic_train\",\n",
    "    #\"timeFieldName\": \"Date\"\n",
    "}\n",
    "\n",
    "data_json = '{\"attributes\" : ' + json.dumps(data_json) + '}'\n",
    "\n",
    "r = requests.post(\"http://localhost:5601/api/saved_objects/index-pattern/titanic_train?overwrite=true\", \n",
    "                  data=data_json,\n",
    "                  headers={\"content-type\":\"application/json\", \n",
    "                           'kbn-xsrf': 'anything'}\n",
    "                 )\n",
    "r.json()"
   ]
  },
  {
   "cell_type": "markdown",
   "metadata": {},
   "source": [
    " * création du machine_learing index-pattern"
   ]
  },
  {
   "cell_type": "code",
   "execution_count": 338,
   "metadata": {},
   "outputs": [
    {
     "data": {
      "text/plain": [
       "{'attributes': {'title': 'machine_learning'},\n",
       " 'id': 'machine_learning',\n",
       " 'type': 'index-pattern',\n",
       " 'updated_at': '2018-12-17T17:02:55.266Z',\n",
       " 'version': 12}"
      ]
     },
     "execution_count": 338,
     "metadata": {},
     "output_type": "execute_result"
    }
   ],
   "source": [
    "data_json = {\n",
    "    \"title\": \"machine_learning\",\n",
    "}\n",
    "\n",
    "data_json = '{\"attributes\" : ' + json.dumps(data_json) + '}'\n",
    "\n",
    "r = requests.post(\"http://localhost:5601/api/saved_objects/index-pattern/machine_learning?overwrite=true\", \n",
    "                  data=data_json,\n",
    "                  headers={\"content-type\":\"application/json\", \n",
    "                           'kbn-xsrf': 'anything'}\n",
    "                 )\n",
    "r.json()"
   ]
  },
  {
   "cell_type": "markdown",
   "metadata": {},
   "source": [
    "* Création du confusion_matrix index-pattern"
   ]
  },
  {
   "cell_type": "code",
   "execution_count": 339,
   "metadata": {},
   "outputs": [
    {
     "data": {
      "text/plain": [
       "{'attributes': {'title': 'confusion_matrix'},\n",
       " 'id': 'confusion_matrix',\n",
       " 'type': 'index-pattern',\n",
       " 'updated_at': '2018-12-17T17:02:56.284Z',\n",
       " 'version': 12}"
      ]
     },
     "execution_count": 339,
     "metadata": {},
     "output_type": "execute_result"
    }
   ],
   "source": [
    "data_json = {\n",
    "    \"title\": \"confusion_matrix\",\n",
    "}\n",
    "\n",
    "data_json = '{\"attributes\" : ' + json.dumps(data_json) + '}'\n",
    "\n",
    "r = requests.post(\"http://localhost:5601/api/saved_objects/index-pattern/confusion_matrix?overwrite=true\", \n",
    "                  data=data_json,\n",
    "                  headers={\"content-type\":\"application/json\", \n",
    "                           'kbn-xsrf': 'anything'}\n",
    "                 )\n",
    "r.json()"
   ]
  },
  {
   "cell_type": "markdown",
   "metadata": {},
   "source": [
    "* Création du machine_learning_scores index-pattern"
   ]
  },
  {
   "cell_type": "code",
   "execution_count": 340,
   "metadata": {},
   "outputs": [
    {
     "data": {
      "text/plain": [
       "{'attributes': {'title': 'machine_learning_scores'},\n",
       " 'id': 'machine_learning_scores',\n",
       " 'type': 'index-pattern',\n",
       " 'updated_at': '2018-12-17T17:02:57.308Z',\n",
       " 'version': 13}"
      ]
     },
     "execution_count": 340,
     "metadata": {},
     "output_type": "execute_result"
    }
   ],
   "source": [
    "data_json = {\n",
    "    \"title\": \"machine_learning_scores\",\n",
    "}\n",
    "\n",
    "data_json = '{\"attributes\" : ' + json.dumps(data_json) + '}'\n",
    "\n",
    "r = requests.post(\"http://localhost:5601/api/saved_objects/index-pattern/machine_learning_scores?overwrite=true\", \n",
    "                  data=data_json,\n",
    "                  headers={\"content-type\":\"application/json\", \n",
    "                           'kbn-xsrf': 'anything'}\n",
    "                 )\n",
    "r.json()"
   ]
  },
  {
   "cell_type": "markdown",
   "metadata": {},
   "source": [
    "* Création du machine_learning_auc index-pattern"
   ]
  },
  {
   "cell_type": "code",
   "execution_count": 341,
   "metadata": {},
   "outputs": [
    {
     "data": {
      "text/plain": [
       "{'attributes': {'title': 'machine_learning_auc'},\n",
       " 'id': 'machine_learning_auc',\n",
       " 'type': 'index-pattern',\n",
       " 'updated_at': '2018-12-17T17:02:58.353Z',\n",
       " 'version': 13}"
      ]
     },
     "execution_count": 341,
     "metadata": {},
     "output_type": "execute_result"
    }
   ],
   "source": [
    "data_json = {\n",
    "    \"title\": \"machine_learning_auc\",\n",
    "}\n",
    "\n",
    "data_json = '{\"attributes\" : ' + json.dumps(data_json) + '}'\n",
    "\n",
    "r = requests.post(\"http://localhost:5601/api/saved_objects/index-pattern/machine_learning_auc?overwrite=true\", \n",
    "                  data=data_json,\n",
    "                  headers={\"content-type\":\"application/json\", \n",
    "                           'kbn-xsrf': 'anything'}\n",
    "                 )\n",
    "r.json()"
   ]
  },
  {
   "cell_type": "markdown",
   "metadata": {},
   "source": [
    "* Création du machine_learning_best_features index-pattern"
   ]
  },
  {
   "cell_type": "code",
   "execution_count": 342,
   "metadata": {},
   "outputs": [
    {
     "data": {
      "text/plain": [
       "{'attributes': {'title': 'machine_learning_best_features'},\n",
       " 'id': 'machine_learning_best_features',\n",
       " 'type': 'index-pattern',\n",
       " 'updated_at': '2018-12-17T17:02:59.356Z',\n",
       " 'version': 4}"
      ]
     },
     "execution_count": 342,
     "metadata": {},
     "output_type": "execute_result"
    }
   ],
   "source": [
    "data_json = {\n",
    "    \"title\": \"machine_learning_best_features\",\n",
    "}\n",
    "\n",
    "data_json = '{\"attributes\" : ' + json.dumps(data_json) + '}'\n",
    "\n",
    "r = requests.post(\"http://localhost:5601/api/saved_objects/index-pattern/machine_learning_best_features?overwrite=true\", \n",
    "                  data=data_json,\n",
    "                  headers={\"content-type\":\"application/json\", \n",
    "                           'kbn-xsrf': 'anything'}\n",
    "                 )\n",
    "r.json()"
   ]
  },
  {
   "cell_type": "markdown",
   "metadata": {},
   "source": [
    " * Définition du Default Index"
   ]
  },
  {
   "cell_type": "code",
   "execution_count": 343,
   "metadata": {},
   "outputs": [
    {
     "data": {
      "text/plain": [
       "{'settings': {'buildNum': {'userValue': 1},\n",
       "  'defaultIndex': {'userValue': 'titanic_train'}}}"
      ]
     },
     "execution_count": 343,
     "metadata": {},
     "output_type": "execute_result"
    }
   ],
   "source": [
    "data_json = {\n",
    "    \"value\": \"titanic_train\",\n",
    "}\n",
    "\n",
    "data_json = json.dumps(data_json)\n",
    "\n",
    "r = requests.post(\"http://localhost:5601/api/kibana/settings/defaultIndex\", \n",
    "                  data=data_json,\n",
    "                  headers={\"content-type\":\"application/json\", \n",
    "                           'kbn-xsrf': 'anything'}\n",
    "                 )\n",
    "r.json()"
   ]
  },
  {
   "cell_type": "markdown",
   "metadata": {},
   "source": [
    "### Creations des Visualisation dans Kibana"
   ]
  },
  {
   "cell_type": "markdown",
   "metadata": {},
   "source": [
    " * Visualizations"
   ]
  },
  {
   "cell_type": "code",
   "execution_count": 344,
   "metadata": {},
   "outputs": [
    {
     "name": "stdout",
     "output_type": "stream",
     "text": [
      "Visualization Age_VS_Survived was correclty created in Kibana !\n",
      "Visualization Title_VS_Survived was correclty created in Kibana !\n",
      "Visualization Family_Size_VS_Survived was correclty created in Kibana !\n",
      "Visualization ALD_Classe_0_predictions was correclty created in Kibana !\n",
      "Visualization ALD_Classe_1_predictions was correclty created in Kibana !\n",
      "Visualization ALD_ROC was correclty created in Kibana !\n",
      "Visualization ALD_AUC was correclty created in Kibana !\n",
      "Visualization ALD_SCORE was correclty created in Kibana !\n",
      "Visualization Logisitc_Regression_Classe_0_predictions was correclty created in Kibana !\n",
      "Visualization Logisitic_Regression_Classe_1_predictions was correclty created in Kibana !\n",
      "Visualization LOGIT_ROC was correclty created in Kibana !\n",
      "Visualization LOGIT_AUC was correclty created in Kibana !\n",
      "Visualization LOGIT_SCORE was correclty created in Kibana !\n",
      "Visualization Random_Forest_Classe_0_predictions was correclty created in Kibana !\n",
      "Visualization Random_Forest_Classe_1_predictions was correclty created in Kibana !\n",
      "Visualization RF_ROC was correclty created in Kibana !\n",
      "Visualization RF_AUC was correclty created in Kibana !\n",
      "Visualization RF_SCORE was correclty created in Kibana !\n"
     ]
    }
   ],
   "source": [
    "all_visualizations = \\\n",
    "    [\"Age_VS_Survived\",\n",
    "     \"Title_VS_Survived\", \n",
    "     \"Family_Size_VS_Survived\",\n",
    "     \"ALD_Classe_0_predictions\",\n",
    "     \"ALD_Classe_1_predictions\",\n",
    "     \"ALD_ROC\",\n",
    "     \"ALD_AUC\",\n",
    "     \"ALD_SCORE\",\n",
    "     \"Logisitc_Regression_Classe_0_predictions\",\n",
    "     \"Logisitic_Regression_Classe_1_predictions\",\n",
    "     \"LOGIT_ROC\",\n",
    "     \"LOGIT_AUC\",\n",
    "     \"LOGIT_SCORE\",\n",
    "     \"Random_Forest_Classe_0_predictions\",\n",
    "     \"Random_Forest_Classe_1_predictions\",\n",
    "     \"RF_ROC\",\n",
    "     \"RF_AUC\",\n",
    "     \"RF_SCORE\"\n",
    "    ]\n",
    "    \n",
    "for vizu in all_visualizations:\n",
    "    with open(\"Kibana_SavedObjects/\" + vizu + \".json\", \"r\") as f:\n",
    "        c = f.read()\n",
    "        c = c.replace(\" \", \"\") \\\n",
    "            .replace(\"\\\\n\", \"\").replace(\"\\n\", \"\").replace(\"\\\\\", \"\") \\\n",
    "            .replace('\"{\"', '{\"').replace('\"}\"', '}\"') \\\n",
    "            .replace(']}\"', ']}').replace('}}\"', '}}')\n",
    "        data_json = c\n",
    "    data_json = data_json.replace(\"_id\", \"id\") \\\n",
    "                            .replace(\"_type\", \"type\") \\\n",
    "                            .replace(\"_source\", \"attributes\")\n",
    "        \n",
    "    d = json.loads(data_json)\n",
    "    \n",
    "    visState = json.dumps(d[0][\"attributes\"][\"visState\"])\n",
    "    searchSourceJSON = json.dumps(d[0][\"attributes\"][\"kibanaSavedObjectMeta\"][\"searchSourceJSON\"])\n",
    "    if type(d[0][\"attributes\"][\"uiStateJSON\"]) == type(dict()): \n",
    "        uiStateJSON = json.dumps(d[0][\"attributes\"][\"uiStateJSON\"])\n",
    "        d[0][\"attributes\"][\"uiStateJSON\"] = uiStateJSON\n",
    "\n",
    "    d[0][\"attributes\"][\"visState\"] = visState\n",
    "    d[0][\"attributes\"][\"kibanaSavedObjectMeta\"][\"searchSourceJSON\"] = searchSourceJSON\n",
    "\n",
    "    data_json = json.dumps(d)\n",
    "    \n",
    "    if \"SCORE\" in vizu or \"AUC\" in vizu:\n",
    "        data_json = data_json.replace(\"GreentoRed\", \"Green to Red\")\n",
    "    \n",
    "    if \"RegressionLogistique\" in data_json:\n",
    "        data_json = data_json.replace(\"RegressionLogistique\", \"Regression Logistique\")\n",
    "    \n",
    "    if \"RandomForest\" in data_json:\n",
    "        data_json = data_json.replace(\"RandomForest\", \"Random Forest\")\n",
    "    \n",
    "    request_json =  '{\"objects\": ' + data_json + '}'\n",
    "\n",
    "    r = requests.post(\"http://localhost:5601/api/kibana/dashboards/import?exclude=index-pattern\", \n",
    "                     data=request_json,\n",
    "                     headers={\"content-type\":\"application/json\", \n",
    "                             'kbn-xsrf': 'anything'})\n",
    "    dic_rep = r.json()[\"objects\"][0]\n",
    "    \n",
    "    if \"error\" in dic_rep.keys():\n",
    "        print(\"ERROR : \")\n",
    "        print(dic_rep[\"error\"][\"message\"])\n",
    "    else:\n",
    "        print(\"Visualization \" + vizu + \" was correclty created in Kibana !\")"
   ]
  },
  {
   "cell_type": "markdown",
   "metadata": {},
   "source": [
    " * Feature Importances"
   ]
  },
  {
   "cell_type": "code",
   "execution_count": 358,
   "metadata": {},
   "outputs": [
    {
     "name": "stdout",
     "output_type": "stream",
     "text": [
      "Visualization Feature_Importances was correclty created in Kibana !\n"
     ]
    }
   ],
   "source": [
    "all_visualizations = \\\n",
    "    [\"Feature_Importances\",]\n",
    "    \n",
    "for vizu in all_visualizations:\n",
    "    with open(\"Kibana_SavedObjects/\" + vizu + \".json\", \"r\") as f:\n",
    "        c = f.read()\n",
    "        c = c.replace(\" \", \"\") \\\n",
    "            .replace(\"\\\\n\", \"\").replace(\"\\n\", \"\").replace(\"\\\\\", \"\") \\\n",
    "            .replace('\"{\"', '{\"').replace('\"}\"', '\"}').replace('}\"', '}')\n",
    "        data_json = c\n",
    "    data_json = data_json.replace(\"_id\", \"id\") \\\n",
    "                            .replace(\"_type\", \"type\") \\\n",
    "                            .replace(\"_source\", \"attributes\")\n",
    "    d = json.loads(data_json)\n",
    "    \n",
    "    visState = json.dumps(d[0][\"attributes\"][\"visState\"])\n",
    "    searchSourceJSON = json.dumps(d[0][\"attributes\"][\"kibanaSavedObjectMeta\"][\"searchSourceJSON\"])\n",
    "    if type(d[0][\"attributes\"][\"uiStateJSON\"]) == type(dict()): \n",
    "        uiStateJSON = json.dumps(d[0][\"attributes\"][\"uiStateJSON\"])\n",
    "        d[0][\"attributes\"][\"uiStateJSON\"] = uiStateJSON\n",
    "\n",
    "    d[0][\"attributes\"][\"visState\"] = visState\n",
    "    d[0][\"attributes\"][\"kibanaSavedObjectMeta\"][\"searchSourceJSON\"] = searchSourceJSON\n",
    "        \n",
    "    data_json = json.dumps(d)\n",
    "    \n",
    "    if 'field\\\\\": \\\\\"id' in data_json :\n",
    "        data_json = data_json.replace('field\\\\\": \\\\\"id', 'field\\\\\": \\\\\"_id')\n",
    "\n",
    "    request_json =  '{\"objects\": ' + data_json + '}'\n",
    "\n",
    "    r = requests.post(\"http://localhost:5601/api/kibana/dashboards/import?exclude=index-pattern\", \n",
    "                     data=request_json,\n",
    "                     headers={\"content-type\":\"application/json\", \n",
    "                             'kbn-xsrf': 'anything'})\n",
    "    dic_rep = r.json()[\"objects\"][0]\n",
    "    \n",
    "    if \"error\" in dic_rep.keys():\n",
    "        print(\"ERROR : \")\n",
    "        print(dic_rep[\"error\"][\"message\"])\n",
    "    else:\n",
    "        print(\"Visualization \" + vizu + \" was correclty created in Kibana !\")"
   ]
  },
  {
   "cell_type": "markdown",
   "metadata": {},
   "source": [
    " * Dashboard"
   ]
  },
  {
   "cell_type": "code",
   "execution_count": 347,
   "metadata": {},
   "outputs": [
    {
     "name": "stdout",
     "output_type": "stream",
     "text": [
      "Visualization Dashboard_ALD was correclty created in Kibana !\n",
      "Visualization Dashboard_Global was correclty created in Kibana !\n",
      "Visualization Dashboard_Logistic_Regression was correclty created in Kibana !\n",
      "Visualization Dashboard_Random_Forest was correclty created in Kibana !\n"
     ]
    }
   ],
   "source": [
    "all_visualizations = [\n",
    "    \"Dashboard_ALD\",\n",
    "    \"Dashboard_Global\",\n",
    "    \"Dashboard_Logistic_Regression\",\n",
    "    \"Dashboard_Random_Forest\"\n",
    "]\n",
    "\n",
    "for vizu in all_visualizations:\n",
    "    with open(\"Kibana_SavedObjects/\" + vizu + \".json\", \"r\") as f:\n",
    "        c = f.read()\n",
    "        c = c.replace(\" \", \"\") \\\n",
    "            .replace(\"\\\\n\", \"\").replace(\"\\n\", \"\").replace(\"\\\\\", \"\").replace('\"[', \"[\").replace(']\"', ']') \\\n",
    "            .replace('\"{\"', '{\"').replace('\"}\"', '}\"').replace('}\"', \"}\")\n",
    "        data_json = c\n",
    "    data_json = data_json.replace(\"_id\", \"id\") \\\n",
    "                            .replace(\"_type\", \"type\") \\\n",
    "                            .replace(\"_source\", \"attributes\")\n",
    "    d = json.loads(data_json)\n",
    "    panelsJSON = json.dumps(d[0][\"attributes\"][\"panelsJSON\"])\n",
    "    d[0][\"attributes\"][\"panelsJSON\"] = panelsJSON\n",
    "    optionsJSON = json.dumps(d[0][\"attributes\"][\"optionsJSON\"])\n",
    "    d[0][\"attributes\"][\"optionsJSON\"] = optionsJSON\n",
    "    searchSourceJSON = json.dumps(d[0][\"attributes\"][\"kibanaSavedObjectMeta\"][\"searchSourceJSON\"])\n",
    "    d[0][\"attributes\"][\"kibanaSavedObjectMeta\"][\"searchSourceJSON\"] = searchSourceJSON\n",
    "\n",
    "    data_json = json.dumps(d)\n",
    "\n",
    "    request_json =  '{\"objects\": ' + data_json + '}'\n",
    "\n",
    "    r = requests.post(\"http://localhost:5601/api/kibana/dashboards/import?exclude=index-pattern\", \n",
    "                     data=request_json,\n",
    "                     headers={\"content-type\":\"application/json\", \n",
    "                             'kbn-xsrf': 'anything'})\n",
    "    dic_rep = r.json()[\"objects\"][0]\n",
    "    \n",
    "    if \"error\" in dic_rep.keys():\n",
    "        print(\"ERROR : \")\n",
    "        print(dic_rep[\"error\"][\"message\"])\n",
    "    else:\n",
    "        print(\"Visualization \" + vizu + \" was correclty created in Kibana !\")"
   ]
  },
  {
   "cell_type": "markdown",
   "metadata": {},
   "source": [
    "#### On termine les processus de MongoDB, Kibana et Elastic Search"
   ]
  },
  {
   "cell_type": "code",
   "execution_count": 59,
   "metadata": {},
   "outputs": [
    {
     "name": "stdout",
     "output_type": "stream",
     "text": [
      "Ending MongoDB Process ...\n",
      "Ended MongoDB Process.\n",
      "Ending ElasticSearch Process...\n",
      "Ended ElasticSearch Process.\n",
      "Ending Kibana Process...\n",
      "Ended Kibana Process.\n"
     ]
    }
   ],
   "source": [
    "# Ending MondoDB\n",
    "print(\"Ending MongoDB Process ...\")\n",
    "if platform.system() == \"Darwin\":\n",
    "    pass_proc = subprocess.Popen([\"echo\", str(passwd)],\n",
    "                                stdout=subprocess.PIPE)\n",
    "    mongod_pid = subprocess.check_output([\"pgrep\", \"mongod\"])\n",
    "    mongod_pid = mongod_pid.decode('utf-8')\n",
    "    mongod_pid = mongod_pid.replace(\"\\n\", \"\")\n",
    "    kill_proc = subprocess.Popen([\"sudo\", \"-S\", \"kill\", str(mongod_pid)],\n",
    "                                  stdin=pass_proc.stdout,\n",
    "                                  stdout=subprocess.PIPE)\n",
    "    kill_proc.communicate()\n",
    "    pass_proc.terminate()\n",
    "    kill_proc.terminate()\n",
    "    \n",
    "if platform.system() == \"Windows\":\n",
    "    mongo_proc.kill\n",
    "    \n",
    "print(\"Ended MongoDB Process.\")\n",
    "\n",
    "# Ending ElasticSearch\n",
    "print(\"Ending ElasticSearch Process...\")\n",
    "es_proc.terminate()\n",
    "print(\"Ended ElasticSearch Process.\")\n",
    "\n",
    "# Ending Kibana\n",
    "print(\"Ending Kibana Process...\")\n",
    "kibana_proc.terminate()\n",
    "print(\"Ended Kibana Process.\")"
   ]
  },
  {
   "cell_type": "markdown",
   "metadata": {},
   "source": [
    "### Administration du cluster Hadoop (Au besoin)"
   ]
  },
  {
   "cell_type": "code",
   "execution_count": 3,
   "metadata": {},
   "outputs": [],
   "source": [
    "NAMENODE_DNS = \"http://ec2-35-180-138-173.eu-west-3.compute.amazonaws.com\"\n",
    "NAMENODE_IP =\"http://35.180.138.173\"\n",
    "\n",
    "DATANODE_1_DNS = \"http://ec2-35-180-128-32.eu-west-3.compute.amazonaws.com\"\n",
    "DATANODE_1_IP = \"http://35.180.128.32\"\n",
    "\n",
    "NAMENODE_WEBUI_PORT = \"50070\"\n",
    "DATANODE_1_WEBUI_PORT = \"50075\"\n",
    "\n",
    "client_url = str(NAMENODE_DNS + \":\" + NAMENODE_WEBUI_PORT)\n",
    "client = hdfs.InsecureClient(client_url, user=\"ubuntu\")"
   ]
  },
  {
   "cell_type": "markdown",
   "metadata": {},
   "source": [
    " * List HDFS directories"
   ]
  },
  {
   "cell_type": "code",
   "execution_count": 5,
   "metadata": {},
   "outputs": [
    {
     "name": "stdout",
     "output_type": "stream",
     "text": [
      "('/', ['home'], [])\n",
      "('/home', ['Projet-ArchitectureBigData', 'Projet2_Simulations&Copules'], [])\n",
      "('/home/Projet-ArchitectureBigData', ['.ipynb_checkpoints', 'Kaggle-TwoSigma', 'Kibana_SavedObjects', 'cryptocurrencypricehistory'], ['.DS_Store', 'Projet-ArchiBigData.ipynb', 'Projet-ArchiBigData_OLD.ipynb', 'TweetsStreamer.ipynb'])\n",
      "('/home/Projet-ArchitectureBigData/.ipynb_checkpoints', [], ['Projet-ArchiBigData-checkpoint.ipynb', 'Untitled-checkpoint.ipynb'])\n",
      "('/home/Projet-ArchitectureBigData/Kaggle-TwoSigma', [], ['marketdata_sample.csv', 'news_sample.csv'])\n",
      "('/home/Projet-ArchitectureBigData/Kibana_SavedObjects', [], ['Close_Return_Visualization.json', 'Courbe Roc.json', 'Moving_STD_3D-6D-9D.json', 'TestDashboard.json', 'Total_Positive_Returns_Over_Time.json'])\n",
      "('/home/Projet-ArchitectureBigData/cryptocurrencypricehistory', [], ['bitcoin_cash_price.csv', 'bitcoin_dataset.csv', 'bitcoin_price.csv', 'bitconnect_price.csv', 'dash_price.csv', 'ethereum_classic_price.csv', 'ethereum_dataset.csv', 'ethereum_price.csv', 'iota_price.csv', 'litecoin_price.csv', 'monero_price.csv', 'nem_price.csv', 'neo_price.csv', 'numeraire_price.csv', 'omisego_price.csv', 'qtum_price.csv', 'ripple_price.csv', 'stratis_price.csv', 'waves_price.csv'])\n",
      "('/home/Projet2_Simulations&Copules', ['.ipynb_checkpoints'], ['.DS_Store', 'DEPARTEMENT.cpg', 'DEPARTEMENT.dbf', 'DEPARTEMENT.prj', 'DEPARTEMENT.shp', 'DEPARTEMENT.shx', 'Projet2-Simulations&Copules.ipynb', 'Projet2-Simulations&Copules_OLD.ipynb', 'Projet2-Simulations&Copules_OLD2.ipynb'])\n",
      "('/home/Projet2_Simulations&Copules/.ipynb_checkpoints', [], ['Projet2-Simulations&Copules-checkpoint.ipynb'])\n"
     ]
    }
   ],
   "source": [
    "# Liste Files and Directories\n",
    "for onedir in client.walk(\"/\"):\n",
    "    print(onedir)"
   ]
  },
  {
   "cell_type": "markdown",
   "metadata": {},
   "source": [
    " * Upload file to HDFS "
   ]
  },
  {
   "cell_type": "code",
   "execution_count": 7,
   "metadata": {},
   "outputs": [],
   "source": [
    "client.upload(hdfs_path=\"/home/Projet-ArchitectureBigData\",\n",
    "              local_path=\"/Users/virgileamato/Desktop/Projet-ArchitectureBigData/Kaggle-Titanic\",\n",
    "              overwrite=True)\n",
    "\n",
    "def upload_file(path_to_file):\n",
    "    client.upload(hdfs_path=\"/home\", local_path=path_to_file, overwrite=True)"
   ]
  },
  {
   "cell_type": "markdown",
   "metadata": {},
   "source": [
    " * Download file from HDFS"
   ]
  },
  {
   "cell_type": "code",
   "execution_count": null,
   "metadata": {},
   "outputs": [],
   "source": [
    "#client.download(\"/home/\", local_path=\"/Users/virgileamato/Desktop\")\n",
    "\n",
    "def download_file(hdfs_path, local_path):\n",
    "    client.download(hdfs_path, local_path=local_path)"
   ]
  },
  {
   "cell_type": "markdown",
   "metadata": {},
   "source": [
    " * Read file from HDFS"
   ]
  },
  {
   "cell_type": "code",
   "execution_count": null,
   "metadata": {},
   "outputs": [],
   "source": [
    "def read_file(hdfs_path):\n",
    "    with client.read(hdfs_path) as reader:\n",
    "        raw_file = reader.read()\n",
    "    \n",
    "    raw_file = raw_file.decode('utf-8')\n",
    "    \n",
    "    return raw_file"
   ]
  },
  {
   "cell_type": "markdown",
   "metadata": {},
   "source": [
    " * Write from to HDFS"
   ]
  },
  {
   "cell_type": "code",
   "execution_count": null,
   "metadata": {},
   "outputs": [],
   "source": [
    "def write_file(hdfs_path, str_to_write):\n",
    "    with client.write(hdfs_path, overwrite=True) as writer:\n",
    "        writer.write(str_to_write.encode())"
   ]
  },
  {
   "cell_type": "markdown",
   "metadata": {},
   "source": [
    " * Delete file from HDFS"
   ]
  },
  {
   "cell_type": "code",
   "execution_count": null,
   "metadata": {},
   "outputs": [],
   "source": [
    "#client.delete(\"/home/core-site.xml\")\n",
    "\n",
    "def delete_file(hdfs_path):\n",
    "    client.delete(hdfs_path)"
   ]
  }
 ],
 "metadata": {
  "kernelspec": {
   "display_name": "Python 3",
   "language": "python",
   "name": "python3"
  },
  "language_info": {
   "codemirror_mode": {
    "name": "ipython",
    "version": 3
   },
   "file_extension": ".py",
   "mimetype": "text/x-python",
   "name": "python",
   "nbconvert_exporter": "python",
   "pygments_lexer": "ipython3",
   "version": "3.6.4"
  }
 },
 "nbformat": 4,
 "nbformat_minor": 2
}
