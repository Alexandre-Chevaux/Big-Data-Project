{
 "cells": [
  {
   "cell_type": "markdown",
   "metadata": {},
   "source": [
    "# Projet Architecture Big Data"
   ]
  },
  {
   "cell_type": "markdown",
   "metadata": {},
   "source": [
    "## Matthieu GARRIGUES\n",
    "## Alexandre CHEVAUX\n",
    "## Mohammed HAJJI\n",
    "## Virgile AMATO"
   ]
  },
  {
   "cell_type": "code",
   "execution_count": 39,
   "metadata": {},
   "outputs": [],
   "source": [
    "# ElasticSearch v6.5.1\n",
    "import pandas as pd\n",
    "import elasticsearch as ES\n",
    "import pyspark\n",
    "import pymongo \n",
    "import sklearn as skl\n",
    "import sklearn.model_selection as skl_model_selection\n",
    "import sklearn.linear_model as skl_linear_mdl\n",
    "import sklearn.ensemble as skl_ensemble_mdl\n",
    "import sklearn.discriminant_analysis as skl_discriminant_analysis\n",
    "from sklearn.model_selection import cross_val_score\n",
    "import sklearn.metrics as skl_metrics\n",
    "import numpy as np\n",
    "import seaborn as sns\n",
    "import matplotlib.pyplot as plt\n",
    "import subprocess\n",
    "import os\n",
    "import time\n",
    "import json\n",
    "import requests\n",
    "import webbrowser\n",
    "import getpass\n",
    "import time\n",
    "import datetime\n",
    "import platform\n",
    "import hdfs\n",
    "import csv\n",
    "from sklearn.metrics import roc_curve,auc\n",
    "#from sklearn.ensemble import RandomForestClassifier\n",
    "#from sklearn.discriminant_analysis import LinearDiscriminantAnalysis\n",
    "\n",
    "# Mongo DB Constants\n",
    "MONGO_PATH = \"C:/Program Files/MongoDB/Server/4.0/bin/mongod\"\n",
    "MONGO_PORT = \"27017\"\n",
    "MONGO_HOST = \"localhost\"\n",
    "MONGO_URI = MONGO_HOST + \":\" + MONGO_PORT\n",
    "MONGO_URL = \"http://\" + MONGO_URI\n",
    "\n",
    "# ElasticSearch Constants\n",
    "ES_PATH = \"/home/matthieu/elasticsearch-6.5.1/bin/elasticsearch\"\n",
    "ES_PORT = \"9200\"\n",
    "ES_HOST = \"localhost\"\n",
    "ES_URI = ES_HOST + \":\" + ES_PORT\n",
    "ES_URL = \"http://\" + ES_URI\n",
    "\n",
    "# Kibana Constants\n",
    "KIBANA_PATH = \"/home/matthieu/kibana-6.5.1/bin/kibana\"\n",
    "KIBANA_PORT = \"5601\"\n",
    "KIBANA_HOST = \"localhost\"\n",
    "KIBANA_URI = KIBANA_HOST + \":\" + KIBANA_PORT\n",
    "KIBANA_URL = \"http://\" + KIBANA_URI\n",
    "\n",
    "# Universal Constants\n",
    "DB_NAME = \"archi_big_data_db\"\n",
    "#TWOSIGMA_DATASET_PATH= \"/home/Projet-ArchitectureBigData/Kaggle-TwoSigma/market_train_data.csv\"\n",
    "TRAIN_TITANIC_PATH = r\"C:/Users/Alexandre/ProjetLamberton/Titanic/train.csv\"\n",
    "TEST_TITANIC_PATH = r\"C:/Users/Alexandre/ProjetLamberton/Titanic/test.csv\"\n",
    "#GENDER_TITANIC_PATH = \"/home/matthieu/Documents/Projet-ArchitectureBigData/Titanic/gender_submission.csv\""
   ]
  },
  {
   "cell_type": "markdown",
   "metadata": {},
   "source": [
    "## 1) Export des données"
   ]
  },
  {
   "cell_type": "markdown",
   "metadata": {},
   "source": [
    "#### Lancement du serveur MongoDB"
   ]
  },
  {
   "cell_type": "code",
   "execution_count": 40,
   "metadata": {},
   "outputs": [
    {
     "name": "stdout",
     "output_type": "stream",
     "text": [
      "Starting MongoDB ...\n",
      "MongoDB OK.\n"
     ]
    }
   ],
   "source": [
    "# Starting MongoDB Process\n",
    "print(\"Starting MongoDB ...\")\n",
    "\n",
    "if platform.system() == \"Darwin\":\n",
    "    # Asking For Password, Then pipe it's value to mongo process\n",
    "    passwd = getpass.getpass(\"Please enter administrator password : \")\n",
    "    pass_proc = subprocess.Popen([\"echo\", str(passwd)],\n",
    "                                 stdout=subprocess.PIPE)\n",
    "    mongo_proc = subprocess.Popen([\"sudo\", \"-S\", \"mongod\"],\n",
    "                                  stdin=pass_proc.stdout,\n",
    "                                  stdout=subprocess.PIPE)\n",
    "    pass_proc.terminate()\n",
    "elif platform.system() == \"Windows\":\n",
    "    mongo_proc = subprocess.Popen([MONGO_PATH],\n",
    "                                  stdout=subprocess.PIPE)\n",
    "    \n",
    "elif platform.system() == \"Linux\":\n",
    "    mongo_proc = subprocess.Popen([\"mongod\"],stdout=subprocess.PIPE)\n",
    "\n",
    "else:\n",
    "    print(\"ERROR : PLATFORM NOT RECOGNIZED\")\n",
    "    sys.exit(0)\n",
    "    \n",
    "time.sleep(2)\n",
    "\n",
    "# Check If MongoDB Process is alright\n",
    "try:\n",
    "    check_mongod_status = requests.get(MONGO_URL)\n",
    "    check_mongod_status = check_mongod_status.text\n",
    "except Exception as e:\n",
    "    check_mongod_status = \"ERROR\"\n",
    "    print(e)\n",
    "    \n",
    "if \"MongoDB\" in check_mongod_status:\n",
    "    print(\"MongoDB OK.\")\n",
    "else:\n",
    "    print(\"ERROR WHILE CONNECTION TO MONGO DB\")"
   ]
  },
  {
   "cell_type": "markdown",
   "metadata": {},
   "source": [
    "#### Connection au Client MongoDB"
   ]
  },
  {
   "cell_type": "code",
   "execution_count": 41,
   "metadata": {},
   "outputs": [
    {
     "data": {
      "text/plain": [
       "['Bitcoin.DailyPrice', 'Test', 'Train']"
      ]
     },
     "execution_count": 41,
     "metadata": {},
     "output_type": "execute_result"
    }
   ],
   "source": [
    "# Connection to MongoDB\n",
    "conn = pymongo.MongoClient(MONGO_URI)\n",
    "dbs = conn.list_database_names()\n",
    "dbs\n",
    "# Connect to MongoDB Database\n",
    "db = conn[DB_NAME]\n",
    "collections_list = db.list_collection_names()\n",
    "collections_list"
   ]
  },
  {
   "cell_type": "markdown",
   "metadata": {},
   "source": [
    " ### Connection au Cluster Hadoop pour lire le fichier CSV (PySpark)"
   ]
  },
  {
   "cell_type": "code",
   "execution_count": 4,
   "metadata": {},
   "outputs": [],
   "source": [
    "#sc.stop()\n",
    "#try:\n",
    "#    sc = pyspark.SparkContext()\n",
    "#except Exception as e:\n",
    "#    print(e)\n",
    "\n",
    "#if sc:\n",
    "#    ssql = pyspark.sql.SQLContext(sc)\n",
    "#    ss = pyspark.sql.SparkSession(sc)\n",
    "\n",
    "#1)\n",
    "#r = sc.textFile(\"hdfs://ec2-35-180-138-173.eu-west-3.compute.amazonaws.com:9000/\" + \\\n",
    "#                \"home/Projet-ArchitectureBigData/cryptocurrencypricehistory/bitcoin_price.csv\")\n",
    "#r = sc.textFile(\"hdfs://35.180.138.173:9000/\" + \\\n",
    "#                \"home/Projet-ArchitectureBigData/cryptocurrencypricehistory/bitcoin_price.csv\")\n",
    "#print(r.first())\n",
    "    \n",
    "# 2)\n",
    "#file = ss.read.csv(\"hdfs://ec2-35-180-138-173.eu-west-3.compute.amazonaws.com:9000/\" + \\\n",
    "#                  \"home/Projet-ArchitectureBigData/cryptocurrencypricehistory/bitcoin_price.csv\")\n",
    "#srdd = file.rdd \n",
    "#print(srdd.take(3))"
   ]
  },
  {
   "cell_type": "markdown",
   "metadata": {},
   "source": [
    "### Connection au Cluster Hadoop pour lire le fichier CSV (Pandas)"
   ]
  },
  {
   "cell_type": "code",
   "execution_count": 5,
   "metadata": {},
   "outputs": [],
   "source": [
    "#NAMENODE_DNS = \"http://ec2-35-180-138-173.eu-west-3.compute.amazonaws.com\"\n",
    "#NAMENODE_IP = \"http://35.180.138.173\"\n",
    "\n",
    "#NAMENODE_WEBUI_PORT = \"50070\"\n",
    "\n",
    "#Connection au cluster namenode HDFS\n",
    "#client_url = str(NAMENODE_DNS + \":\" + NAMENODE_WEBUI_PORT)\n",
    "#client = hdfs.InsecureClient(client_url, user=\"ubuntu\")\n",
    "\n",
    "#lecture du fichier\n",
    "#list_csv = []\n",
    "#HDFS_PATH_TWOSIGMA_DATASET = '/home/Projet-ArchitectureBigData/Kaggle-TwoSigma/market_train_data.csv'\n",
    "#with client.read(HDFS_PATH_TWOSIGMA_DATASET) as reader:\n",
    "#    raw_csv = reader.read()\n",
    "#csv_list = raw_csv.decode('utf-8')\n",
    "#csv_list = raw_csv.split(\"\\r\\n\")"
   ]
  },
  {
   "cell_type": "code",
   "execution_count": 6,
   "metadata": {},
   "outputs": [],
   "source": [
    "# parsing du CSV\n",
    "#reader = csv.reader(csv_list,dialect=csv.excel_tab)\n",
    "#csv_list = []\n",
    "#for line in reader:\n",
    "#    csv_list.append(line)\n",
    "\n",
    "# création du dataframe\n",
    "#df = pd.DataFrame(csv_list[1:], \n",
    "#                  columns=csv_list[0])\n",
    "#df = df.dropna()\n",
    "\n",
    "#df[\"Open\"] = df[\"Open\"].astype(\"float\")\n",
    "#df[\"High\"] = df[\"High\"].astype(\"float\")\n",
    "#df[\"Low\"] = df[\"Low\"].astype(\"float\")\n",
    "#df[\"Close\"] = df[\"Close\"].astype(\"float\")\n",
    "#df[\"Volume\"] = df[\"Volume\"].astype(\"float\")\n",
    "#df[\"Market Cap\"] = df[\"Market Cap\"].astype(\"float\")\n",
    "\n",
    "#df.head(15)"
   ]
  },
  {
   "cell_type": "markdown",
   "metadata": {},
   "source": [
    "#### On merge les données"
   ]
  },
  {
   "cell_type": "code",
   "execution_count": 42,
   "metadata": {},
   "outputs": [],
   "source": [
    "#importation\n",
    "train = pd.read_csv(TRAIN_TITANIC_PATH)\n",
    "test = pd.read_csv(TEST_TITANIC_PATH)"
   ]
  },
  {
   "cell_type": "code",
   "execution_count": 43,
   "metadata": {},
   "outputs": [
    {
     "name": "stderr",
     "output_type": "stream",
     "text": [
      "C:\\Users\\Alexandre\\Anaconda3\\lib\\site-packages\\pandas\\core\\frame.py:6211: FutureWarning: Sorting because non-concatenation axis is not aligned. A future version\n",
      "of pandas will change to not sort by default.\n",
      "\n",
      "To accept the future behavior, pass 'sort=False'.\n",
      "\n",
      "To retain the current behavior and silence the warning, pass 'sort=True'.\n",
      "\n",
      "  sort=sort)\n"
     ]
    }
   ],
   "source": [
    "#test = pd.concat([test, gender], axis=1, sort=False)\n",
    "passengerId = test.PassengerId\n",
    "# merge de train et test\n",
    "titanic = train.append(test, ignore_index=True)\n",
    "# on réorganise\n",
    "cols = list(train.columns.values)\n",
    "titanic=titanic[cols]\n",
    "# on crée un index pour separer les données\n",
    "train_idx = len(train)\n",
    "test_idx = len(titanic) - len(test)"
   ]
  },
  {
   "cell_type": "code",
   "execution_count": 44,
   "metadata": {},
   "outputs": [
    {
     "data": {
      "text/html": [
       "<div>\n",
       "<style scoped>\n",
       "    .dataframe tbody tr th:only-of-type {\n",
       "        vertical-align: middle;\n",
       "    }\n",
       "\n",
       "    .dataframe tbody tr th {\n",
       "        vertical-align: top;\n",
       "    }\n",
       "\n",
       "    .dataframe thead th {\n",
       "        text-align: right;\n",
       "    }\n",
       "</style>\n",
       "<table border=\"1\" class=\"dataframe\">\n",
       "  <thead>\n",
       "    <tr style=\"text-align: right;\">\n",
       "      <th></th>\n",
       "      <th>PassengerId</th>\n",
       "      <th>Survived</th>\n",
       "      <th>Pclass</th>\n",
       "      <th>Name</th>\n",
       "      <th>Sex</th>\n",
       "      <th>Age</th>\n",
       "      <th>SibSp</th>\n",
       "      <th>Parch</th>\n",
       "      <th>Ticket</th>\n",
       "      <th>Fare</th>\n",
       "      <th>Cabin</th>\n",
       "      <th>Embarked</th>\n",
       "    </tr>\n",
       "  </thead>\n",
       "  <tbody>\n",
       "    <tr>\n",
       "      <th>0</th>\n",
       "      <td>1</td>\n",
       "      <td>0.0</td>\n",
       "      <td>3</td>\n",
       "      <td>Braund, Mr. Owen Harris</td>\n",
       "      <td>male</td>\n",
       "      <td>22.0</td>\n",
       "      <td>1</td>\n",
       "      <td>0</td>\n",
       "      <td>A/5 21171</td>\n",
       "      <td>7.2500</td>\n",
       "      <td>NaN</td>\n",
       "      <td>S</td>\n",
       "    </tr>\n",
       "    <tr>\n",
       "      <th>1</th>\n",
       "      <td>2</td>\n",
       "      <td>1.0</td>\n",
       "      <td>1</td>\n",
       "      <td>Cumings, Mrs. John Bradley (Florence Briggs Th...</td>\n",
       "      <td>female</td>\n",
       "      <td>38.0</td>\n",
       "      <td>1</td>\n",
       "      <td>0</td>\n",
       "      <td>PC 17599</td>\n",
       "      <td>71.2833</td>\n",
       "      <td>C85</td>\n",
       "      <td>C</td>\n",
       "    </tr>\n",
       "    <tr>\n",
       "      <th>2</th>\n",
       "      <td>3</td>\n",
       "      <td>1.0</td>\n",
       "      <td>3</td>\n",
       "      <td>Heikkinen, Miss. Laina</td>\n",
       "      <td>female</td>\n",
       "      <td>26.0</td>\n",
       "      <td>0</td>\n",
       "      <td>0</td>\n",
       "      <td>STON/O2. 3101282</td>\n",
       "      <td>7.9250</td>\n",
       "      <td>NaN</td>\n",
       "      <td>S</td>\n",
       "    </tr>\n",
       "    <tr>\n",
       "      <th>3</th>\n",
       "      <td>4</td>\n",
       "      <td>1.0</td>\n",
       "      <td>1</td>\n",
       "      <td>Futrelle, Mrs. Jacques Heath (Lily May Peel)</td>\n",
       "      <td>female</td>\n",
       "      <td>35.0</td>\n",
       "      <td>1</td>\n",
       "      <td>0</td>\n",
       "      <td>113803</td>\n",
       "      <td>53.1000</td>\n",
       "      <td>C123</td>\n",
       "      <td>S</td>\n",
       "    </tr>\n",
       "    <tr>\n",
       "      <th>4</th>\n",
       "      <td>5</td>\n",
       "      <td>0.0</td>\n",
       "      <td>3</td>\n",
       "      <td>Allen, Mr. William Henry</td>\n",
       "      <td>male</td>\n",
       "      <td>35.0</td>\n",
       "      <td>0</td>\n",
       "      <td>0</td>\n",
       "      <td>373450</td>\n",
       "      <td>8.0500</td>\n",
       "      <td>NaN</td>\n",
       "      <td>S</td>\n",
       "    </tr>\n",
       "  </tbody>\n",
       "</table>\n",
       "</div>"
      ],
      "text/plain": [
       "   PassengerId  Survived  Pclass  \\\n",
       "0            1       0.0       3   \n",
       "1            2       1.0       1   \n",
       "2            3       1.0       3   \n",
       "3            4       1.0       1   \n",
       "4            5       0.0       3   \n",
       "\n",
       "                                                Name     Sex   Age  SibSp  \\\n",
       "0                            Braund, Mr. Owen Harris    male  22.0      1   \n",
       "1  Cumings, Mrs. John Bradley (Florence Briggs Th...  female  38.0      1   \n",
       "2                             Heikkinen, Miss. Laina  female  26.0      0   \n",
       "3       Futrelle, Mrs. Jacques Heath (Lily May Peel)  female  35.0      1   \n",
       "4                           Allen, Mr. William Henry    male  35.0      0   \n",
       "\n",
       "   Parch            Ticket     Fare Cabin Embarked  \n",
       "0      0         A/5 21171   7.2500   NaN        S  \n",
       "1      0          PC 17599  71.2833   C85        C  \n",
       "2      0  STON/O2. 3101282   7.9250   NaN        S  \n",
       "3      0            113803  53.1000  C123        S  \n",
       "4      0            373450   8.0500   NaN        S  "
      ]
     },
     "execution_count": 44,
     "metadata": {},
     "output_type": "execute_result"
    }
   ],
   "source": [
    "titanic.head()"
   ]
  },
  {
   "cell_type": "markdown",
   "metadata": {},
   "source": [
    "#### Export des données sur le serveur MongoDB"
   ]
  },
  {
   "cell_type": "code",
   "execution_count": 45,
   "metadata": {},
   "outputs": [
    {
     "name": "stderr",
     "output_type": "stream",
     "text": [
      "C:\\Users\\Alexandre\\Anaconda3\\lib\\site-packages\\ipykernel_launcher.py:10: DeprecationWarning: remove is deprecated. Use delete_one or delete_many instead.\n",
      "  # Remove the CWD from sys.path while we load stuff.\n",
      "C:\\Users\\Alexandre\\Anaconda3\\lib\\site-packages\\ipykernel_launcher.py:11: DeprecationWarning: insert is deprecated. Use insert_one or insert_many instead.\n",
      "  # This is added back by InteractiveShellApp.init_path()\n"
     ]
    }
   ],
   "source": [
    "def import_mongo(filepath , collecname):\n",
    "    mng_client = pymongo.MongoClient(MONGO_HOST, int(MONGO_PORT))\n",
    "    mng_db = mng_client[DB_NAME] # Remplace mongo db name\n",
    "    collection_name = collecname # Replace mongo db collection name\n",
    "    db_cm = mng_db[collection_name]\n",
    "    cdir = os.path.dirname('C:/Users/Alexandre/ProjetLamberton/Projet-ArchitectureBigData/Kaggle/')\n",
    "    file_res = os.path.join(cdir, filepath)\n",
    "    data = pd.read_csv(file_res)\n",
    "    data_json = json.loads(data.to_json(orient='records'))\n",
    "    db_cm.remove()\n",
    "    db_cm.insert(data_json)\n",
    "\n",
    "# On crée les dataframe Train et Test sur MongoDB\n",
    "import_mongo(\"train.csv\",'Train')\n",
    "import_mongo(\"test.csv\",'Test')\n",
    "#TWOSIGMA_DATASET_PATH1"
   ]
  },
  {
   "cell_type": "code",
   "execution_count": 20,
   "metadata": {},
   "outputs": [],
   "source": [
    "#mng_client = pymongo.MongoClient('localhost', 27017)\n",
    "#mng_db = mng_client[DB_NAME] # Remplace mongo db name\n",
    "#collection_name = 'Titanic' # Replace mongo db collection name\n",
    "#db_cm = mng_db['Titanic']\n",
    "#data = titanic\n",
    "#data_json = json.loads(data.to_json(orient='records'))\n",
    "#db_cm.remove()\n",
    "#db_cm.insert(data_json)"
   ]
  },
  {
   "cell_type": "markdown",
   "metadata": {},
   "source": [
    "## 2) Traitement des données"
   ]
  },
  {
   "cell_type": "markdown",
   "metadata": {},
   "source": [
    "#### Lecture des données de la base MongoDB"
   ]
  },
  {
   "cell_type": "markdown",
   "metadata": {},
   "source": [
    " * Pandas"
   ]
  },
  {
   "cell_type": "code",
   "execution_count": 46,
   "metadata": {},
   "outputs": [],
   "source": [
    "# Connect to MongoDB Collection\n",
    "collection = db[\"Train\"]\n",
    "Passengers = collection.find({})\n",
    "df = pd.DataFrame(list(Passengers))"
   ]
  },
  {
   "cell_type": "code",
   "execution_count": 47,
   "metadata": {},
   "outputs": [
    {
     "data": {
      "text/html": [
       "<div>\n",
       "<style scoped>\n",
       "    .dataframe tbody tr th:only-of-type {\n",
       "        vertical-align: middle;\n",
       "    }\n",
       "\n",
       "    .dataframe tbody tr th {\n",
       "        vertical-align: top;\n",
       "    }\n",
       "\n",
       "    .dataframe thead th {\n",
       "        text-align: right;\n",
       "    }\n",
       "</style>\n",
       "<table border=\"1\" class=\"dataframe\">\n",
       "  <thead>\n",
       "    <tr style=\"text-align: right;\">\n",
       "      <th></th>\n",
       "      <th>Age</th>\n",
       "      <th>Name</th>\n",
       "      <th>Cabin</th>\n",
       "      <th>Embarked</th>\n",
       "      <th>Fare</th>\n",
       "      <th>Parch</th>\n",
       "      <th>PassengerId</th>\n",
       "      <th>Pclass</th>\n",
       "      <th>Sex</th>\n",
       "      <th>SibSp</th>\n",
       "      <th>Survived</th>\n",
       "      <th>Ticket</th>\n",
       "      <th>_id</th>\n",
       "    </tr>\n",
       "  </thead>\n",
       "  <tbody>\n",
       "    <tr>\n",
       "      <th>0</th>\n",
       "      <td>22.0</td>\n",
       "      <td>Braund, Mr. Owen Harris</td>\n",
       "      <td>None</td>\n",
       "      <td>S</td>\n",
       "      <td>7.2500</td>\n",
       "      <td>0</td>\n",
       "      <td>1</td>\n",
       "      <td>3</td>\n",
       "      <td>male</td>\n",
       "      <td>1</td>\n",
       "      <td>0</td>\n",
       "      <td>A/5 21171</td>\n",
       "      <td>5c177bf0487737276c819237</td>\n",
       "    </tr>\n",
       "    <tr>\n",
       "      <th>1</th>\n",
       "      <td>38.0</td>\n",
       "      <td>Cumings, Mrs. John Bradley (Florence Briggs Th...</td>\n",
       "      <td>C85</td>\n",
       "      <td>C</td>\n",
       "      <td>71.2833</td>\n",
       "      <td>0</td>\n",
       "      <td>2</td>\n",
       "      <td>1</td>\n",
       "      <td>female</td>\n",
       "      <td>1</td>\n",
       "      <td>1</td>\n",
       "      <td>PC 17599</td>\n",
       "      <td>5c177bf0487737276c819238</td>\n",
       "    </tr>\n",
       "    <tr>\n",
       "      <th>2</th>\n",
       "      <td>26.0</td>\n",
       "      <td>Heikkinen, Miss. Laina</td>\n",
       "      <td>None</td>\n",
       "      <td>S</td>\n",
       "      <td>7.9250</td>\n",
       "      <td>0</td>\n",
       "      <td>3</td>\n",
       "      <td>3</td>\n",
       "      <td>female</td>\n",
       "      <td>0</td>\n",
       "      <td>1</td>\n",
       "      <td>STON/O2. 3101282</td>\n",
       "      <td>5c177bf0487737276c819239</td>\n",
       "    </tr>\n",
       "    <tr>\n",
       "      <th>3</th>\n",
       "      <td>35.0</td>\n",
       "      <td>Futrelle, Mrs. Jacques Heath (Lily May Peel)</td>\n",
       "      <td>C123</td>\n",
       "      <td>S</td>\n",
       "      <td>53.1000</td>\n",
       "      <td>0</td>\n",
       "      <td>4</td>\n",
       "      <td>1</td>\n",
       "      <td>female</td>\n",
       "      <td>1</td>\n",
       "      <td>1</td>\n",
       "      <td>113803</td>\n",
       "      <td>5c177bf0487737276c81923a</td>\n",
       "    </tr>\n",
       "    <tr>\n",
       "      <th>4</th>\n",
       "      <td>35.0</td>\n",
       "      <td>Allen, Mr. William Henry</td>\n",
       "      <td>None</td>\n",
       "      <td>S</td>\n",
       "      <td>8.0500</td>\n",
       "      <td>0</td>\n",
       "      <td>5</td>\n",
       "      <td>3</td>\n",
       "      <td>male</td>\n",
       "      <td>0</td>\n",
       "      <td>0</td>\n",
       "      <td>373450</td>\n",
       "      <td>5c177bf0487737276c81923b</td>\n",
       "    </tr>\n",
       "    <tr>\n",
       "      <th>5</th>\n",
       "      <td>NaN</td>\n",
       "      <td>Moran, Mr. James</td>\n",
       "      <td>None</td>\n",
       "      <td>Q</td>\n",
       "      <td>8.4583</td>\n",
       "      <td>0</td>\n",
       "      <td>6</td>\n",
       "      <td>3</td>\n",
       "      <td>male</td>\n",
       "      <td>0</td>\n",
       "      <td>0</td>\n",
       "      <td>330877</td>\n",
       "      <td>5c177bf0487737276c81923c</td>\n",
       "    </tr>\n",
       "    <tr>\n",
       "      <th>6</th>\n",
       "      <td>54.0</td>\n",
       "      <td>McCarthy, Mr. Timothy J</td>\n",
       "      <td>E46</td>\n",
       "      <td>S</td>\n",
       "      <td>51.8625</td>\n",
       "      <td>0</td>\n",
       "      <td>7</td>\n",
       "      <td>1</td>\n",
       "      <td>male</td>\n",
       "      <td>0</td>\n",
       "      <td>0</td>\n",
       "      <td>17463</td>\n",
       "      <td>5c177bf0487737276c81923d</td>\n",
       "    </tr>\n",
       "    <tr>\n",
       "      <th>7</th>\n",
       "      <td>2.0</td>\n",
       "      <td>Palsson, Master. Gosta Leonard</td>\n",
       "      <td>None</td>\n",
       "      <td>S</td>\n",
       "      <td>21.0750</td>\n",
       "      <td>1</td>\n",
       "      <td>8</td>\n",
       "      <td>3</td>\n",
       "      <td>male</td>\n",
       "      <td>3</td>\n",
       "      <td>0</td>\n",
       "      <td>349909</td>\n",
       "      <td>5c177bf0487737276c81923e</td>\n",
       "    </tr>\n",
       "    <tr>\n",
       "      <th>8</th>\n",
       "      <td>27.0</td>\n",
       "      <td>Johnson, Mrs. Oscar W (Elisabeth Vilhelmina Berg)</td>\n",
       "      <td>None</td>\n",
       "      <td>S</td>\n",
       "      <td>11.1333</td>\n",
       "      <td>2</td>\n",
       "      <td>9</td>\n",
       "      <td>3</td>\n",
       "      <td>female</td>\n",
       "      <td>0</td>\n",
       "      <td>1</td>\n",
       "      <td>347742</td>\n",
       "      <td>5c177bf0487737276c81923f</td>\n",
       "    </tr>\n",
       "    <tr>\n",
       "      <th>9</th>\n",
       "      <td>14.0</td>\n",
       "      <td>Nasser, Mrs. Nicholas (Adele Achem)</td>\n",
       "      <td>None</td>\n",
       "      <td>C</td>\n",
       "      <td>30.0708</td>\n",
       "      <td>0</td>\n",
       "      <td>10</td>\n",
       "      <td>2</td>\n",
       "      <td>female</td>\n",
       "      <td>1</td>\n",
       "      <td>1</td>\n",
       "      <td>237736</td>\n",
       "      <td>5c177bf0487737276c819240</td>\n",
       "    </tr>\n",
       "    <tr>\n",
       "      <th>10</th>\n",
       "      <td>4.0</td>\n",
       "      <td>Sandstrom, Miss. Marguerite Rut</td>\n",
       "      <td>G6</td>\n",
       "      <td>S</td>\n",
       "      <td>16.7000</td>\n",
       "      <td>1</td>\n",
       "      <td>11</td>\n",
       "      <td>3</td>\n",
       "      <td>female</td>\n",
       "      <td>1</td>\n",
       "      <td>1</td>\n",
       "      <td>PP 9549</td>\n",
       "      <td>5c177bf0487737276c819241</td>\n",
       "    </tr>\n",
       "    <tr>\n",
       "      <th>11</th>\n",
       "      <td>58.0</td>\n",
       "      <td>Bonnell, Miss. Elizabeth</td>\n",
       "      <td>C103</td>\n",
       "      <td>S</td>\n",
       "      <td>26.5500</td>\n",
       "      <td>0</td>\n",
       "      <td>12</td>\n",
       "      <td>1</td>\n",
       "      <td>female</td>\n",
       "      <td>0</td>\n",
       "      <td>1</td>\n",
       "      <td>113783</td>\n",
       "      <td>5c177bf0487737276c819242</td>\n",
       "    </tr>\n",
       "    <tr>\n",
       "      <th>12</th>\n",
       "      <td>20.0</td>\n",
       "      <td>Saundercock, Mr. William Henry</td>\n",
       "      <td>None</td>\n",
       "      <td>S</td>\n",
       "      <td>8.0500</td>\n",
       "      <td>0</td>\n",
       "      <td>13</td>\n",
       "      <td>3</td>\n",
       "      <td>male</td>\n",
       "      <td>0</td>\n",
       "      <td>0</td>\n",
       "      <td>A/5. 2151</td>\n",
       "      <td>5c177bf0487737276c819243</td>\n",
       "    </tr>\n",
       "    <tr>\n",
       "      <th>13</th>\n",
       "      <td>39.0</td>\n",
       "      <td>Andersson, Mr. Anders Johan</td>\n",
       "      <td>None</td>\n",
       "      <td>S</td>\n",
       "      <td>31.2750</td>\n",
       "      <td>5</td>\n",
       "      <td>14</td>\n",
       "      <td>3</td>\n",
       "      <td>male</td>\n",
       "      <td>1</td>\n",
       "      <td>0</td>\n",
       "      <td>347082</td>\n",
       "      <td>5c177bf0487737276c819244</td>\n",
       "    </tr>\n",
       "    <tr>\n",
       "      <th>14</th>\n",
       "      <td>14.0</td>\n",
       "      <td>Vestrom, Miss. Hulda Amanda Adolfina</td>\n",
       "      <td>None</td>\n",
       "      <td>S</td>\n",
       "      <td>7.8542</td>\n",
       "      <td>0</td>\n",
       "      <td>15</td>\n",
       "      <td>3</td>\n",
       "      <td>female</td>\n",
       "      <td>0</td>\n",
       "      <td>0</td>\n",
       "      <td>350406</td>\n",
       "      <td>5c177bf0487737276c819245</td>\n",
       "    </tr>\n",
       "    <tr>\n",
       "      <th>15</th>\n",
       "      <td>55.0</td>\n",
       "      <td>Hewlett, Mrs. (Mary D Kingcome)</td>\n",
       "      <td>None</td>\n",
       "      <td>S</td>\n",
       "      <td>16.0000</td>\n",
       "      <td>0</td>\n",
       "      <td>16</td>\n",
       "      <td>2</td>\n",
       "      <td>female</td>\n",
       "      <td>0</td>\n",
       "      <td>1</td>\n",
       "      <td>248706</td>\n",
       "      <td>5c177bf0487737276c819246</td>\n",
       "    </tr>\n",
       "    <tr>\n",
       "      <th>16</th>\n",
       "      <td>2.0</td>\n",
       "      <td>Rice, Master. Eugene</td>\n",
       "      <td>None</td>\n",
       "      <td>Q</td>\n",
       "      <td>29.1250</td>\n",
       "      <td>1</td>\n",
       "      <td>17</td>\n",
       "      <td>3</td>\n",
       "      <td>male</td>\n",
       "      <td>4</td>\n",
       "      <td>0</td>\n",
       "      <td>382652</td>\n",
       "      <td>5c177bf0487737276c819247</td>\n",
       "    </tr>\n",
       "    <tr>\n",
       "      <th>17</th>\n",
       "      <td>NaN</td>\n",
       "      <td>Williams, Mr. Charles Eugene</td>\n",
       "      <td>None</td>\n",
       "      <td>S</td>\n",
       "      <td>13.0000</td>\n",
       "      <td>0</td>\n",
       "      <td>18</td>\n",
       "      <td>2</td>\n",
       "      <td>male</td>\n",
       "      <td>0</td>\n",
       "      <td>1</td>\n",
       "      <td>244373</td>\n",
       "      <td>5c177bf0487737276c819248</td>\n",
       "    </tr>\n",
       "    <tr>\n",
       "      <th>18</th>\n",
       "      <td>31.0</td>\n",
       "      <td>Vander Planke, Mrs. Julius (Emelia Maria Vande...</td>\n",
       "      <td>None</td>\n",
       "      <td>S</td>\n",
       "      <td>18.0000</td>\n",
       "      <td>0</td>\n",
       "      <td>19</td>\n",
       "      <td>3</td>\n",
       "      <td>female</td>\n",
       "      <td>1</td>\n",
       "      <td>0</td>\n",
       "      <td>345763</td>\n",
       "      <td>5c177bf0487737276c819249</td>\n",
       "    </tr>\n",
       "    <tr>\n",
       "      <th>19</th>\n",
       "      <td>NaN</td>\n",
       "      <td>Masselmani, Mrs. Fatima</td>\n",
       "      <td>None</td>\n",
       "      <td>C</td>\n",
       "      <td>7.2250</td>\n",
       "      <td>0</td>\n",
       "      <td>20</td>\n",
       "      <td>3</td>\n",
       "      <td>female</td>\n",
       "      <td>0</td>\n",
       "      <td>1</td>\n",
       "      <td>2649</td>\n",
       "      <td>5c177bf0487737276c81924a</td>\n",
       "    </tr>\n",
       "  </tbody>\n",
       "</table>\n",
       "</div>"
      ],
      "text/plain": [
       "     Age                                               Name Cabin Embarked  \\\n",
       "0   22.0                            Braund, Mr. Owen Harris  None        S   \n",
       "1   38.0  Cumings, Mrs. John Bradley (Florence Briggs Th...   C85        C   \n",
       "2   26.0                             Heikkinen, Miss. Laina  None        S   \n",
       "3   35.0       Futrelle, Mrs. Jacques Heath (Lily May Peel)  C123        S   \n",
       "4   35.0                           Allen, Mr. William Henry  None        S   \n",
       "5    NaN                                   Moran, Mr. James  None        Q   \n",
       "6   54.0                            McCarthy, Mr. Timothy J   E46        S   \n",
       "7    2.0                     Palsson, Master. Gosta Leonard  None        S   \n",
       "8   27.0  Johnson, Mrs. Oscar W (Elisabeth Vilhelmina Berg)  None        S   \n",
       "9   14.0                Nasser, Mrs. Nicholas (Adele Achem)  None        C   \n",
       "10   4.0                    Sandstrom, Miss. Marguerite Rut    G6        S   \n",
       "11  58.0                           Bonnell, Miss. Elizabeth  C103        S   \n",
       "12  20.0                     Saundercock, Mr. William Henry  None        S   \n",
       "13  39.0                        Andersson, Mr. Anders Johan  None        S   \n",
       "14  14.0               Vestrom, Miss. Hulda Amanda Adolfina  None        S   \n",
       "15  55.0                   Hewlett, Mrs. (Mary D Kingcome)   None        S   \n",
       "16   2.0                               Rice, Master. Eugene  None        Q   \n",
       "17   NaN                       Williams, Mr. Charles Eugene  None        S   \n",
       "18  31.0  Vander Planke, Mrs. Julius (Emelia Maria Vande...  None        S   \n",
       "19   NaN                            Masselmani, Mrs. Fatima  None        C   \n",
       "\n",
       "       Fare  Parch  PassengerId  Pclass     Sex  SibSp  Survived  \\\n",
       "0    7.2500      0            1       3    male      1         0   \n",
       "1   71.2833      0            2       1  female      1         1   \n",
       "2    7.9250      0            3       3  female      0         1   \n",
       "3   53.1000      0            4       1  female      1         1   \n",
       "4    8.0500      0            5       3    male      0         0   \n",
       "5    8.4583      0            6       3    male      0         0   \n",
       "6   51.8625      0            7       1    male      0         0   \n",
       "7   21.0750      1            8       3    male      3         0   \n",
       "8   11.1333      2            9       3  female      0         1   \n",
       "9   30.0708      0           10       2  female      1         1   \n",
       "10  16.7000      1           11       3  female      1         1   \n",
       "11  26.5500      0           12       1  female      0         1   \n",
       "12   8.0500      0           13       3    male      0         0   \n",
       "13  31.2750      5           14       3    male      1         0   \n",
       "14   7.8542      0           15       3  female      0         0   \n",
       "15  16.0000      0           16       2  female      0         1   \n",
       "16  29.1250      1           17       3    male      4         0   \n",
       "17  13.0000      0           18       2    male      0         1   \n",
       "18  18.0000      0           19       3  female      1         0   \n",
       "19   7.2250      0           20       3  female      0         1   \n",
       "\n",
       "              Ticket                       _id  \n",
       "0          A/5 21171  5c177bf0487737276c819237  \n",
       "1           PC 17599  5c177bf0487737276c819238  \n",
       "2   STON/O2. 3101282  5c177bf0487737276c819239  \n",
       "3             113803  5c177bf0487737276c81923a  \n",
       "4             373450  5c177bf0487737276c81923b  \n",
       "5             330877  5c177bf0487737276c81923c  \n",
       "6              17463  5c177bf0487737276c81923d  \n",
       "7             349909  5c177bf0487737276c81923e  \n",
       "8             347742  5c177bf0487737276c81923f  \n",
       "9             237736  5c177bf0487737276c819240  \n",
       "10           PP 9549  5c177bf0487737276c819241  \n",
       "11            113783  5c177bf0487737276c819242  \n",
       "12         A/5. 2151  5c177bf0487737276c819243  \n",
       "13            347082  5c177bf0487737276c819244  \n",
       "14            350406  5c177bf0487737276c819245  \n",
       "15            248706  5c177bf0487737276c819246  \n",
       "16            382652  5c177bf0487737276c819247  \n",
       "17            244373  5c177bf0487737276c819248  \n",
       "18            345763  5c177bf0487737276c819249  \n",
       "19              2649  5c177bf0487737276c81924a  "
      ]
     },
     "execution_count": 47,
     "metadata": {},
     "output_type": "execute_result"
    }
   ],
   "source": [
    "# On réorganise les colonnes du dataset dans un ordre plus visuel:\n",
    "cols = list(train.columns.values)\n",
    "df_titanic=df.reindex(cols,axis=1)\n",
    "\n",
    "def change_column_order(df, col_name, index):\n",
    "    cols = df.columns.tolist()\n",
    "    cols.remove(col_name)\n",
    "    cols.insert(index, col_name)\n",
    "    return df[cols]\n",
    "\n",
    "df = change_column_order(df, 'Name', 1)\n",
    "\n",
    "\n",
    "df.head(20)"
   ]
  },
  {
   "cell_type": "markdown",
   "metadata": {},
   "source": [
    " * Spark"
   ]
  },
  {
   "cell_type": "code",
   "execution_count": 20,
   "metadata": {},
   "outputs": [],
   "source": [
    "#sc.stop()"
   ]
  },
  {
   "cell_type": "code",
   "execution_count": 21,
   "metadata": {},
   "outputs": [
    {
     "name": "stdout",
     "output_type": "stream",
     "text": [
      "[Row(_c0='PassengerId', _c1='Survived', _c2='Pclass', _c3='Name', _c4='Sex', _c5='Age', _c6='SibSp', _c7='Parch', _c8='Ticket', _c9='Fare', _c10='Cabin', _c11='Embarked'), Row(_c0='1', _c1='0', _c2='3', _c3='Braund, Mr. Owen Harris', _c4='male', _c5='22', _c6='1', _c7='0', _c8='A/5 21171', _c9='7.25', _c10=None, _c11='S'), Row(_c0='2', _c1='1', _c2='1', _c3='Cumings, Mrs. John Bradley (Florence Briggs Thayer)', _c4='female', _c5='38', _c6='1', _c7='0', _c8='PC 17599', _c9='71.2833', _c10='C85', _c11='C')]\n",
      "[Row(PassengerId=1, Name='Braund, Mr. Owen Harris', Survived=0, Pclass=3, Sex='male', Age=22.0, SibSp=1, Parch=0, Ticket='A/5 21171', Fare=7.25, Cabin=None, Embarked='S'), Row(PassengerId=2, Name='Cumings, Mrs. John Bradley (Florence Briggs Thayer)', Survived=1, Pclass=1, Sex='female', Age=38.0, SibSp=1, Parch=0, Ticket='PC 17599', Fare=71.2833, Cabin='C85', Embarked='C'), Row(PassengerId=3, Name='Heikkinen, Miss. Laina', Survived=1, Pclass=3, Sex='female', Age=26.0, SibSp=0, Parch=0, Ticket='STON/O2. 3101282', Fare=7.925, Cabin=None, Embarked='S')]\n"
     ]
    }
   ],
   "source": [
    "try:\n",
    "    # Spark Context\n",
    "    sc = pyspark.SparkContext()\n",
    "except Exception as e:\n",
    "    print(e)\n",
    "\n",
    "if sc:\n",
    "    # Spark SQL Context\n",
    "    ssql = pyspark.sql.SQLContext(sc)\n",
    "    # Spark Session\n",
    "    ss = pyspark.sql.SparkSession(sc)\n",
    "\n",
    "# 1) Spark RDD\n",
    "\n",
    "file = ss.read.csv(r'file:///home/matthieu/Documents/Projet-ArchitectureBigData/Titanic/train.csv')\n",
    "srdd1 = file.rdd \n",
    "print(srdd1.take(3))\n",
    "\n",
    "# 2) Spark DataFrames\n",
    "s_df = ssql.createDataFrame(df)\n",
    "print(s_df.head(3))\n",
    "\n"
   ]
  },
  {
   "cell_type": "markdown",
   "metadata": {},
   "source": [
    "## 3) Analyse des Données"
   ]
  },
  {
   "cell_type": "markdown",
   "metadata": {},
   "source": [
    "Dans cette partie nous allons faire du machine learning sur les données récupérées depuis la base mongo DB\n"
   ]
  },
  {
   "cell_type": "markdown",
   "metadata": {},
   "source": [
    "### Feature Engineering"
   ]
  },
  {
   "cell_type": "code",
   "execution_count": 48,
   "metadata": {},
   "outputs": [],
   "source": [
    "df_titanic=df_titanic.drop(\"Ticket\", axis=1)\n",
    "df_titanic = pd.get_dummies(df_titanic, columns = [\"Sex\"])\n",
    "df_titanic[\"Embarked\"] = df_titanic[\"Embarked\"].fillna(\"S\")\n",
    "df_titanic = pd.get_dummies(df_titanic, columns = [\"Embarked\"], prefix=\"Emb\")\n",
    "cpt_row=0\n",
    "for row_titanic in df_titanic[\"Cabin\"]:\n",
    "    if str(row_titanic)==\"\":\n",
    "        df_titanic.loc[[cpt_row], ['Cabin']]=0\n",
    "    elif str(row_titanic)[0]==\"A\":\n",
    "            df_titanic.loc[[cpt_row], ['Cabin']]=1\n",
    "    elif str(row_titanic)[0]==\"B\":\n",
    "            df_titanic.loc[[cpt_row], ['Cabin']]=2\n",
    "    elif str(row_titanic)[0]==\"C\":\n",
    "            df_titanic.loc[[cpt_row], ['Cabin']]=3\n",
    "    elif str(row_titanic)[0]==\"D\":\n",
    "            df_titanic.loc[[cpt_row], ['Cabin']]=4\n",
    "    elif str(row_titanic)[0]==\"E\":\n",
    "            df_titanic.loc[[cpt_row], ['Cabin']]=5\n",
    "    elif str(row_titanic)[0]==\"F\":\n",
    "            df_titanic.loc[[cpt_row], ['Cabin']]=6\n",
    "    elif str(row_titanic)[0]==\"G\":\n",
    "            df_titanic.loc[[cpt_row], ['Cabin']]=7\n",
    "    else:\n",
    "        df_titanic.loc[[cpt_row], ['Cabin']]=0\n",
    "    cpt_row=cpt_row+1\n",
    "    \n",
    "cpt_row=0\n",
    "df_titanic[\"Fare\"]=df_titanic[\"Fare\"].astype(\"float\")\n",
    "\n",
    "df_titanic[\"Fare\"] = df_titanic[\"Fare\"].fillna(df_titanic[\"Fare\"].median())\n",
    "\n",
    "for row_titanic in df_titanic[\"Fare\"]:\n",
    "    if row_titanic<10:\n",
    "        df_titanic.loc[[cpt_row], ['Fare']]=0\n",
    "    elif row_titanic>=10 and  row_titanic<50 :\n",
    "            df_titanic.loc[[cpt_row], ['Fare']]=1\n",
    "    elif row_titanic>50:\n",
    "            df_titanic.loc[[cpt_row], ['Fare']]=2\n",
    "    else:\n",
    "            df_titanic.loc[[cpt_row], ['Fare']]=0\n",
    "\n",
    "            \n",
    "df_titanic[\"FamiliySize\"]=df_titanic[\"SibSp\"]+df_titanic[\"Parch\"]+1"
   ]
  },
  {
   "cell_type": "code",
   "execution_count": 49,
   "metadata": {},
   "outputs": [],
   "source": [
    "salutation = [i.split(\",\")[1].split(\".\")[0].strip() for i in df_titanic[\"Name\"]]\n",
    "df_titanic[\"Title\"] = pd.Series(salutation)\n",
    "df_titanic[\"Title\"].unique()\n",
    "df_titanic[\"Title\"] = df_titanic[\"Title\"].replace(['Lady', 'the Countess','Countess','Capt', 'Col','Don', 'Dr', 'Major', 'Rev', 'Sir', 'Jonkheer', 'Dona'], 'Rare')\n",
    "df_titanic[\"Title\"] = df_titanic[\"Title\"].map({\"Master\":0, \"Miss\":1, \"Ms\" : 1 , \"Mme\":1, \"Mlle\":1, \"Mrs\":1, \"Mr\":2, \"Rare\":3})\n",
    "df_titanic[\"Title\"] = df_titanic[\"Title\"].astype(int)\n",
    "df_titanic=df_titanic.drop(\"Name\", axis=1)"
   ]
  },
  {
   "cell_type": "code",
   "execution_count": 50,
   "metadata": {},
   "outputs": [],
   "source": [
    "df_titanic[\"Age\"] = df_titanic[\"Age\"].fillna(df_titanic[\"Age\"].median())\n",
    "for row_titanic in df_titanic[\"Age\"]:\n",
    "    if str(row_titanic)==\"\":\n",
    "        df_titanic.loc[[cpt_row], ['Age']]=1\n",
    "    elif row_titanic<10 :\n",
    "            df_titanic.loc[[cpt_row], ['Age']]=0\n",
    "    elif row_titanic>=10 and row_titanic<40:\n",
    "            df_titanic.loc[[cpt_row], ['Age']]=1\n",
    "    cpt_row=cpt_row+1\n",
    "df_titanic=df_titanic.dropna()"
   ]
  },
  {
   "cell_type": "markdown",
   "metadata": {},
   "source": [
    "### Estimation des modèle"
   ]
  },
  {
   "cell_type": "markdown",
   "metadata": {},
   "source": [
    "* Séparation Train set / Test set"
   ]
  },
  {
   "cell_type": "code",
   "execution_count": 51,
   "metadata": {},
   "outputs": [],
   "source": [
    "df_train, df_test = skl_model_selection.train_test_split(df_titanic)\n",
    "X=df_titanic.iloc[:, 2:]\n",
    "Y = df_titanic[\"Survived\"]\n",
    "df_train = df_train.reset_index(drop=True)\n",
    "df_test = df_test.reset_index(drop=True)\n",
    "\n",
    "# On split le dataset en train-set et test-set\n",
    "X_train = df_train.iloc[:, 2:]\n",
    "#Y_train = df_train[\"Target\"]\n",
    "Y_train = df_train[\"Survived\"]\n",
    "X_test = df_test.iloc[:, 2:]\n",
    "#Y_test = df_test[\"Target\"]\n",
    "Y_test = df_test[\"Survived\"]"
   ]
  },
  {
   "cell_type": "markdown",
   "metadata": {},
   "source": [
    " * Fonction d'affichage de la Matrice de Confusion"
   ]
  },
  {
   "cell_type": "code",
   "execution_count": 52,
   "metadata": {},
   "outputs": [],
   "source": [
    "def print_confusion_matrix(confusion_matrix, score):\n",
    "    plt.figure()\n",
    "    sns.heatmap(confusion_matrix, annot=True, fmt=\".3f\", linewidths=0.3, cmap = 'Blues');\n",
    "    plt.ylabel('True Label');\n",
    "    plt.xlabel('Predicted Label');\n",
    "    plt.title(\"Score de Prediction : \" + str(score))\n",
    "    plt.show() "
   ]
  },
  {
   "cell_type": "markdown",
   "metadata": {},
   "source": [
    " * Fonction de calcul du ROC"
   ]
  },
  {
   "cell_type": "code",
   "execution_count": 53,
   "metadata": {},
   "outputs": [],
   "source": [
    "def get_roc_curve(Y_test, proba_Y, predicted_Y, classe_name): \n",
    "    # False Positive Rate\n",
    "    fpr_cl = dict()\n",
    "    # True Positive Rate\n",
    "    tpr_cl = dict()\n",
    "    fpr_cl[classe_name[0]], tpr_cl[classe_name[0]], _ = \\\n",
    "        skl_metrics.roc_curve(Y_test == 0, proba_Y[:, 0].ravel())\n",
    "    fpr_cl[classe_name[1]], tpr_cl[classe_name[1]], _ = \\\n",
    "        skl_metrics.roc_curve(Y_test, proba_Y[:, 1].ravel())\n",
    "\n",
    "    prob_pred = np.array([proba_Y[i, 1 if c else 0]\n",
    "                         for i, c in enumerate(predicted_Y)])\n",
    "    \n",
    "    fpr_cl[classe_name[2]], tpr_cl[classe_name[2]], _ = \\\n",
    "    skl_metrics.roc_curve((predicted_Y == Y_test).ravel(), prob_pred)\n",
    "    \n",
    "    # Affichage de la Courbe ROC\n",
    "    plt.figure()\n",
    "    for key in fpr_cl:\n",
    "        plt.plot(fpr_cl[key], tpr_cl[key], label=key)\n",
    "    lw = 2\n",
    "    plt.plot([0, 1], [0, 1], color='navy', lw=lw, linestyle='--')\n",
    "    plt.xlim([0.0, 1.0])\n",
    "    plt.ylim([0.0, 1.05])\n",
    "    plt.xlabel(\"Proportion mal classée\")\n",
    "    plt.ylabel(\"Proportion bien classée\")\n",
    "    plt.title('ROC(s) avec predict_proba')\n",
    "    plt.legend(loc=\"lower right\")\n",
    "    \n",
    "    return(fpr_cl[classe_name[2]], tpr_cl[classe_name[2]])"
   ]
  },
  {
   "cell_type": "markdown",
   "metadata": {},
   "source": [
    "#### Modèle 1 ) Régression Logistique"
   ]
  },
  {
   "cell_type": "code",
   "execution_count": 54,
   "metadata": {},
   "outputs": [],
   "source": [
    "df_confusion_matrix = pd.DataFrame(index=[\"Classe_0\", \"Classe_1\"])"
   ]
  },
  {
   "cell_type": "code",
   "execution_count": 55,
   "metadata": {},
   "outputs": [
    {
     "name": "stdout",
     "output_type": "stream",
     "text": [
      "0.8260640108954715\n"
     ]
    },
    {
     "data": {
      "image/png": "[encoded data removed]",
      "text/plain": [
       "<matplotlib.figure.Figure at 0x2b3ed8be080>"
      ]
     },
     "metadata": {},
     "output_type": "display_data"
    },
    {
     "data": {
      "image/png": "[encoded data removed]",
      "text/plain": [
       "<matplotlib.figure.Figure at 0x2b3ed8ab780>"
      ]
     },
     "metadata": {},
     "output_type": "display_data"
    }
   ],
   "source": [
    "import seaborn as sns\n",
    "log_reg = skl_linear_mdl.LogisticRegression()\n",
    "log_reg.fit(X_train, Y_train)\n",
    "score = log_reg.score(X_test, Y_test)\n",
    "predicted_Y = log_reg.predict(X_test)\n",
    "proba_Y = log_reg.predict_proba(X_test)\n",
    "\n",
    "scores = cross_val_score(log_reg, X, Y, cv=10)\n",
    "print(np.mean(scores))\n",
    "\n",
    "confusion_matrix = skl_metrics.confusion_matrix(Y_test, predicted_Y)\n",
    "print_confusion_matrix(confusion_matrix,score)\n",
    "frp_global=[]\n",
    "tpr_global=[]\n",
    "AUC_global=dict()\n",
    "\n",
    "fpr_global=dict()\n",
    "tpr_global=dict()\n",
    "fpr_global[\"Regression Logistique\"],tpr_global[\"Regression Logistique\"] =  \\\n",
    "    get_roc_curve(Y_test, proba_Y, predicted_Y, [\"classe de 0\",\"classe de 1\",\"tout\"])\n",
    "AUC_global[\"Regression Logistique\"] = \\\n",
    "    skl_metrics.auc(fpr_global[\"Regression Logistique\"],tpr_global[\"Regression Logistique\"])"
   ]
  },
  {
   "cell_type": "markdown",
   "metadata": {},
   "source": [
    "#### Modèle 2) Forêts aléatoires"
   ]
  },
  {
   "cell_type": "code",
   "execution_count": 56,
   "metadata": {},
   "outputs": [
    {
     "name": "stdout",
     "output_type": "stream",
     "text": [
      "             importance\n",
      "Fare           0.275504\n",
      "Sex_female     0.169292\n",
      "Title          0.097546\n",
      "FamiliySize    0.095677\n",
      "Age            0.085317\n",
      "0.8159760526614459\n"
     ]
    },
    {
     "data": {
      "image/png": "[encoded data removed]",
      "text/plain": [
       "<matplotlib.figure.Figure at 0x2b3ed88aac8>"
      ]
     },
     "metadata": {},
     "output_type": "display_data"
    },
    {
     "data": {
      "image/png": "[encoded data removed]",
      "text/plain": [
       "<matplotlib.figure.Figure at 0x2b3ed92ce10>"
      ]
     },
     "metadata": {},
     "output_type": "display_data"
    }
   ],
   "source": [
    "random_forest = skl_ensemble_mdl.RandomForestClassifier()\n",
    "random_forest.fit(X_train, Y_train)\n",
    "score = random_forest.score(X_test, Y_test)\n",
    "predicted_Y = random_forest.predict(X_test)\n",
    "proba_Y = random_forest.predict_proba(X_test)\n",
    "true_Y = Y_test\n",
    "\n",
    "\n",
    "feature_importances = pd.DataFrame(random_forest.feature_importances_,\n",
    "                                   index = X_train.columns,\n",
    "                                    columns=['importance']).sort_values('importance',ascending=False)\n",
    "print(feature_importances.head())\n",
    "\n",
    "scores = cross_val_score(random_forest, X, Y, cv=10)\n",
    "print(np.mean(scores))\n",
    "confusion_matrix = skl_metrics.confusion_matrix(true_Y, predicted_Y)\n",
    "print_confusion_matrix(confusion_matrix,score)\n",
    "\n",
    "fpr_global[\"Random Forest\"], tpr_global[\"Random Forest\"] = \\\n",
    "    get_roc_curve(Y_test, proba_Y, predicted_Y, [\"classe de 0\",\"classe de 1\",\"tout\"])\n",
    "AUC_global[\"Random Forest\"] = \\\n",
    "    skl_metrics.auc(fpr_global[\"Random Forest\"], tpr_global[\"Random Forest\"])"
   ]
  },
  {
   "cell_type": "markdown",
   "metadata": {},
   "source": [
    "#### Modèle 3) Analyse linéaire discriminante"
   ]
  },
  {
   "cell_type": "code",
   "execution_count": 57,
   "metadata": {},
   "outputs": [
    {
     "name": "stderr",
     "output_type": "stream",
     "text": [
      "C:\\Users\\Alexandre\\Anaconda3\\lib\\site-packages\\sklearn\\discriminant_analysis.py:388: UserWarning: Variables are collinear.\n",
      "  warnings.warn(\"Variables are collinear.\")\n",
      "C:\\Users\\Alexandre\\Anaconda3\\lib\\site-packages\\sklearn\\discriminant_analysis.py:388: UserWarning: Variables are collinear.\n",
      "  warnings.warn(\"Variables are collinear.\")\n",
      "C:\\Users\\Alexandre\\Anaconda3\\lib\\site-packages\\sklearn\\discriminant_analysis.py:388: UserWarning: Variables are collinear.\n",
      "  warnings.warn(\"Variables are collinear.\")\n",
      "C:\\Users\\Alexandre\\Anaconda3\\lib\\site-packages\\sklearn\\discriminant_analysis.py:388: UserWarning: Variables are collinear.\n",
      "  warnings.warn(\"Variables are collinear.\")\n",
      "C:\\Users\\Alexandre\\Anaconda3\\lib\\site-packages\\sklearn\\discriminant_analysis.py:388: UserWarning: Variables are collinear.\n",
      "  warnings.warn(\"Variables are collinear.\")\n",
      "C:\\Users\\Alexandre\\Anaconda3\\lib\\site-packages\\sklearn\\discriminant_analysis.py:388: UserWarning: Variables are collinear.\n",
      "  warnings.warn(\"Variables are collinear.\")\n",
      "C:\\Users\\Alexandre\\Anaconda3\\lib\\site-packages\\sklearn\\discriminant_analysis.py:388: UserWarning: Variables are collinear.\n",
      "  warnings.warn(\"Variables are collinear.\")\n",
      "C:\\Users\\Alexandre\\Anaconda3\\lib\\site-packages\\sklearn\\discriminant_analysis.py:388: UserWarning: Variables are collinear.\n",
      "  warnings.warn(\"Variables are collinear.\")\n",
      "C:\\Users\\Alexandre\\Anaconda3\\lib\\site-packages\\sklearn\\discriminant_analysis.py:388: UserWarning: Variables are collinear.\n",
      "  warnings.warn(\"Variables are collinear.\")\n",
      "C:\\Users\\Alexandre\\Anaconda3\\lib\\site-packages\\sklearn\\discriminant_analysis.py:388: UserWarning: Variables are collinear.\n",
      "  warnings.warn(\"Variables are collinear.\")\n",
      "C:\\Users\\Alexandre\\Anaconda3\\lib\\site-packages\\sklearn\\discriminant_analysis.py:388: UserWarning: Variables are collinear.\n",
      "  warnings.warn(\"Variables are collinear.\")\n"
     ]
    },
    {
     "name": "stdout",
     "output_type": "stream",
     "text": [
      "0.8249276472591079\n"
     ]
    },
    {
     "data": {
      "image/png": "[encoded data removed]",
      "text/plain": [
       "<matplotlib.figure.Figure at 0x2b3ed8df550>"
      ]
     },
     "metadata": {},
     "output_type": "display_data"
    },
    {
     "data": {
      "image/png": "[encoded data removed]",
      "text/plain": [
       "<matplotlib.figure.Figure at 0x2b3edb48470>"
      ]
     },
     "metadata": {},
     "output_type": "display_data"
    }
   ],
   "source": [
    "lda = skl_discriminant_analysis.LinearDiscriminantAnalysis()\n",
    "lda.fit(X_train, Y_train)\n",
    "score = lda.score(X_test, Y_test)\n",
    "predicted_Y = lda.predict(X_test)\n",
    "proba_Y=lda.predict_proba(X_test)\n",
    "true_Y = Y_test\n",
    "\n",
    "scores = cross_val_score(lda, X, Y, cv=10)\n",
    "print(np.mean(scores))\n",
    "\n",
    "confusion_matrix = skl_metrics.confusion_matrix(true_Y, predicted_Y)\n",
    "print_confusion_matrix(confusion_matrix,score)\n",
    "\n",
    "fpr_global[\"ald\"],tpr_global[\"ald\"]=get_roc_curve(Y_test,proba_Y,predicted_Y,[\"classe de 0\",\"classe de 1\",\"tout\"])\n",
    "AUC_global[\"ald\"]=skl_metrics.auc(fpr_global[\"ald\"],tpr_global[\"ald\"])"
   ]
  },
  {
   "cell_type": "markdown",
   "metadata": {},
   "source": [
    "### Récapitulation des Modèles Estimés"
   ]
  },
  {
   "cell_type": "code",
   "execution_count": 58,
   "metadata": {},
   "outputs": [
    {
     "data": {
      "text/plain": [
       "<matplotlib.legend.Legend at 0x2b3eeee2e80>"
      ]
     },
     "execution_count": 58,
     "metadata": {},
     "output_type": "execute_result"
    },
    {
     "data": {
      "image/png": "[encoded data removed]",
      "text/plain": [
       "<matplotlib.figure.Figure at 0x2b3ed848f98>"
      ]
     },
     "metadata": {},
     "output_type": "display_data"
    }
   ],
   "source": [
    "###Print des 3 ROC sur un même graph\n",
    "for key in fpr_global:\n",
    "    plt.plot(fpr_global[key], tpr_global[key], label=key +\" AUC: \" + str(round(AUC_global[key],3)))\n",
    "\n",
    "lw = 2\n",
    "\n",
    "plt.plot([0, 1], [0, 1], color='navy', lw=lw, linestyle='--')\n",
    "plt.xlim([0.0, 1.0])\n",
    "plt.ylim([0.0, 1.05])\n",
    "plt.xlabel(\"Proportion mal classée\")\n",
    "plt.ylabel(\"Proportion bien classée\")\n",
    "plt.title('ROC des différents modèles')\n",
    "plt.legend(loc=\"lower right\")"
   ]
  },
  {
   "cell_type": "markdown",
   "metadata": {},
   "source": [
    "### Construction d'un Datset ROC pour visualiser les résultats dans Kibana"
   ]
  },
  {
   "cell_type": "code",
   "execution_count": 59,
   "metadata": {},
   "outputs": [
    {
     "data": {
      "text/html": [
       "<div>\n",
       "<style scoped>\n",
       "    .dataframe tbody tr th:only-of-type {\n",
       "        vertical-align: middle;\n",
       "    }\n",
       "\n",
       "    .dataframe tbody tr th {\n",
       "        vertical-align: top;\n",
       "    }\n",
       "\n",
       "    .dataframe thead th {\n",
       "        text-align: right;\n",
       "    }\n",
       "</style>\n",
       "<table border=\"1\" class=\"dataframe\">\n",
       "  <thead>\n",
       "    <tr style=\"text-align: right;\">\n",
       "      <th></th>\n",
       "      <th>FPR_LOGIT</th>\n",
       "      <th>TPR_LOGIT</th>\n",
       "      <th>FPR_RF</th>\n",
       "      <th>TPR_RF</th>\n",
       "      <th>FPR_ALD</th>\n",
       "      <th>TPR_ALD</th>\n",
       "    </tr>\n",
       "  </thead>\n",
       "  <tbody>\n",
       "    <tr>\n",
       "      <th>0</th>\n",
       "      <td>0.000000</td>\n",
       "      <td>0.005348</td>\n",
       "      <td>0.00</td>\n",
       "      <td>0.000000</td>\n",
       "      <td>0.000000</td>\n",
       "      <td>0.005435</td>\n",
       "    </tr>\n",
       "    <tr>\n",
       "      <th>1</th>\n",
       "      <td>0.000000</td>\n",
       "      <td>0.160428</td>\n",
       "      <td>0.15</td>\n",
       "      <td>0.431694</td>\n",
       "      <td>0.000000</td>\n",
       "      <td>0.130435</td>\n",
       "    </tr>\n",
       "    <tr>\n",
       "      <th>2</th>\n",
       "      <td>0.000000</td>\n",
       "      <td>0.176471</td>\n",
       "      <td>0.15</td>\n",
       "      <td>0.442623</td>\n",
       "      <td>0.000000</td>\n",
       "      <td>0.146739</td>\n",
       "    </tr>\n",
       "    <tr>\n",
       "      <th>3</th>\n",
       "      <td>0.000000</td>\n",
       "      <td>0.219251</td>\n",
       "      <td>0.15</td>\n",
       "      <td>0.453552</td>\n",
       "      <td>0.000000</td>\n",
       "      <td>0.201087</td>\n",
       "    </tr>\n",
       "    <tr>\n",
       "      <th>4</th>\n",
       "      <td>0.027778</td>\n",
       "      <td>0.219251</td>\n",
       "      <td>0.15</td>\n",
       "      <td>0.469945</td>\n",
       "      <td>0.051282</td>\n",
       "      <td>0.201087</td>\n",
       "    </tr>\n",
       "  </tbody>\n",
       "</table>\n",
       "</div>"
      ],
      "text/plain": [
       "   FPR_LOGIT  TPR_LOGIT  FPR_RF    TPR_RF   FPR_ALD   TPR_ALD\n",
       "0   0.000000   0.005348    0.00  0.000000  0.000000  0.005435\n",
       "1   0.000000   0.160428    0.15  0.431694  0.000000  0.130435\n",
       "2   0.000000   0.176471    0.15  0.442623  0.000000  0.146739\n",
       "3   0.000000   0.219251    0.15  0.453552  0.000000  0.201087\n",
       "4   0.027778   0.219251    0.15  0.469945  0.051282  0.201087"
      ]
     },
     "execution_count": 59,
     "metadata": {},
     "output_type": "execute_result"
    }
   ],
   "source": [
    "df_roc_rf = pd.DataFrame()\n",
    "df_roc_logit = pd.DataFrame()\n",
    "df_roc_ald = pd.DataFrame()\n",
    "fpr = list(fpr_global.values())\n",
    "fpr_logit = fpr[0]\n",
    "fpr_rf = fpr[1]\n",
    "fpr_ald = fpr[2]\n",
    "\n",
    "tpr = list(tpr_global.values())\n",
    "tpr_logit = tpr[0]\n",
    "tpr_rf = tpr[1]\n",
    "tpr_ald = tpr[2]\n",
    "\n",
    "df_roc_logit[\"FPR_LOGIT\"] = fpr_logit\n",
    "df_roc_logit[\"TPR_LOGIT\"] = tpr_logit\n",
    "df_roc_rf[\"FPR_RF\"] = fpr_rf\n",
    "df_roc_rf[\"TPR_RF\"] = tpr_rf\n",
    "df_roc_ald[\"FPR_ALD\"] = fpr_ald\n",
    "df_roc_ald[\"TPR_ALD\"] = tpr_ald\n",
    "\n",
    "df_roc = df_roc_logit.join(df_roc_rf).join(df_roc_ald)\n",
    "\n",
    "# On remplace les NaN à la fin de certaines colonnes par 1 : \n",
    "# c'est la dernière valeur de chaque colonne \n",
    "df_roc = df_roc.fillna(1)\n",
    "\n",
    "df_roc.head()"
   ]
  },
  {
   "cell_type": "markdown",
   "metadata": {},
   "source": [
    "#### On termine les processus de MongoDB, Spark"
   ]
  },
  {
   "cell_type": "code",
   "execution_count": 22,
   "metadata": {},
   "outputs": [
    {
     "name": "stdout",
     "output_type": "stream",
     "text": [
      "Ending MongoDB Process ...\n",
      "Ended MongoDB Process.\n",
      "Ending pyspark Process...\n",
      "Ended pyspark Process.\n"
     ]
    }
   ],
   "source": [
    "# Ending MondoDB\n",
    "print(\"Ending MongoDB Process ...\")\n",
    "if platform.system() == \"Darwin\":\n",
    "    pass_proc = subprocess.Popen([\"echo\", str(passwd)],\n",
    "                                stdout=subprocess.PIPE)\n",
    "    mongod_pid = subprocess.check_output([\"pgrep\", \"mongod\"])\n",
    "    mongod_pid = mongod_pid.decode('utf-8')\n",
    "    mongod_pid = mongod_pid.replace(\"\\n\", \"\")\n",
    "    kill_proc = subprocess.Popen([\"sudo\", \"-S\", \"kill\", str(mongod_pid)],\n",
    "                                  stdin=pass_proc.stdout,\n",
    "                                  stdout=subprocess.PIPE)\n",
    "    kill_proc.communicate()\n",
    "    pass_proc.terminate()\n",
    "    kill_proc.terminate()\n",
    "    \n",
    "if platform.system() == \"Windows\":\n",
    "    mongo_proc.kill\n",
    "if platform.system() == \"Linux\":\n",
    "    mongo_proc.kill\n",
    "    \n",
    "print(\"Ended MongoDB Process.\")\n",
    "\n",
    "# Ending pypark\n",
    "print(\"Ending pyspark Process...\")\n",
    "sc.stop()\n",
    "print(\"Ended pyspark Process.\")\n"
   ]
  },
  {
   "cell_type": "code",
   "execution_count": 219,
   "metadata": {},
   "outputs": [
    {
     "data": {
      "text/plain": [
       "<bound method Popen.kill of <subprocess.Popen object at 0x7f7711552c18>>"
      ]
     },
     "execution_count": 219,
     "metadata": {},
     "output_type": "execute_result"
    }
   ],
   "source": [
    "#mongo_proc.kill"
   ]
  }
 ],
 "metadata": {
  "kernelspec": {
   "display_name": "Python 3",
   "language": "python",
   "name": "python3"
  },
  "language_info": {
   "codemirror_mode": {
    "name": "ipython",
    "version": 3
   },
   "file_extension": ".py",
   "mimetype": "text/x-python",
   "name": "python",
   "nbconvert_exporter": "python",
   "pygments_lexer": "ipython3",
   "version": "3.6.4"
  }
 },
 "nbformat": 4,
 "nbformat_minor": 2
}
